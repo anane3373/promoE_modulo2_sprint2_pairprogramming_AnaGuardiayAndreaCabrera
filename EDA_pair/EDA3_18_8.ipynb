{
 "cells": [
  {
   "cell_type": "markdown",
   "metadata": {},
   "source": [
    "# EDA 3 18/8"
   ]
  },
  {
   "cell_type": "markdown",
   "metadata": {},
   "source": [
    "Nota Como siempre, después de cada gráfica incluid una pequeña explicación de lo que nos está mostrando la gráfica."
   ]
  },
  {
   "cell_type": "markdown",
   "metadata": {},
   "source": [
    "1. Estableced el tamaño de las figuras al inicio de vuestro jupyter para que todas tengan las mismas dimensiones."
   ]
  },
  {
   "cell_type": "code",
   "execution_count": 2,
   "metadata": {},
   "outputs": [],
   "source": [
    "import pandas as pd\n",
    "import numpy as np\n",
    "import seaborn as sns\n",
    "import matplotlib.pyplot as plt\n",
    "import sidetable\n",
    "plt.rcParams[\"figure.figsize\"] = (10,8)\n",
    "import warnings\n",
    "warnings.filterwarnings('ignore')"
   ]
  },
  {
   "cell_type": "markdown",
   "metadata": {},
   "source": [
    "2. Manos a la obra con los plots, estos irán muy dirigidos hacia las preguntas que queremos contestar, para hacer una primera aproximación a nuestras hipótesis:\n",
    "- En la primera gráfica tendremos que contestar la siguiente pregunta: ¿Son los tickets con mayor severidad y prioridad los que se resuelven antes?. Para eso tendréis que:\n",
    "Crear un subplot con dos gráficas.\n",
    "  - En la primera gráfica tendréis que mostrar la relación que existe entre la severidad y el tiempo de resolución. ¿Son los tickets que tienen una severidad más alta los que más tardan en resolverse?\n",
    "  - En la segunda gráfica tendréis que mostrar la relación que existe entre la prioridad y el tiempo de resolución. ¿Son los tickets que tienen una prioridad más alta los que más tardan en resolverse?"
   ]
  },
  {
   "cell_type": "code",
   "execution_count": 3,
   "metadata": {},
   "outputs": [],
   "source": [
    "df = pd.read_csv(\"data/historico_tickets_limpio_pandas.csv\", index_col = 0)"
   ]
  },
  {
   "cell_type": "code",
   "execution_count": 4,
   "metadata": {},
   "outputs": [
    {
     "data": {
      "text/html": [
       "<div>\n",
       "<style scoped>\n",
       "    .dataframe tbody tr th:only-of-type {\n",
       "        vertical-align: middle;\n",
       "    }\n",
       "\n",
       "    .dataframe tbody tr th {\n",
       "        vertical-align: top;\n",
       "    }\n",
       "\n",
       "    .dataframe thead th {\n",
       "        text-align: right;\n",
       "    }\n",
       "</style>\n",
       "<table border=\"1\" class=\"dataframe\">\n",
       "  <thead>\n",
       "    <tr style=\"text-align: right;\">\n",
       "      <th></th>\n",
       "      <th>id_ticket</th>\n",
       "      <th>fecha</th>\n",
       "      <th>id_empleado</th>\n",
       "      <th>id_agente</th>\n",
       "      <th>categoría</th>\n",
       "      <th>tipo</th>\n",
       "      <th>severidad</th>\n",
       "      <th>prioridad</th>\n",
       "      <th>días_resolución</th>\n",
       "      <th>satisfacción</th>\n",
       "      <th>semestre</th>\n",
       "      <th>año</th>\n",
       "      <th>mes</th>\n",
       "    </tr>\n",
       "  </thead>\n",
       "  <tbody>\n",
       "    <tr>\n",
       "      <th>0</th>\n",
       "      <td>GDDENR-5042564453</td>\n",
       "      <td>2016-07-13</td>\n",
       "      <td>1735</td>\n",
       "      <td>4</td>\n",
       "      <td>Acceso/Login</td>\n",
       "      <td>Problema</td>\n",
       "      <td>0 - Sin Clasificar</td>\n",
       "      <td>0 - Sin Asignar</td>\n",
       "      <td>0</td>\n",
       "      <td>5</td>\n",
       "      <td>2º semestre</td>\n",
       "      <td>2016</td>\n",
       "      <td>Julio</td>\n",
       "    </tr>\n",
       "    <tr>\n",
       "      <th>1</th>\n",
       "      <td>GDDENR-8042508060</td>\n",
       "      <td>2016-05-18</td>\n",
       "      <td>1566</td>\n",
       "      <td>10</td>\n",
       "      <td>Acceso/Login</td>\n",
       "      <td>Problema</td>\n",
       "      <td>0 - Sin Clasificar</td>\n",
       "      <td>0 - Sin Asignar</td>\n",
       "      <td>0</td>\n",
       "      <td>5</td>\n",
       "      <td>1 semestre</td>\n",
       "      <td>2016</td>\n",
       "      <td>Mayo</td>\n",
       "    </tr>\n",
       "  </tbody>\n",
       "</table>\n",
       "</div>"
      ],
      "text/plain": [
       "           id_ticket       fecha  id_empleado  id_agente     categoría  \\\n",
       "0  GDDENR-5042564453  2016-07-13         1735          4  Acceso/Login   \n",
       "1  GDDENR-8042508060  2016-05-18         1566         10  Acceso/Login   \n",
       "\n",
       "       tipo           severidad        prioridad  días_resolución  \\\n",
       "0  Problema  0 - Sin Clasificar  0 - Sin Asignar                0   \n",
       "1  Problema  0 - Sin Clasificar  0 - Sin Asignar                0   \n",
       "\n",
       "   satisfacción     semestre   año    mes  \n",
       "0             5  2º semestre  2016  Julio  \n",
       "1             5   1 semestre  2016   Mayo  "
      ]
     },
     "execution_count": 4,
     "metadata": {},
     "output_type": "execute_result"
    }
   ],
   "source": [
    "df.head(2)"
   ]
  },
  {
   "cell_type": "code",
   "execution_count": 5,
   "metadata": {},
   "outputs": [
    {
     "name": "stdout",
     "output_type": "stream",
     "text": [
      "<class 'pandas.core.frame.DataFrame'>\n",
      "Index: 97386 entries, 0 to 29087\n",
      "Data columns (total 13 columns):\n",
      " #   Column           Non-Null Count  Dtype \n",
      "---  ------           --------------  ----- \n",
      " 0   id_ticket        97386 non-null  object\n",
      " 1   fecha            97386 non-null  object\n",
      " 2   id_empleado      97386 non-null  int64 \n",
      " 3   id_agente        97386 non-null  int64 \n",
      " 4   categoría        97386 non-null  object\n",
      " 5   tipo             97386 non-null  object\n",
      " 6   severidad        97386 non-null  object\n",
      " 7   prioridad        97386 non-null  object\n",
      " 8   días_resolución  97386 non-null  int64 \n",
      " 9   satisfacción     97386 non-null  int64 \n",
      " 10  semestre         97386 non-null  object\n",
      " 11  año              97386 non-null  int64 \n",
      " 12  mes              97386 non-null  object\n",
      "dtypes: int64(5), object(8)\n",
      "memory usage: 10.4+ MB\n"
     ]
    }
   ],
   "source": [
    "df.info()"
   ]
  },
  {
   "cell_type": "code",
   "execution_count": 10,
   "metadata": {},
   "outputs": [
    {
     "data": {
      "text/plain": [
       "<Axes: xlabel='severidad', ylabel='días_resolución'>"
      ]
     },
     "execution_count": 10,
     "metadata": {},
     "output_type": "execute_result"
    },
    {
     "data": {
      "image/png": "[encoded data removed]",
      "text/plain": [
       "<Figure size 1000x800 with 1 Axes>"
      ]
     },
     "metadata": {},
     "output_type": "display_data"
    }
   ],
   "source": [
    "sns.pointplot(x = \"severidad\", y = \"días_resolución\", data = df)"
   ]
  },
  {
   "cell_type": "markdown",
   "metadata": {},
   "source": [
    "Los tickets con mayor severidad son los que se resuelven antes con una media de dos días para resolver."
   ]
  },
  {
   "cell_type": "code",
   "execution_count": 9,
   "metadata": {},
   "outputs": [
    {
     "data": {
      "text/plain": [
       "<Axes: xlabel='prioridad', ylabel='días_resolución'>"
      ]
     },
     "execution_count": 9,
     "metadata": {},
     "output_type": "execute_result"
    },
    {
     "data": {
      "image/png": "[encoded data removed]",
      "text/plain": [
       "<Figure size 1000x800 with 1 Axes>"
      ]
     },
     "metadata": {},
     "output_type": "display_data"
    }
   ],
   "source": [
    "sns.pointplot(x = \"prioridad\", y = \"días_resolución\", data = df)"
   ]
  },
  {
   "cell_type": "markdown",
   "metadata": {},
   "source": [
    "Efectivamente, existe una estrecha relación entre la prioridad y el tiempo de resolución, ya que los tickets que tienen una prioridad alta tardan en resolverse una media de tres días y medio, y los que tienen prioridad media tardan alrededor de cuatro días de media. Sin embargo, los tickets que tienen una prioridad baja tardan una media de seis días en resolverse, así como los tickets que están sin asignar cuentan con una media casi de cinco días y medio en resolverse. Por lo tanto, vemos con estas dos gráficas que los tickets con mayor severidad y prioridad son los que se resuelven antes."
   ]
  },
  {
   "cell_type": "markdown",
   "metadata": {},
   "source": [
    "- En la segunda gráfica contestaremos a la siguiente pregunta: ¿Están los clientes con problemas de acceso y login más contentos que los que tienen problemas de software?. Para eso tendréis que:\n",
    "  - Crear otro dataframe donde tengáis solo los datos para los datos para los problemas de tipo \"Acceso/Login\" o \"Software\".\n",
    "  - Crear una gráfica donde podamos ver la satisfacción de los clientes en función de los problemas filtrados en el paso anterior."
   ]
  },
  {
   "cell_type": "code",
   "execution_count": 11,
   "metadata": {},
   "outputs": [
    {
     "data": {
      "text/plain": [
       "array(['Problema', 'Solicitud'], dtype=object)"
      ]
     },
     "execution_count": 11,
     "metadata": {},
     "output_type": "execute_result"
    }
   ],
   "source": [
    "df['tipo'].unique()"
   ]
  },
  {
   "cell_type": "code",
   "execution_count": 12,
   "metadata": {},
   "outputs": [
    {
     "data": {
      "text/plain": [
       "array(['Acceso/Login', 'Sistema', 'Software', 'Hardware'], dtype=object)"
      ]
     },
     "execution_count": 12,
     "metadata": {},
     "output_type": "execute_result"
    }
   ],
   "source": [
    "df['categoría'].unique()"
   ]
  },
  {
   "cell_type": "code",
   "execution_count": 13,
   "metadata": {},
   "outputs": [
    {
     "data": {
      "text/html": [
       "<div>\n",
       "<style scoped>\n",
       "    .dataframe tbody tr th:only-of-type {\n",
       "        vertical-align: middle;\n",
       "    }\n",
       "\n",
       "    .dataframe tbody tr th {\n",
       "        vertical-align: top;\n",
       "    }\n",
       "\n",
       "    .dataframe thead th {\n",
       "        text-align: right;\n",
       "    }\n",
       "</style>\n",
       "<table border=\"1\" class=\"dataframe\">\n",
       "  <thead>\n",
       "    <tr style=\"text-align: right;\">\n",
       "      <th></th>\n",
       "      <th>id_ticket</th>\n",
       "      <th>fecha</th>\n",
       "      <th>id_empleado</th>\n",
       "      <th>id_agente</th>\n",
       "      <th>categoría</th>\n",
       "      <th>tipo</th>\n",
       "      <th>severidad</th>\n",
       "      <th>prioridad</th>\n",
       "      <th>días_resolución</th>\n",
       "      <th>satisfacción</th>\n",
       "      <th>semestre</th>\n",
       "      <th>año</th>\n",
       "      <th>mes</th>\n",
       "    </tr>\n",
       "  </thead>\n",
       "  <tbody>\n",
       "    <tr>\n",
       "      <th>0</th>\n",
       "      <td>GDDENR-5042564453</td>\n",
       "      <td>2016-07-13</td>\n",
       "      <td>1735</td>\n",
       "      <td>4</td>\n",
       "      <td>Acceso/Login</td>\n",
       "      <td>Problema</td>\n",
       "      <td>0 - Sin Clasificar</td>\n",
       "      <td>0 - Sin Asignar</td>\n",
       "      <td>0</td>\n",
       "      <td>5</td>\n",
       "      <td>2º semestre</td>\n",
       "      <td>2016</td>\n",
       "      <td>Julio</td>\n",
       "    </tr>\n",
       "    <tr>\n",
       "      <th>1</th>\n",
       "      <td>GDDENR-8042508060</td>\n",
       "      <td>2016-05-18</td>\n",
       "      <td>1566</td>\n",
       "      <td>10</td>\n",
       "      <td>Acceso/Login</td>\n",
       "      <td>Problema</td>\n",
       "      <td>0 - Sin Clasificar</td>\n",
       "      <td>0 - Sin Asignar</td>\n",
       "      <td>0</td>\n",
       "      <td>5</td>\n",
       "      <td>1 semestre</td>\n",
       "      <td>2016</td>\n",
       "      <td>Mayo</td>\n",
       "    </tr>\n",
       "  </tbody>\n",
       "</table>\n",
       "</div>"
      ],
      "text/plain": [
       "           id_ticket       fecha  id_empleado  id_agente     categoría  \\\n",
       "0  GDDENR-5042564453  2016-07-13         1735          4  Acceso/Login   \n",
       "1  GDDENR-8042508060  2016-05-18         1566         10  Acceso/Login   \n",
       "\n",
       "       tipo           severidad        prioridad  días_resolución  \\\n",
       "0  Problema  0 - Sin Clasificar  0 - Sin Asignar                0   \n",
       "1  Problema  0 - Sin Clasificar  0 - Sin Asignar                0   \n",
       "\n",
       "   satisfacción     semestre   año    mes  \n",
       "0             5  2º semestre  2016  Julio  \n",
       "1             5   1 semestre  2016   Mayo  "
      ]
     },
     "execution_count": 13,
     "metadata": {},
     "output_type": "execute_result"
    }
   ],
   "source": [
    "df_problemas = df[(df[\"categoría\"] == \"Acceso/Login\") | (df[\"categoría\"]  == \"Software\")]\n",
    "df_problemas.head(2)"
   ]
  },
  {
   "cell_type": "code",
   "execution_count": 14,
   "metadata": {},
   "outputs": [
    {
     "data": {
      "image/png": "[encoded data removed]",
      "text/plain": [
       "<Figure size 1000x800 with 1 Axes>"
      ]
     },
     "metadata": {},
     "output_type": "display_data"
    }
   ],
   "source": [
    "sns.countplot(x = \"satisfacción\", hue = \"categoría\", data = df_problemas);"
   ]
  },
  {
   "cell_type": "markdown",
   "metadata": {},
   "source": [
    "- En la tercera gráfica contestaremos a las siguientes preguntas ¿Cuáles son los empleados que más tickets atienden? ¿Son los empleados que atienden más tickets los que tardan más en solucionar los problemas de los clientes? ¿Y la media de la satisfacción de los clientes es menor en aquellos empleados que atienden más solicitudes?. Para contestar a esto haremos 3 gráficas independientes:"
   ]
  },
  {
   "cell_type": "markdown",
   "metadata": {},
   "source": [
    "  - En la primera gráfica deberemos, ¿Cuáles son los empleados que más tickets atienden?:\n",
    "      - Sacar el número de tickets por empleado. Pista 💡 Para esto tendremos que usar un groupby.\n",
    "      - Visualizar el resultado del groupby anterior con la gráfica que sea más adecuada."
   ]
  },
  {
   "cell_type": "code",
   "execution_count": 15,
   "metadata": {},
   "outputs": [
    {
     "data": {
      "text/html": [
       "<div>\n",
       "<style scoped>\n",
       "    .dataframe tbody tr th:only-of-type {\n",
       "        vertical-align: middle;\n",
       "    }\n",
       "\n",
       "    .dataframe tbody tr th {\n",
       "        vertical-align: top;\n",
       "    }\n",
       "\n",
       "    .dataframe thead th {\n",
       "        text-align: right;\n",
       "    }\n",
       "</style>\n",
       "<table border=\"1\" class=\"dataframe\">\n",
       "  <thead>\n",
       "    <tr style=\"text-align: right;\">\n",
       "      <th></th>\n",
       "      <th>id_ticket</th>\n",
       "      <th>fecha</th>\n",
       "      <th>id_empleado</th>\n",
       "      <th>id_agente</th>\n",
       "      <th>categoría</th>\n",
       "      <th>tipo</th>\n",
       "      <th>severidad</th>\n",
       "      <th>prioridad</th>\n",
       "      <th>días_resolución</th>\n",
       "      <th>satisfacción</th>\n",
       "      <th>semestre</th>\n",
       "      <th>año</th>\n",
       "      <th>mes</th>\n",
       "    </tr>\n",
       "  </thead>\n",
       "  <tbody>\n",
       "    <tr>\n",
       "      <th>0</th>\n",
       "      <td>GDDENR-5042564453</td>\n",
       "      <td>2016-07-13</td>\n",
       "      <td>1735</td>\n",
       "      <td>4</td>\n",
       "      <td>Acceso/Login</td>\n",
       "      <td>Problema</td>\n",
       "      <td>0 - Sin Clasificar</td>\n",
       "      <td>0 - Sin Asignar</td>\n",
       "      <td>0</td>\n",
       "      <td>5</td>\n",
       "      <td>2º semestre</td>\n",
       "      <td>2016</td>\n",
       "      <td>Julio</td>\n",
       "    </tr>\n",
       "    <tr>\n",
       "      <th>1</th>\n",
       "      <td>GDDENR-8042508060</td>\n",
       "      <td>2016-05-18</td>\n",
       "      <td>1566</td>\n",
       "      <td>10</td>\n",
       "      <td>Acceso/Login</td>\n",
       "      <td>Problema</td>\n",
       "      <td>0 - Sin Clasificar</td>\n",
       "      <td>0 - Sin Asignar</td>\n",
       "      <td>0</td>\n",
       "      <td>5</td>\n",
       "      <td>1 semestre</td>\n",
       "      <td>2016</td>\n",
       "      <td>Mayo</td>\n",
       "    </tr>\n",
       "    <tr>\n",
       "      <th>2</th>\n",
       "      <td>GDDESR-1342539995</td>\n",
       "      <td>2016-06-18</td>\n",
       "      <td>569</td>\n",
       "      <td>29</td>\n",
       "      <td>Sistema</td>\n",
       "      <td>Problema</td>\n",
       "      <td>0 - Sin Clasificar</td>\n",
       "      <td>0 - Sin Asignar</td>\n",
       "      <td>3</td>\n",
       "      <td>5</td>\n",
       "      <td>1 semestre</td>\n",
       "      <td>2016</td>\n",
       "      <td>Junio</td>\n",
       "    </tr>\n",
       "    <tr>\n",
       "      <th>3</th>\n",
       "      <td>GDDTSR-5942488006</td>\n",
       "      <td>2016-04-28</td>\n",
       "      <td>320</td>\n",
       "      <td>40</td>\n",
       "      <td>Sistema</td>\n",
       "      <td>Solicitud</td>\n",
       "      <td>0 - Sin Clasificar</td>\n",
       "      <td>0 - Sin Asignar</td>\n",
       "      <td>9</td>\n",
       "      <td>5</td>\n",
       "      <td>1 semestre</td>\n",
       "      <td>2016</td>\n",
       "      <td>Abril</td>\n",
       "    </tr>\n",
       "    <tr>\n",
       "      <th>4</th>\n",
       "      <td>GDLEER-0042524120</td>\n",
       "      <td>2016-06-03</td>\n",
       "      <td>1842</td>\n",
       "      <td>31</td>\n",
       "      <td>Software</td>\n",
       "      <td>Problema</td>\n",
       "      <td>2 - Normal</td>\n",
       "      <td>0 - Sin Asignar</td>\n",
       "      <td>0</td>\n",
       "      <td>5</td>\n",
       "      <td>1 semestre</td>\n",
       "      <td>2016</td>\n",
       "      <td>Junio</td>\n",
       "    </tr>\n",
       "    <tr>\n",
       "      <th>...</th>\n",
       "      <td>...</td>\n",
       "      <td>...</td>\n",
       "      <td>...</td>\n",
       "      <td>...</td>\n",
       "      <td>...</td>\n",
       "      <td>...</td>\n",
       "      <td>...</td>\n",
       "      <td>...</td>\n",
       "      <td>...</td>\n",
       "      <td>...</td>\n",
       "      <td>...</td>\n",
       "      <td>...</td>\n",
       "      <td>...</td>\n",
       "    </tr>\n",
       "    <tr>\n",
       "      <th>29083</th>\n",
       "      <td>TWRTSR-8543883120</td>\n",
       "      <td>2020-02-22</td>\n",
       "      <td>1142</td>\n",
       "      <td>1</td>\n",
       "      <td>Sistema</td>\n",
       "      <td>Solicitud</td>\n",
       "      <td>3 - Mayor</td>\n",
       "      <td>1 - Baja</td>\n",
       "      <td>11</td>\n",
       "      <td>5</td>\n",
       "      <td>1 semestre</td>\n",
       "      <td>2020</td>\n",
       "      <td>Febrero</td>\n",
       "    </tr>\n",
       "    <tr>\n",
       "      <th>29084</th>\n",
       "      <td>TWRTSR-8744097039</td>\n",
       "      <td>2020-09-23</td>\n",
       "      <td>223</td>\n",
       "      <td>40</td>\n",
       "      <td>Sistema</td>\n",
       "      <td>Solicitud</td>\n",
       "      <td>1 - Menor</td>\n",
       "      <td>1 - Baja</td>\n",
       "      <td>7</td>\n",
       "      <td>4</td>\n",
       "      <td>2º semestre</td>\n",
       "      <td>2020</td>\n",
       "      <td>Septiembre</td>\n",
       "    </tr>\n",
       "    <tr>\n",
       "      <th>29085</th>\n",
       "      <td>TWRTSR-9643846768</td>\n",
       "      <td>2020-01-16</td>\n",
       "      <td>256</td>\n",
       "      <td>7</td>\n",
       "      <td>Sistema</td>\n",
       "      <td>Solicitud</td>\n",
       "      <td>3 - Mayor</td>\n",
       "      <td>1 - Baja</td>\n",
       "      <td>13</td>\n",
       "      <td>5</td>\n",
       "      <td>1 semestre</td>\n",
       "      <td>2020</td>\n",
       "      <td>Enero</td>\n",
       "    </tr>\n",
       "    <tr>\n",
       "      <th>29086</th>\n",
       "      <td>TWRTSR-9944138906</td>\n",
       "      <td>2020-11-03</td>\n",
       "      <td>1060</td>\n",
       "      <td>9</td>\n",
       "      <td>Sistema</td>\n",
       "      <td>Solicitud</td>\n",
       "      <td>1 - Menor</td>\n",
       "      <td>1 - Baja</td>\n",
       "      <td>9</td>\n",
       "      <td>5</td>\n",
       "      <td>2º semestre</td>\n",
       "      <td>2020</td>\n",
       "      <td>Noviembre</td>\n",
       "    </tr>\n",
       "    <tr>\n",
       "      <th>29087</th>\n",
       "      <td>TWRTST-8643986162</td>\n",
       "      <td>2020-06-04</td>\n",
       "      <td>1876</td>\n",
       "      <td>41</td>\n",
       "      <td>Sistema</td>\n",
       "      <td>Solicitud</td>\n",
       "      <td>1 - Menor</td>\n",
       "      <td>1 - Baja</td>\n",
       "      <td>6</td>\n",
       "      <td>4</td>\n",
       "      <td>1 semestre</td>\n",
       "      <td>2020</td>\n",
       "      <td>Junio</td>\n",
       "    </tr>\n",
       "  </tbody>\n",
       "</table>\n",
       "<p>97386 rows × 13 columns</p>\n",
       "</div>"
      ],
      "text/plain": [
       "               id_ticket       fecha  id_empleado  id_agente     categoría  \\\n",
       "0      GDDENR-5042564453  2016-07-13         1735          4  Acceso/Login   \n",
       "1      GDDENR-8042508060  2016-05-18         1566         10  Acceso/Login   \n",
       "2      GDDESR-1342539995  2016-06-18          569         29       Sistema   \n",
       "3      GDDTSR-5942488006  2016-04-28          320         40       Sistema   \n",
       "4      GDLEER-0042524120  2016-06-03         1842         31      Software   \n",
       "...                  ...         ...          ...        ...           ...   \n",
       "29083  TWRTSR-8543883120  2020-02-22         1142          1       Sistema   \n",
       "29084  TWRTSR-8744097039  2020-09-23          223         40       Sistema   \n",
       "29085  TWRTSR-9643846768  2020-01-16          256          7       Sistema   \n",
       "29086  TWRTSR-9944138906  2020-11-03         1060          9       Sistema   \n",
       "29087  TWRTST-8643986162  2020-06-04         1876         41       Sistema   \n",
       "\n",
       "            tipo           severidad        prioridad  días_resolución  \\\n",
       "0       Problema  0 - Sin Clasificar  0 - Sin Asignar                0   \n",
       "1       Problema  0 - Sin Clasificar  0 - Sin Asignar                0   \n",
       "2       Problema  0 - Sin Clasificar  0 - Sin Asignar                3   \n",
       "3      Solicitud  0 - Sin Clasificar  0 - Sin Asignar                9   \n",
       "4       Problema          2 - Normal  0 - Sin Asignar                0   \n",
       "...          ...                 ...              ...              ...   \n",
       "29083  Solicitud           3 - Mayor         1 - Baja               11   \n",
       "29084  Solicitud           1 - Menor         1 - Baja                7   \n",
       "29085  Solicitud           3 - Mayor         1 - Baja               13   \n",
       "29086  Solicitud           1 - Menor         1 - Baja                9   \n",
       "29087  Solicitud           1 - Menor         1 - Baja                6   \n",
       "\n",
       "       satisfacción     semestre   año         mes  \n",
       "0                 5  2º semestre  2016       Julio  \n",
       "1                 5   1 semestre  2016        Mayo  \n",
       "2                 5   1 semestre  2016       Junio  \n",
       "3                 5   1 semestre  2016       Abril  \n",
       "4                 5   1 semestre  2016       Junio  \n",
       "...             ...          ...   ...         ...  \n",
       "29083             5   1 semestre  2020     Febrero  \n",
       "29084             4  2º semestre  2020  Septiembre  \n",
       "29085             5   1 semestre  2020       Enero  \n",
       "29086             5  2º semestre  2020   Noviembre  \n",
       "29087             4   1 semestre  2020       Junio  \n",
       "\n",
       "[97386 rows x 13 columns]"
      ]
     },
     "execution_count": 15,
     "metadata": {},
     "output_type": "execute_result"
    }
   ],
   "source": [
    "df"
   ]
  },
  {
   "cell_type": "code",
   "execution_count": 16,
   "metadata": {},
   "outputs": [
    {
     "data": {
      "text/html": [
       "<div>\n",
       "<style scoped>\n",
       "    .dataframe tbody tr th:only-of-type {\n",
       "        vertical-align: middle;\n",
       "    }\n",
       "\n",
       "    .dataframe tbody tr th {\n",
       "        vertical-align: top;\n",
       "    }\n",
       "\n",
       "    .dataframe thead th {\n",
       "        text-align: right;\n",
       "    }\n",
       "</style>\n",
       "<table border=\"1\" class=\"dataframe\">\n",
       "  <thead>\n",
       "    <tr style=\"text-align: right;\">\n",
       "      <th></th>\n",
       "      <th>id_empleado</th>\n",
       "      <th>id_ticket</th>\n",
       "    </tr>\n",
       "  </thead>\n",
       "  <tbody>\n",
       "    <tr>\n",
       "      <th>753</th>\n",
       "      <td>754</td>\n",
       "      <td>73</td>\n",
       "    </tr>\n",
       "    <tr>\n",
       "      <th>284</th>\n",
       "      <td>285</td>\n",
       "      <td>73</td>\n",
       "    </tr>\n",
       "    <tr>\n",
       "      <th>635</th>\n",
       "      <td>636</td>\n",
       "      <td>71</td>\n",
       "    </tr>\n",
       "    <tr>\n",
       "      <th>522</th>\n",
       "      <td>523</td>\n",
       "      <td>69</td>\n",
       "    </tr>\n",
       "    <tr>\n",
       "      <th>78</th>\n",
       "      <td>79</td>\n",
       "      <td>69</td>\n",
       "    </tr>\n",
       "    <tr>\n",
       "      <th>...</th>\n",
       "      <td>...</td>\n",
       "      <td>...</td>\n",
       "    </tr>\n",
       "    <tr>\n",
       "      <th>1617</th>\n",
       "      <td>1618</td>\n",
       "      <td>31</td>\n",
       "    </tr>\n",
       "    <tr>\n",
       "      <th>71</th>\n",
       "      <td>72</td>\n",
       "      <td>31</td>\n",
       "    </tr>\n",
       "    <tr>\n",
       "      <th>1194</th>\n",
       "      <td>1195</td>\n",
       "      <td>29</td>\n",
       "    </tr>\n",
       "    <tr>\n",
       "      <th>98</th>\n",
       "      <td>99</td>\n",
       "      <td>27</td>\n",
       "    </tr>\n",
       "    <tr>\n",
       "      <th>792</th>\n",
       "      <td>793</td>\n",
       "      <td>26</td>\n",
       "    </tr>\n",
       "  </tbody>\n",
       "</table>\n",
       "<p>2000 rows × 2 columns</p>\n",
       "</div>"
      ],
      "text/plain": [
       "      id_empleado  id_ticket\n",
       "753           754         73\n",
       "284           285         73\n",
       "635           636         71\n",
       "522           523         69\n",
       "78             79         69\n",
       "...           ...        ...\n",
       "1617         1618         31\n",
       "71             72         31\n",
       "1194         1195         29\n",
       "98             99         27\n",
       "792           793         26\n",
       "\n",
       "[2000 rows x 2 columns]"
      ]
     },
     "execution_count": 16,
     "metadata": {},
     "output_type": "execute_result"
    }
   ],
   "source": [
    "groupby = df.groupby(\"id_empleado\")[\"id_ticket\"].count()\n",
    "df_groupby = pd.DataFrame(groupby).reset_index()\n",
    "df_empleados_sort_ticket = df_groupby.sort_values(\"id_ticket\", ascending = False)\n",
    "df_empleados_sort_ticket"
   ]
  },
  {
   "cell_type": "code",
   "execution_count": 18,
   "metadata": {},
   "outputs": [
    {
     "data": {
      "text/plain": [
       "<Axes: xlabel='id_empleado', ylabel='id_ticket'>"
      ]
     },
     "execution_count": 18,
     "metadata": {},
     "output_type": "execute_result"
    },
    {
     "data": {
      "image/png": "[encoded data removed]",
      "text/plain": [
       "<Figure size 1000x800 with 1 Axes>"
      ]
     },
     "metadata": {},
     "output_type": "display_data"
    }
   ],
   "source": [
    "sns.barplot(x = \"id_empleado\", y = \"id_ticket\", data = df_empleados_sort_ticket)"
   ]
  },
  {
   "cell_type": "markdown",
   "metadata": {},
   "source": [
    "- En la segunda gráfica, ¿Son los empleados que atienden más tickets los que tardan más en solucionar los problemas de los clientes?\n",
    "  - Deberéis crear una lista donde tengamos los \"id's\" de los 10 empleados que resuelvan más cantidad tickets y con los 10 empleados que resuelvan menos cantidad de tickets.\n",
    "  - Usando la lista generada en el ejercicio anterior filtrad el dataframe para quedaros solo con los 10 seleccionados en el ejercicio anterior.\n",
    "  - Una vez tengáis el dataframe filtrado, cread una gráfica donde veamos el tiempo de resolución de solicitudes para cada empleado"
   ]
  },
  {
   "cell_type": "code",
   "execution_count": 22,
   "metadata": {},
   "outputs": [
    {
     "data": {
      "text/html": [
       "<div>\n",
       "<style scoped>\n",
       "    .dataframe tbody tr th:only-of-type {\n",
       "        vertical-align: middle;\n",
       "    }\n",
       "\n",
       "    .dataframe tbody tr th {\n",
       "        vertical-align: top;\n",
       "    }\n",
       "\n",
       "    .dataframe thead th {\n",
       "        text-align: right;\n",
       "    }\n",
       "</style>\n",
       "<table border=\"1\" class=\"dataframe\">\n",
       "  <thead>\n",
       "    <tr style=\"text-align: right;\">\n",
       "      <th></th>\n",
       "      <th>id_empleado</th>\n",
       "      <th>id_ticket</th>\n",
       "    </tr>\n",
       "  </thead>\n",
       "  <tbody>\n",
       "    <tr>\n",
       "      <th>753</th>\n",
       "      <td>754</td>\n",
       "      <td>73</td>\n",
       "    </tr>\n",
       "    <tr>\n",
       "      <th>284</th>\n",
       "      <td>285</td>\n",
       "      <td>73</td>\n",
       "    </tr>\n",
       "    <tr>\n",
       "      <th>635</th>\n",
       "      <td>636</td>\n",
       "      <td>71</td>\n",
       "    </tr>\n",
       "    <tr>\n",
       "      <th>522</th>\n",
       "      <td>523</td>\n",
       "      <td>69</td>\n",
       "    </tr>\n",
       "    <tr>\n",
       "      <th>78</th>\n",
       "      <td>79</td>\n",
       "      <td>69</td>\n",
       "    </tr>\n",
       "    <tr>\n",
       "      <th>1340</th>\n",
       "      <td>1341</td>\n",
       "      <td>69</td>\n",
       "    </tr>\n",
       "    <tr>\n",
       "      <th>441</th>\n",
       "      <td>442</td>\n",
       "      <td>68</td>\n",
       "    </tr>\n",
       "    <tr>\n",
       "      <th>325</th>\n",
       "      <td>326</td>\n",
       "      <td>68</td>\n",
       "    </tr>\n",
       "    <tr>\n",
       "      <th>481</th>\n",
       "      <td>482</td>\n",
       "      <td>68</td>\n",
       "    </tr>\n",
       "    <tr>\n",
       "      <th>1447</th>\n",
       "      <td>1448</td>\n",
       "      <td>68</td>\n",
       "    </tr>\n",
       "  </tbody>\n",
       "</table>\n",
       "</div>"
      ],
      "text/plain": [
       "      id_empleado  id_ticket\n",
       "753           754         73\n",
       "284           285         73\n",
       "635           636         71\n",
       "522           523         69\n",
       "78             79         69\n",
       "1340         1341         69\n",
       "441           442         68\n",
       "325           326         68\n",
       "481           482         68\n",
       "1447         1448         68"
      ]
     },
     "execution_count": 22,
     "metadata": {},
     "output_type": "execute_result"
    }
   ],
   "source": [
    "df_empleados_sort_ticket_top = df_empleados_sort_ticket.head(10)\n",
    "df_empleados_sort_ticket_top"
   ]
  },
  {
   "cell_type": "code",
   "execution_count": 26,
   "metadata": {},
   "outputs": [
    {
     "data": {
      "text/plain": [
       "<Axes: xlabel='id_empleado', ylabel='id_ticket'>"
      ]
     },
     "execution_count": 26,
     "metadata": {},
     "output_type": "execute_result"
    },
    {
     "data": {
      "image/png": "[encoded data removed]",
      "text/plain": [
       "<Figure size 1000x800 with 1 Axes>"
      ]
     },
     "metadata": {},
     "output_type": "display_data"
    }
   ],
   "source": [
    "sns.barplot(x = \"id_empleado\", y = \"id_ticket\", data = df_empleados_sort_ticket_top)"
   ]
  },
  {
   "cell_type": "code",
   "execution_count": 23,
   "metadata": {},
   "outputs": [
    {
     "data": {
      "text/html": [
       "<div>\n",
       "<style scoped>\n",
       "    .dataframe tbody tr th:only-of-type {\n",
       "        vertical-align: middle;\n",
       "    }\n",
       "\n",
       "    .dataframe tbody tr th {\n",
       "        vertical-align: top;\n",
       "    }\n",
       "\n",
       "    .dataframe thead th {\n",
       "        text-align: right;\n",
       "    }\n",
       "</style>\n",
       "<table border=\"1\" class=\"dataframe\">\n",
       "  <thead>\n",
       "    <tr style=\"text-align: right;\">\n",
       "      <th></th>\n",
       "      <th>id_empleado</th>\n",
       "      <th>id_ticket</th>\n",
       "    </tr>\n",
       "  </thead>\n",
       "  <tbody>\n",
       "    <tr>\n",
       "      <th>792</th>\n",
       "      <td>793</td>\n",
       "      <td>26</td>\n",
       "    </tr>\n",
       "    <tr>\n",
       "      <th>98</th>\n",
       "      <td>99</td>\n",
       "      <td>27</td>\n",
       "    </tr>\n",
       "    <tr>\n",
       "      <th>1194</th>\n",
       "      <td>1195</td>\n",
       "      <td>29</td>\n",
       "    </tr>\n",
       "    <tr>\n",
       "      <th>1617</th>\n",
       "      <td>1618</td>\n",
       "      <td>31</td>\n",
       "    </tr>\n",
       "    <tr>\n",
       "      <th>71</th>\n",
       "      <td>72</td>\n",
       "      <td>31</td>\n",
       "    </tr>\n",
       "    <tr>\n",
       "      <th>1791</th>\n",
       "      <td>1792</td>\n",
       "      <td>32</td>\n",
       "    </tr>\n",
       "    <tr>\n",
       "      <th>606</th>\n",
       "      <td>607</td>\n",
       "      <td>32</td>\n",
       "    </tr>\n",
       "    <tr>\n",
       "      <th>685</th>\n",
       "      <td>686</td>\n",
       "      <td>32</td>\n",
       "    </tr>\n",
       "    <tr>\n",
       "      <th>1383</th>\n",
       "      <td>1384</td>\n",
       "      <td>32</td>\n",
       "    </tr>\n",
       "    <tr>\n",
       "      <th>1040</th>\n",
       "      <td>1041</td>\n",
       "      <td>33</td>\n",
       "    </tr>\n",
       "  </tbody>\n",
       "</table>\n",
       "</div>"
      ],
      "text/plain": [
       "      id_empleado  id_ticket\n",
       "792           793         26\n",
       "98             99         27\n",
       "1194         1195         29\n",
       "1617         1618         31\n",
       "71             72         31\n",
       "1791         1792         32\n",
       "606           607         32\n",
       "685           686         32\n",
       "1383         1384         32\n",
       "1040         1041         33"
      ]
     },
     "execution_count": 23,
     "metadata": {},
     "output_type": "execute_result"
    }
   ],
   "source": [
    "df_empleados_sort_ticket_tail = df_empleados_sort_ticket.tail(10).sort_values(\"id_ticket\", ascending = True)\n",
    "df_empleados_sort_ticket_tail"
   ]
  },
  {
   "cell_type": "code",
   "execution_count": 27,
   "metadata": {},
   "outputs": [
    {
     "data": {
      "text/plain": [
       "<Axes: xlabel='id_empleado', ylabel='id_ticket'>"
      ]
     },
     "execution_count": 27,
     "metadata": {},
     "output_type": "execute_result"
    },
    {
     "data": {
      "image/png": "[encoded data removed]",
      "text/plain": [
       "<Figure size 1000x800 with 1 Axes>"
      ]
     },
     "metadata": {},
     "output_type": "display_data"
    }
   ],
   "source": [
    "sns.barplot(x = \"id_empleado\", y = \"id_ticket\", data = df_empleados_sort_ticket_tail)"
   ]
  },
  {
   "cell_type": "markdown",
   "metadata": {},
   "source": [
    "- En la tercera gráfica, ¿Y la media de la satisfacción de los clientes es menor en aquellos empleados que atienden más solicitudes?:\n",
    "📌 Usaremos los mismos datos que en la pregunta anterior, el dataframe de los 10 empleados más productivos y menos productivos.\n",
    "  - Cread una gráfica donde veamos la satisfacción de los clientes para cada empleado."
   ]
  },
  {
   "cell_type": "code",
   "execution_count": 32,
   "metadata": {},
   "outputs": [
    {
     "data": {
      "text/html": [
       "<div>\n",
       "<style scoped>\n",
       "    .dataframe tbody tr th:only-of-type {\n",
       "        vertical-align: middle;\n",
       "    }\n",
       "\n",
       "    .dataframe tbody tr th {\n",
       "        vertical-align: top;\n",
       "    }\n",
       "\n",
       "    .dataframe thead th {\n",
       "        text-align: right;\n",
       "    }\n",
       "</style>\n",
       "<table border=\"1\" class=\"dataframe\">\n",
       "  <thead>\n",
       "    <tr style=\"text-align: right;\">\n",
       "      <th></th>\n",
       "      <th>id_empleado</th>\n",
       "      <th>satisfacción</th>\n",
       "      <th>id_ticket</th>\n",
       "    </tr>\n",
       "  </thead>\n",
       "  <tbody>\n",
       "    <tr>\n",
       "      <th>1</th>\n",
       "      <td>285</td>\n",
       "      <td>4.328767</td>\n",
       "      <td>73</td>\n",
       "    </tr>\n",
       "    <tr>\n",
       "      <th>0</th>\n",
       "      <td>79</td>\n",
       "      <td>4.260870</td>\n",
       "      <td>69</td>\n",
       "    </tr>\n",
       "    <tr>\n",
       "      <th>9</th>\n",
       "      <td>1448</td>\n",
       "      <td>4.220588</td>\n",
       "      <td>68</td>\n",
       "    </tr>\n",
       "    <tr>\n",
       "      <th>4</th>\n",
       "      <td>482</td>\n",
       "      <td>4.205882</td>\n",
       "      <td>68</td>\n",
       "    </tr>\n",
       "    <tr>\n",
       "      <th>3</th>\n",
       "      <td>442</td>\n",
       "      <td>4.117647</td>\n",
       "      <td>68</td>\n",
       "    </tr>\n",
       "    <tr>\n",
       "      <th>7</th>\n",
       "      <td>754</td>\n",
       "      <td>4.068493</td>\n",
       "      <td>73</td>\n",
       "    </tr>\n",
       "    <tr>\n",
       "      <th>5</th>\n",
       "      <td>523</td>\n",
       "      <td>4.028986</td>\n",
       "      <td>69</td>\n",
       "    </tr>\n",
       "    <tr>\n",
       "      <th>6</th>\n",
       "      <td>636</td>\n",
       "      <td>4.028169</td>\n",
       "      <td>71</td>\n",
       "    </tr>\n",
       "    <tr>\n",
       "      <th>8</th>\n",
       "      <td>1341</td>\n",
       "      <td>3.985507</td>\n",
       "      <td>69</td>\n",
       "    </tr>\n",
       "    <tr>\n",
       "      <th>2</th>\n",
       "      <td>326</td>\n",
       "      <td>3.941176</td>\n",
       "      <td>68</td>\n",
       "    </tr>\n",
       "  </tbody>\n",
       "</table>\n",
       "</div>"
      ],
      "text/plain": [
       "   id_empleado  satisfacción  id_ticket\n",
       "1          285      4.328767         73\n",
       "0           79      4.260870         69\n",
       "9         1448      4.220588         68\n",
       "4          482      4.205882         68\n",
       "3          442      4.117647         68\n",
       "7          754      4.068493         73\n",
       "5          523      4.028986         69\n",
       "6          636      4.028169         71\n",
       "8         1341      3.985507         69\n",
       "2          326      3.941176         68"
      ]
     },
     "execution_count": 32,
     "metadata": {},
     "output_type": "execute_result"
    }
   ],
   "source": [
    "groupby3 = df.groupby(\"id_empleado\")[\"satisfacción\"].mean()\n",
    "df_groupby3 = pd.DataFrame(groupby3.reset_index())\n",
    "df_empleados_sort_satis_top = df_groupby3.merge(df_empleados_sort_ticket_top, on = \"id_empleado\")\n",
    "df_empleados_sort_satis_top = df_empleados_sort_satis_top.sort_values(\"satisfacción\", ascending = False)\n",
    "df_empleados_sort_satis_top"
   ]
  },
  {
   "cell_type": "code",
   "execution_count": 34,
   "metadata": {},
   "outputs": [
    {
     "data": {
      "text/plain": [
       "<Axes: xlabel='id_empleado', ylabel='satisfacción'>"
      ]
     },
     "execution_count": 34,
     "metadata": {},
     "output_type": "execute_result"
    },
    {
     "data": {
      "image/png": "[encoded data removed]",
      "text/plain": [
       "<Figure size 1000x800 with 1 Axes>"
      ]
     },
     "metadata": {},
     "output_type": "display_data"
    }
   ],
   "source": [
    "sns.barplot(x = \"id_empleado\", y = \"satisfacción\", data = df_empleados_sort_satis_top)"
   ]
  },
  {
   "cell_type": "code",
   "execution_count": 37,
   "metadata": {},
   "outputs": [
    {
     "data": {
      "text/html": [
       "<div>\n",
       "<style scoped>\n",
       "    .dataframe tbody tr th:only-of-type {\n",
       "        vertical-align: middle;\n",
       "    }\n",
       "\n",
       "    .dataframe tbody tr th {\n",
       "        vertical-align: top;\n",
       "    }\n",
       "\n",
       "    .dataframe thead th {\n",
       "        text-align: right;\n",
       "    }\n",
       "</style>\n",
       "<table border=\"1\" class=\"dataframe\">\n",
       "  <thead>\n",
       "    <tr style=\"text-align: right;\">\n",
       "      <th></th>\n",
       "      <th>id_empleado</th>\n",
       "      <th>satisfacción</th>\n",
       "      <th>id_ticket</th>\n",
       "    </tr>\n",
       "  </thead>\n",
       "  <tbody>\n",
       "    <tr>\n",
       "      <th>5</th>\n",
       "      <td>1041</td>\n",
       "      <td>3.696970</td>\n",
       "      <td>33</td>\n",
       "    </tr>\n",
       "    <tr>\n",
       "      <th>1</th>\n",
       "      <td>99</td>\n",
       "      <td>3.851852</td>\n",
       "      <td>27</td>\n",
       "    </tr>\n",
       "    <tr>\n",
       "      <th>8</th>\n",
       "      <td>1618</td>\n",
       "      <td>3.935484</td>\n",
       "      <td>31</td>\n",
       "    </tr>\n",
       "    <tr>\n",
       "      <th>3</th>\n",
       "      <td>686</td>\n",
       "      <td>4.125000</td>\n",
       "      <td>32</td>\n",
       "    </tr>\n",
       "    <tr>\n",
       "      <th>7</th>\n",
       "      <td>1384</td>\n",
       "      <td>4.125000</td>\n",
       "      <td>32</td>\n",
       "    </tr>\n",
       "    <tr>\n",
       "      <th>9</th>\n",
       "      <td>1792</td>\n",
       "      <td>4.125000</td>\n",
       "      <td>32</td>\n",
       "    </tr>\n",
       "    <tr>\n",
       "      <th>2</th>\n",
       "      <td>607</td>\n",
       "      <td>4.156250</td>\n",
       "      <td>32</td>\n",
       "    </tr>\n",
       "    <tr>\n",
       "      <th>4</th>\n",
       "      <td>793</td>\n",
       "      <td>4.230769</td>\n",
       "      <td>26</td>\n",
       "    </tr>\n",
       "    <tr>\n",
       "      <th>0</th>\n",
       "      <td>72</td>\n",
       "      <td>4.290323</td>\n",
       "      <td>31</td>\n",
       "    </tr>\n",
       "    <tr>\n",
       "      <th>6</th>\n",
       "      <td>1195</td>\n",
       "      <td>4.310345</td>\n",
       "      <td>29</td>\n",
       "    </tr>\n",
       "  </tbody>\n",
       "</table>\n",
       "</div>"
      ],
      "text/plain": [
       "   id_empleado  satisfacción  id_ticket\n",
       "5         1041      3.696970         33\n",
       "1           99      3.851852         27\n",
       "8         1618      3.935484         31\n",
       "3          686      4.125000         32\n",
       "7         1384      4.125000         32\n",
       "9         1792      4.125000         32\n",
       "2          607      4.156250         32\n",
       "4          793      4.230769         26\n",
       "0           72      4.290323         31\n",
       "6         1195      4.310345         29"
      ]
     },
     "execution_count": 37,
     "metadata": {},
     "output_type": "execute_result"
    }
   ],
   "source": [
    "df_empleados_sort_satis_tail = df_groupby3.merge(df_empleados_sort_ticket_tail, on = \"id_empleado\")\n",
    "df_empleados_sort_satis_tail = df_empleados_sort_satis_tail.sort_values(\"satisfacción\", ascending = True)\n",
    "df_empleados_sort_satis_tail"
   ]
  },
  {
   "cell_type": "code",
   "execution_count": 38,
   "metadata": {},
   "outputs": [
    {
     "data": {
      "text/plain": [
       "<Axes: xlabel='id_empleado', ylabel='satisfacción'>"
      ]
     },
     "execution_count": 38,
     "metadata": {},
     "output_type": "execute_result"
    },
    {
     "data": {
      "image/png": "[encoded data removed]",
      "text/plain": [
       "<Figure size 1000x800 with 1 Axes>"
      ]
     },
     "metadata": {},
     "output_type": "display_data"
    }
   ],
   "source": [
    "sns.barplot(x = \"id_empleado\", y = \"satisfacción\", data = df_empleados_sort_satis_tail)"
   ]
  }
 ],
 "metadata": {
  "kernelspec": {
   "display_name": "adalabenv",
   "language": "python",
   "name": "python3"
  },
  "language_info": {
   "codemirror_mode": {
    "name": "ipython",
    "version": 3
   },
   "file_extension": ".py",
   "mimetype": "text/x-python",
   "name": "python",
   "nbconvert_exporter": "python",
   "pygments_lexer": "ipython3",
   "version": "3.10.11"
  },
  "orig_nbformat": 4
 },
 "nbformat": 4,
 "nbformat_minor": 2
}
