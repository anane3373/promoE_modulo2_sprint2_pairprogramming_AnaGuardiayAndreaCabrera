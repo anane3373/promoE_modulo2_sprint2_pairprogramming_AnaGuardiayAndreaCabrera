{
 "cells": [
  {
   "cell_type": "markdown",
   "metadata": {},
   "source": [
    "# LIMPIEZA I 15/8"
   ]
  },
  {
   "cell_type": "markdown",
   "metadata": {},
   "source": [
    "HIPÓTESIS:"
   ]
  },
  {
   "cell_type": "markdown",
   "metadata": {},
   "source": [
    "1. La edad, el trabajo, el estado civil, la educación, la situación de deuda y la forma de contacto pueden influir en la probabilidad de que un cliente acepte la oferta."
   ]
  },
  {
   "cell_type": "markdown",
   "metadata": {},
   "source": [
    "2. El número de veces que se ha contactado a un cliente en el pasado (campo campaign), el número de días que han pasado desde el último contacto (campo pdays), y el resultado de la campaña anterior (campo poutcome) pueden afectar la respuesta del cliente a una nueva oferta."
   ]
  },
  {
   "cell_type": "markdown",
   "metadata": {},
   "source": [
    "3. Las variables económicas (tales como el índice de precios al consumidor (cons.price.idx), la tasa de variación del empleo (emp.var.rate), etc.) pueden influir en la probabilidad de que un cliente acepte la oferta."
   ]
  },
  {
   "cell_type": "markdown",
   "metadata": {},
   "source": [
    "4. Los clientes que ya tienen una hipoteca (housing) o un préstamo (loan) pueden ser menos propensos a aceptar una nueva oferta, ya que podrían estar limitados financieramente."
   ]
  },
  {
   "cell_type": "markdown",
   "metadata": {},
   "source": [
    "TAREAS:"
   ]
  },
  {
   "cell_type": "code",
   "execution_count": 2,
   "metadata": {},
   "outputs": [],
   "source": [
    "import pandas as pd"
   ]
  },
  {
   "cell_type": "code",
   "execution_count": 3,
   "metadata": {},
   "outputs": [
    {
     "data": {
      "text/html": [
       "<div>\n",
       "<style scoped>\n",
       "    .dataframe tbody tr th:only-of-type {\n",
       "        vertical-align: middle;\n",
       "    }\n",
       "\n",
       "    .dataframe tbody tr th {\n",
       "        vertical-align: top;\n",
       "    }\n",
       "\n",
       "    .dataframe thead th {\n",
       "        text-align: right;\n",
       "    }\n",
       "</style>\n",
       "<table border=\"1\" class=\"dataframe\">\n",
       "  <thead>\n",
       "    <tr style=\"text-align: right;\">\n",
       "      <th></th>\n",
       "      <th>age</th>\n",
       "      <th>job</th>\n",
       "      <th>marital</th>\n",
       "      <th>education</th>\n",
       "      <th>default</th>\n",
       "      <th>housing</th>\n",
       "      <th>loan</th>\n",
       "      <th>contact</th>\n",
       "      <th>duration</th>\n",
       "      <th>campaign</th>\n",
       "      <th>pdays</th>\n",
       "      <th>previous</th>\n",
       "      <th>poutcome</th>\n",
       "      <th>emp.var.rate</th>\n",
       "      <th>cons.price.idx</th>\n",
       "      <th>cons.conf.idx</th>\n",
       "      <th>euribor3m</th>\n",
       "      <th>nr.employed</th>\n",
       "      <th>y</th>\n",
       "      <th>month_day_week</th>\n",
       "    </tr>\n",
       "  </thead>\n",
       "  <tbody>\n",
       "    <tr>\n",
       "      <th>0</th>\n",
       "      <td>56</td>\n",
       "      <td>housemaid</td>\n",
       "      <td>MARRIED</td>\n",
       "      <td>basic.4y</td>\n",
       "      <td>0.0</td>\n",
       "      <td>0.0</td>\n",
       "      <td>0.0</td>\n",
       "      <td>telephone</td>\n",
       "      <td>261</td>\n",
       "      <td>1</td>\n",
       "      <td>999</td>\n",
       "      <td>0</td>\n",
       "      <td>NONEXISTENT</td>\n",
       "      <td>1.1</td>\n",
       "      <td>93,994</td>\n",
       "      <td>-36,4</td>\n",
       "      <td>4,857</td>\n",
       "      <td>5191,0</td>\n",
       "      <td>no</td>\n",
       "      <td>['may', 'mon']</td>\n",
       "    </tr>\n",
       "    <tr>\n",
       "      <th>1</th>\n",
       "      <td>57</td>\n",
       "      <td>services</td>\n",
       "      <td>MARRIED</td>\n",
       "      <td>high.school</td>\n",
       "      <td>NaN</td>\n",
       "      <td>0.0</td>\n",
       "      <td>0.0</td>\n",
       "      <td>telephone</td>\n",
       "      <td>149</td>\n",
       "      <td>1</td>\n",
       "      <td>999</td>\n",
       "      <td>0</td>\n",
       "      <td>NONEXISTENT</td>\n",
       "      <td>1.1</td>\n",
       "      <td>93,994</td>\n",
       "      <td>-36,4</td>\n",
       "      <td>4,857</td>\n",
       "      <td>5191,0</td>\n",
       "      <td>no</td>\n",
       "      <td>['may', 'mon']</td>\n",
       "    </tr>\n",
       "  </tbody>\n",
       "</table>\n",
       "</div>"
      ],
      "text/plain": [
       "   age        job  marital    education  default  housing  loan    contact  \\\n",
       "0   56  housemaid  MARRIED     basic.4y      0.0      0.0   0.0  telephone   \n",
       "1   57   services  MARRIED  high.school      NaN      0.0   0.0  telephone   \n",
       "\n",
       "   duration  campaign  pdays  previous     poutcome  emp.var.rate  \\\n",
       "0       261         1    999         0  NONEXISTENT           1.1   \n",
       "1       149         1    999         0  NONEXISTENT           1.1   \n",
       "\n",
       "  cons.price.idx cons.conf.idx euribor3m nr.employed   y  month_day_week  \n",
       "0         93,994         -36,4     4,857      5191,0  no  ['may', 'mon']  \n",
       "1         93,994         -36,4     4,857      5191,0  no  ['may', 'mon']  "
      ]
     },
     "execution_count": 3,
     "metadata": {},
     "output_type": "execute_result"
    }
   ],
   "source": [
    "df = pd.read_csv(\"data/bank_additional_full.csv\", index_col = 0)\n",
    "df.head(2)\n"
   ]
  },
  {
   "cell_type": "code",
   "execution_count": 4,
   "metadata": {},
   "outputs": [
    {
     "data": {
      "text/html": [
       "<div>\n",
       "<style scoped>\n",
       "    .dataframe tbody tr th:only-of-type {\n",
       "        vertical-align: middle;\n",
       "    }\n",
       "\n",
       "    .dataframe tbody tr th {\n",
       "        vertical-align: top;\n",
       "    }\n",
       "\n",
       "    .dataframe thead th {\n",
       "        text-align: right;\n",
       "    }\n",
       "</style>\n",
       "<table border=\"1\" class=\"dataframe\">\n",
       "  <thead>\n",
       "    <tr style=\"text-align: right;\">\n",
       "      <th></th>\n",
       "      <th>age</th>\n",
       "      <th>job</th>\n",
       "      <th>marital</th>\n",
       "      <th>education</th>\n",
       "      <th>default</th>\n",
       "      <th>housing</th>\n",
       "      <th>loan</th>\n",
       "      <th>contact</th>\n",
       "      <th>duration</th>\n",
       "      <th>campaign</th>\n",
       "      <th>pdays</th>\n",
       "      <th>previous</th>\n",
       "      <th>poutcome</th>\n",
       "      <th>emp.var.rate</th>\n",
       "      <th>cons.price.idx</th>\n",
       "      <th>cons.conf.idx</th>\n",
       "      <th>euribor3m</th>\n",
       "      <th>nr.employed</th>\n",
       "      <th>y</th>\n",
       "      <th>month_day_week</th>\n",
       "    </tr>\n",
       "  </thead>\n",
       "  <tbody>\n",
       "    <tr>\n",
       "      <th>0</th>\n",
       "      <td>56</td>\n",
       "      <td>housemaid</td>\n",
       "      <td>MARRIED</td>\n",
       "      <td>basic.4y</td>\n",
       "      <td>0.0</td>\n",
       "      <td>0.0</td>\n",
       "      <td>0.0</td>\n",
       "      <td>telephone</td>\n",
       "      <td>261</td>\n",
       "      <td>1</td>\n",
       "      <td>999</td>\n",
       "      <td>0</td>\n",
       "      <td>NONEXISTENT</td>\n",
       "      <td>1.1</td>\n",
       "      <td>93,994</td>\n",
       "      <td>-36,4</td>\n",
       "      <td>4,857</td>\n",
       "      <td>5191,0</td>\n",
       "      <td>no</td>\n",
       "      <td>['may', 'mon']</td>\n",
       "    </tr>\n",
       "    <tr>\n",
       "      <th>1</th>\n",
       "      <td>57</td>\n",
       "      <td>services</td>\n",
       "      <td>MARRIED</td>\n",
       "      <td>high.school</td>\n",
       "      <td>NaN</td>\n",
       "      <td>0.0</td>\n",
       "      <td>0.0</td>\n",
       "      <td>telephone</td>\n",
       "      <td>149</td>\n",
       "      <td>1</td>\n",
       "      <td>999</td>\n",
       "      <td>0</td>\n",
       "      <td>NONEXISTENT</td>\n",
       "      <td>1.1</td>\n",
       "      <td>93,994</td>\n",
       "      <td>-36,4</td>\n",
       "      <td>4,857</td>\n",
       "      <td>5191,0</td>\n",
       "      <td>no</td>\n",
       "      <td>['may', 'mon']</td>\n",
       "    </tr>\n",
       "    <tr>\n",
       "      <th>2</th>\n",
       "      <td>37</td>\n",
       "      <td>services</td>\n",
       "      <td>MARRIED</td>\n",
       "      <td>high.school</td>\n",
       "      <td>0.0</td>\n",
       "      <td>1.0</td>\n",
       "      <td>0.0</td>\n",
       "      <td>telephone</td>\n",
       "      <td>226</td>\n",
       "      <td>1</td>\n",
       "      <td>999</td>\n",
       "      <td>0</td>\n",
       "      <td>NONEXISTENT</td>\n",
       "      <td>1.1</td>\n",
       "      <td>93,994</td>\n",
       "      <td>-36,4</td>\n",
       "      <td>4,857</td>\n",
       "      <td>5191,0</td>\n",
       "      <td>no</td>\n",
       "      <td>['may', 'mon']</td>\n",
       "    </tr>\n",
       "    <tr>\n",
       "      <th>3</th>\n",
       "      <td>40</td>\n",
       "      <td>admin.</td>\n",
       "      <td>MARRIED</td>\n",
       "      <td>basic.6y</td>\n",
       "      <td>0.0</td>\n",
       "      <td>0.0</td>\n",
       "      <td>0.0</td>\n",
       "      <td>telephone</td>\n",
       "      <td>151</td>\n",
       "      <td>1</td>\n",
       "      <td>999</td>\n",
       "      <td>0</td>\n",
       "      <td>NONEXISTENT</td>\n",
       "      <td>1.1</td>\n",
       "      <td>93,994</td>\n",
       "      <td>-36,4</td>\n",
       "      <td>4,857</td>\n",
       "      <td>5191,0</td>\n",
       "      <td>no</td>\n",
       "      <td>['may', 'mon']</td>\n",
       "    </tr>\n",
       "    <tr>\n",
       "      <th>4</th>\n",
       "      <td>56</td>\n",
       "      <td>services</td>\n",
       "      <td>MARRIED</td>\n",
       "      <td>high.school</td>\n",
       "      <td>0.0</td>\n",
       "      <td>0.0</td>\n",
       "      <td>1.0</td>\n",
       "      <td>telephone</td>\n",
       "      <td>307</td>\n",
       "      <td>1</td>\n",
       "      <td>999</td>\n",
       "      <td>0</td>\n",
       "      <td>NONEXISTENT</td>\n",
       "      <td>1.1</td>\n",
       "      <td>93,994</td>\n",
       "      <td>-36,4</td>\n",
       "      <td>4,857</td>\n",
       "      <td>5191,0</td>\n",
       "      <td>no</td>\n",
       "      <td>['may', 'mon']</td>\n",
       "    </tr>\n",
       "  </tbody>\n",
       "</table>\n",
       "</div>"
      ],
      "text/plain": [
       "   age        job  marital    education  default  housing  loan    contact  \\\n",
       "0   56  housemaid  MARRIED     basic.4y      0.0      0.0   0.0  telephone   \n",
       "1   57   services  MARRIED  high.school      NaN      0.0   0.0  telephone   \n",
       "2   37   services  MARRIED  high.school      0.0      1.0   0.0  telephone   \n",
       "3   40     admin.  MARRIED     basic.6y      0.0      0.0   0.0  telephone   \n",
       "4   56   services  MARRIED  high.school      0.0      0.0   1.0  telephone   \n",
       "\n",
       "   duration  campaign  pdays  previous     poutcome  emp.var.rate  \\\n",
       "0       261         1    999         0  NONEXISTENT           1.1   \n",
       "1       149         1    999         0  NONEXISTENT           1.1   \n",
       "2       226         1    999         0  NONEXISTENT           1.1   \n",
       "3       151         1    999         0  NONEXISTENT           1.1   \n",
       "4       307         1    999         0  NONEXISTENT           1.1   \n",
       "\n",
       "  cons.price.idx cons.conf.idx euribor3m nr.employed   y  month_day_week  \n",
       "0         93,994         -36,4     4,857      5191,0  no  ['may', 'mon']  \n",
       "1         93,994         -36,4     4,857      5191,0  no  ['may', 'mon']  \n",
       "2         93,994         -36,4     4,857      5191,0  no  ['may', 'mon']  \n",
       "3         93,994         -36,4     4,857      5191,0  no  ['may', 'mon']  \n",
       "4         93,994         -36,4     4,857      5191,0  no  ['may', 'mon']  "
      ]
     },
     "execution_count": 4,
     "metadata": {},
     "output_type": "execute_result"
    }
   ],
   "source": [
    "pd.options.display.max_columns = None\n",
    "df.head()"
   ]
  },
  {
   "cell_type": "markdown",
   "metadata": {},
   "source": [
    "1. Explora el dataset con los métodos que hemos ido aprendiendo hasta ahora para familiarizarnos con los datos."
   ]
  },
  {
   "cell_type": "code",
   "execution_count": 5,
   "metadata": {},
   "outputs": [
    {
     "name": "stdout",
     "output_type": "stream",
     "text": [
      "<class 'pandas.core.frame.DataFrame'>\n",
      "Index: 43170 entries, 0 to 29612\n",
      "Data columns (total 20 columns):\n",
      " #   Column          Non-Null Count  Dtype  \n",
      "---  ------          --------------  -----  \n",
      " 0   age             43170 non-null  int64  \n",
      " 1   job             42823 non-null  object \n",
      " 2   marital         43085 non-null  object \n",
      " 3   education       41355 non-null  object \n",
      " 4   default         34154 non-null  float64\n",
      " 5   housing         42139 non-null  float64\n",
      " 6   loan            42139 non-null  float64\n",
      " 7   contact         43170 non-null  object \n",
      " 8   duration        43170 non-null  int64  \n",
      " 9   campaign        43170 non-null  int64  \n",
      " 10  pdays           43170 non-null  int64  \n",
      " 11  previous        43170 non-null  int64  \n",
      " 12  poutcome        43170 non-null  object \n",
      " 13  emp.var.rate    43170 non-null  float64\n",
      " 14  cons.price.idx  43170 non-null  object \n",
      " 15  cons.conf.idx   43170 non-null  object \n",
      " 16  euribor3m       43170 non-null  object \n",
      " 17  nr.employed     43170 non-null  object \n",
      " 18  y               43170 non-null  object \n",
      " 19  month_day_week  43170 non-null  object \n",
      "dtypes: float64(4), int64(5), object(11)\n",
      "memory usage: 6.9+ MB\n"
     ]
    }
   ],
   "source": [
    "df.info()"
   ]
  },
  {
   "cell_type": "code",
   "execution_count": 6,
   "metadata": {},
   "outputs": [
    {
     "data": {
      "text/html": [
       "<div>\n",
       "<style scoped>\n",
       "    .dataframe tbody tr th:only-of-type {\n",
       "        vertical-align: middle;\n",
       "    }\n",
       "\n",
       "    .dataframe tbody tr th {\n",
       "        vertical-align: top;\n",
       "    }\n",
       "\n",
       "    .dataframe thead th {\n",
       "        text-align: right;\n",
       "    }\n",
       "</style>\n",
       "<table border=\"1\" class=\"dataframe\">\n",
       "  <thead>\n",
       "    <tr style=\"text-align: right;\">\n",
       "      <th></th>\n",
       "      <th>count</th>\n",
       "      <th>mean</th>\n",
       "      <th>std</th>\n",
       "      <th>min</th>\n",
       "      <th>25%</th>\n",
       "      <th>50%</th>\n",
       "      <th>75%</th>\n",
       "      <th>max</th>\n",
       "    </tr>\n",
       "  </thead>\n",
       "  <tbody>\n",
       "    <tr>\n",
       "      <th>age</th>\n",
       "      <td>43170.0</td>\n",
       "      <td>40.014918</td>\n",
       "      <td>10.407327</td>\n",
       "      <td>17.0</td>\n",
       "      <td>32.0</td>\n",
       "      <td>38.0</td>\n",
       "      <td>47.0</td>\n",
       "      <td>98.0</td>\n",
       "    </tr>\n",
       "    <tr>\n",
       "      <th>default</th>\n",
       "      <td>34154.0</td>\n",
       "      <td>0.000088</td>\n",
       "      <td>0.009372</td>\n",
       "      <td>0.0</td>\n",
       "      <td>0.0</td>\n",
       "      <td>0.0</td>\n",
       "      <td>0.0</td>\n",
       "      <td>1.0</td>\n",
       "    </tr>\n",
       "    <tr>\n",
       "      <th>housing</th>\n",
       "      <td>42139.0</td>\n",
       "      <td>0.535869</td>\n",
       "      <td>0.498718</td>\n",
       "      <td>0.0</td>\n",
       "      <td>0.0</td>\n",
       "      <td>1.0</td>\n",
       "      <td>1.0</td>\n",
       "      <td>1.0</td>\n",
       "    </tr>\n",
       "    <tr>\n",
       "      <th>loan</th>\n",
       "      <td>42139.0</td>\n",
       "      <td>0.155652</td>\n",
       "      <td>0.362529</td>\n",
       "      <td>0.0</td>\n",
       "      <td>0.0</td>\n",
       "      <td>0.0</td>\n",
       "      <td>0.0</td>\n",
       "      <td>1.0</td>\n",
       "    </tr>\n",
       "    <tr>\n",
       "      <th>duration</th>\n",
       "      <td>43170.0</td>\n",
       "      <td>257.883739</td>\n",
       "      <td>259.393738</td>\n",
       "      <td>0.0</td>\n",
       "      <td>102.0</td>\n",
       "      <td>179.0</td>\n",
       "      <td>319.0</td>\n",
       "      <td>4918.0</td>\n",
       "    </tr>\n",
       "    <tr>\n",
       "      <th>campaign</th>\n",
       "      <td>43170.0</td>\n",
       "      <td>2.564675</td>\n",
       "      <td>2.768538</td>\n",
       "      <td>1.0</td>\n",
       "      <td>1.0</td>\n",
       "      <td>2.0</td>\n",
       "      <td>3.0</td>\n",
       "      <td>56.0</td>\n",
       "    </tr>\n",
       "    <tr>\n",
       "      <th>pdays</th>\n",
       "      <td>43170.0</td>\n",
       "      <td>962.452282</td>\n",
       "      <td>186.962379</td>\n",
       "      <td>0.0</td>\n",
       "      <td>999.0</td>\n",
       "      <td>999.0</td>\n",
       "      <td>999.0</td>\n",
       "      <td>999.0</td>\n",
       "    </tr>\n",
       "    <tr>\n",
       "      <th>previous</th>\n",
       "      <td>43170.0</td>\n",
       "      <td>0.173639</td>\n",
       "      <td>0.496750</td>\n",
       "      <td>0.0</td>\n",
       "      <td>0.0</td>\n",
       "      <td>0.0</td>\n",
       "      <td>0.0</td>\n",
       "      <td>7.0</td>\n",
       "    </tr>\n",
       "    <tr>\n",
       "      <th>emp.var.rate</th>\n",
       "      <td>43170.0</td>\n",
       "      <td>0.078177</td>\n",
       "      <td>1.572217</td>\n",
       "      <td>-3.4</td>\n",
       "      <td>-1.8</td>\n",
       "      <td>1.1</td>\n",
       "      <td>1.4</td>\n",
       "      <td>1.4</td>\n",
       "    </tr>\n",
       "  </tbody>\n",
       "</table>\n",
       "</div>"
      ],
      "text/plain": [
       "                count        mean         std   min    25%    50%    75%  \\\n",
       "age           43170.0   40.014918   10.407327  17.0   32.0   38.0   47.0   \n",
       "default       34154.0    0.000088    0.009372   0.0    0.0    0.0    0.0   \n",
       "housing       42139.0    0.535869    0.498718   0.0    0.0    1.0    1.0   \n",
       "loan          42139.0    0.155652    0.362529   0.0    0.0    0.0    0.0   \n",
       "duration      43170.0  257.883739  259.393738   0.0  102.0  179.0  319.0   \n",
       "campaign      43170.0    2.564675    2.768538   1.0    1.0    2.0    3.0   \n",
       "pdays         43170.0  962.452282  186.962379   0.0  999.0  999.0  999.0   \n",
       "previous      43170.0    0.173639    0.496750   0.0    0.0    0.0    0.0   \n",
       "emp.var.rate  43170.0    0.078177    1.572217  -3.4   -1.8    1.1    1.4   \n",
       "\n",
       "                 max  \n",
       "age             98.0  \n",
       "default          1.0  \n",
       "housing          1.0  \n",
       "loan             1.0  \n",
       "duration      4918.0  \n",
       "campaign        56.0  \n",
       "pdays          999.0  \n",
       "previous         7.0  \n",
       "emp.var.rate     1.4  "
      ]
     },
     "execution_count": 6,
     "metadata": {},
     "output_type": "execute_result"
    }
   ],
   "source": [
    "df.describe().T"
   ]
  },
  {
   "cell_type": "markdown",
   "metadata": {},
   "source": [
    "2. Cambia el nombre de las columnas para que no tengan puntos en el nombre. En concreto, reemplazad los \".\" por comas."
   ]
  },
  {
   "cell_type": "code",
   "execution_count": 7,
   "metadata": {},
   "outputs": [
    {
     "data": {
      "text/plain": [
       "{'age': 'age',\n",
       " 'job': 'job',\n",
       " 'marital': 'marital',\n",
       " 'education': 'education',\n",
       " 'default': 'default',\n",
       " 'housing': 'housing',\n",
       " 'loan': 'loan',\n",
       " 'contact': 'contact',\n",
       " 'duration': 'duration',\n",
       " 'campaign': 'campaign',\n",
       " 'pdays': 'pdays',\n",
       " 'previous': 'previous',\n",
       " 'poutcome': 'poutcome',\n",
       " 'emp.var.rate': 'emp,var,rate',\n",
       " 'cons.price.idx': 'cons,price,idx',\n",
       " 'cons.conf.idx': 'cons,conf,idx',\n",
       " 'euribor3m': 'euribor3m',\n",
       " 'nr.employed': 'nr,employed',\n",
       " 'y': 'y',\n",
       " 'month_day_week': 'month_day_week'}"
      ]
     },
     "execution_count": 7,
     "metadata": {},
     "output_type": "execute_result"
    }
   ],
   "source": [
    "nuevas_columnas = {col: col.replace(\".\", \",\") for col in df.columns}\n",
    "nuevas_columnas"
   ]
  },
  {
   "cell_type": "code",
   "execution_count": 8,
   "metadata": {},
   "outputs": [
    {
     "data": {
      "text/html": [
       "<div>\n",
       "<style scoped>\n",
       "    .dataframe tbody tr th:only-of-type {\n",
       "        vertical-align: middle;\n",
       "    }\n",
       "\n",
       "    .dataframe tbody tr th {\n",
       "        vertical-align: top;\n",
       "    }\n",
       "\n",
       "    .dataframe thead th {\n",
       "        text-align: right;\n",
       "    }\n",
       "</style>\n",
       "<table border=\"1\" class=\"dataframe\">\n",
       "  <thead>\n",
       "    <tr style=\"text-align: right;\">\n",
       "      <th></th>\n",
       "      <th>age</th>\n",
       "      <th>job</th>\n",
       "      <th>marital</th>\n",
       "      <th>education</th>\n",
       "      <th>default</th>\n",
       "      <th>housing</th>\n",
       "      <th>loan</th>\n",
       "      <th>contact</th>\n",
       "      <th>duration</th>\n",
       "      <th>campaign</th>\n",
       "      <th>pdays</th>\n",
       "      <th>previous</th>\n",
       "      <th>poutcome</th>\n",
       "      <th>emp,var,rate</th>\n",
       "      <th>cons,price,idx</th>\n",
       "      <th>cons,conf,idx</th>\n",
       "      <th>euribor3m</th>\n",
       "      <th>nr,employed</th>\n",
       "      <th>y</th>\n",
       "      <th>month_day_week</th>\n",
       "    </tr>\n",
       "  </thead>\n",
       "  <tbody>\n",
       "    <tr>\n",
       "      <th>0</th>\n",
       "      <td>56</td>\n",
       "      <td>housemaid</td>\n",
       "      <td>MARRIED</td>\n",
       "      <td>basic.4y</td>\n",
       "      <td>0.0</td>\n",
       "      <td>0.0</td>\n",
       "      <td>0.0</td>\n",
       "      <td>telephone</td>\n",
       "      <td>261</td>\n",
       "      <td>1</td>\n",
       "      <td>999</td>\n",
       "      <td>0</td>\n",
       "      <td>NONEXISTENT</td>\n",
       "      <td>1.1</td>\n",
       "      <td>93,994</td>\n",
       "      <td>-36,4</td>\n",
       "      <td>4,857</td>\n",
       "      <td>5191,0</td>\n",
       "      <td>no</td>\n",
       "      <td>['may', 'mon']</td>\n",
       "    </tr>\n",
       "    <tr>\n",
       "      <th>1</th>\n",
       "      <td>57</td>\n",
       "      <td>services</td>\n",
       "      <td>MARRIED</td>\n",
       "      <td>high.school</td>\n",
       "      <td>NaN</td>\n",
       "      <td>0.0</td>\n",
       "      <td>0.0</td>\n",
       "      <td>telephone</td>\n",
       "      <td>149</td>\n",
       "      <td>1</td>\n",
       "      <td>999</td>\n",
       "      <td>0</td>\n",
       "      <td>NONEXISTENT</td>\n",
       "      <td>1.1</td>\n",
       "      <td>93,994</td>\n",
       "      <td>-36,4</td>\n",
       "      <td>4,857</td>\n",
       "      <td>5191,0</td>\n",
       "      <td>no</td>\n",
       "      <td>['may', 'mon']</td>\n",
       "    </tr>\n",
       "    <tr>\n",
       "      <th>2</th>\n",
       "      <td>37</td>\n",
       "      <td>services</td>\n",
       "      <td>MARRIED</td>\n",
       "      <td>high.school</td>\n",
       "      <td>0.0</td>\n",
       "      <td>1.0</td>\n",
       "      <td>0.0</td>\n",
       "      <td>telephone</td>\n",
       "      <td>226</td>\n",
       "      <td>1</td>\n",
       "      <td>999</td>\n",
       "      <td>0</td>\n",
       "      <td>NONEXISTENT</td>\n",
       "      <td>1.1</td>\n",
       "      <td>93,994</td>\n",
       "      <td>-36,4</td>\n",
       "      <td>4,857</td>\n",
       "      <td>5191,0</td>\n",
       "      <td>no</td>\n",
       "      <td>['may', 'mon']</td>\n",
       "    </tr>\n",
       "    <tr>\n",
       "      <th>3</th>\n",
       "      <td>40</td>\n",
       "      <td>admin.</td>\n",
       "      <td>MARRIED</td>\n",
       "      <td>basic.6y</td>\n",
       "      <td>0.0</td>\n",
       "      <td>0.0</td>\n",
       "      <td>0.0</td>\n",
       "      <td>telephone</td>\n",
       "      <td>151</td>\n",
       "      <td>1</td>\n",
       "      <td>999</td>\n",
       "      <td>0</td>\n",
       "      <td>NONEXISTENT</td>\n",
       "      <td>1.1</td>\n",
       "      <td>93,994</td>\n",
       "      <td>-36,4</td>\n",
       "      <td>4,857</td>\n",
       "      <td>5191,0</td>\n",
       "      <td>no</td>\n",
       "      <td>['may', 'mon']</td>\n",
       "    </tr>\n",
       "    <tr>\n",
       "      <th>4</th>\n",
       "      <td>56</td>\n",
       "      <td>services</td>\n",
       "      <td>MARRIED</td>\n",
       "      <td>high.school</td>\n",
       "      <td>0.0</td>\n",
       "      <td>0.0</td>\n",
       "      <td>1.0</td>\n",
       "      <td>telephone</td>\n",
       "      <td>307</td>\n",
       "      <td>1</td>\n",
       "      <td>999</td>\n",
       "      <td>0</td>\n",
       "      <td>NONEXISTENT</td>\n",
       "      <td>1.1</td>\n",
       "      <td>93,994</td>\n",
       "      <td>-36,4</td>\n",
       "      <td>4,857</td>\n",
       "      <td>5191,0</td>\n",
       "      <td>no</td>\n",
       "      <td>['may', 'mon']</td>\n",
       "    </tr>\n",
       "    <tr>\n",
       "      <th>5</th>\n",
       "      <td>45</td>\n",
       "      <td>services</td>\n",
       "      <td>MARRIED</td>\n",
       "      <td>basic.9y</td>\n",
       "      <td>NaN</td>\n",
       "      <td>0.0</td>\n",
       "      <td>0.0</td>\n",
       "      <td>telephone</td>\n",
       "      <td>198</td>\n",
       "      <td>1</td>\n",
       "      <td>999</td>\n",
       "      <td>0</td>\n",
       "      <td>NONEXISTENT</td>\n",
       "      <td>1.1</td>\n",
       "      <td>93,994</td>\n",
       "      <td>-36,4</td>\n",
       "      <td>4,857</td>\n",
       "      <td>5191,0</td>\n",
       "      <td>no</td>\n",
       "      <td>['may', 'mon']</td>\n",
       "    </tr>\n",
       "    <tr>\n",
       "      <th>6</th>\n",
       "      <td>59</td>\n",
       "      <td>admin.</td>\n",
       "      <td>MARRIED</td>\n",
       "      <td>professional.course</td>\n",
       "      <td>0.0</td>\n",
       "      <td>0.0</td>\n",
       "      <td>0.0</td>\n",
       "      <td>telephone</td>\n",
       "      <td>139</td>\n",
       "      <td>1</td>\n",
       "      <td>999</td>\n",
       "      <td>0</td>\n",
       "      <td>NONEXISTENT</td>\n",
       "      <td>1.1</td>\n",
       "      <td>93,994</td>\n",
       "      <td>-36,4</td>\n",
       "      <td>4,857</td>\n",
       "      <td>5191,0</td>\n",
       "      <td>no</td>\n",
       "      <td>['may', 'mon']</td>\n",
       "    </tr>\n",
       "    <tr>\n",
       "      <th>7</th>\n",
       "      <td>41</td>\n",
       "      <td>blue-collar</td>\n",
       "      <td>MARRIED</td>\n",
       "      <td>NaN</td>\n",
       "      <td>NaN</td>\n",
       "      <td>0.0</td>\n",
       "      <td>0.0</td>\n",
       "      <td>telephone</td>\n",
       "      <td>217</td>\n",
       "      <td>1</td>\n",
       "      <td>999</td>\n",
       "      <td>0</td>\n",
       "      <td>NONEXISTENT</td>\n",
       "      <td>1.1</td>\n",
       "      <td>93,994</td>\n",
       "      <td>-36,4</td>\n",
       "      <td>4,857</td>\n",
       "      <td>5191,0</td>\n",
       "      <td>no</td>\n",
       "      <td>['may', 'mon']</td>\n",
       "    </tr>\n",
       "  </tbody>\n",
       "</table>\n",
       "</div>"
      ],
      "text/plain": [
       "   age          job  marital            education  default  housing  loan  \\\n",
       "0   56    housemaid  MARRIED             basic.4y      0.0      0.0   0.0   \n",
       "1   57     services  MARRIED          high.school      NaN      0.0   0.0   \n",
       "2   37     services  MARRIED          high.school      0.0      1.0   0.0   \n",
       "3   40       admin.  MARRIED             basic.6y      0.0      0.0   0.0   \n",
       "4   56     services  MARRIED          high.school      0.0      0.0   1.0   \n",
       "5   45     services  MARRIED             basic.9y      NaN      0.0   0.0   \n",
       "6   59       admin.  MARRIED  professional.course      0.0      0.0   0.0   \n",
       "7   41  blue-collar  MARRIED                  NaN      NaN      0.0   0.0   \n",
       "\n",
       "     contact  duration  campaign  pdays  previous     poutcome  emp,var,rate  \\\n",
       "0  telephone       261         1    999         0  NONEXISTENT           1.1   \n",
       "1  telephone       149         1    999         0  NONEXISTENT           1.1   \n",
       "2  telephone       226         1    999         0  NONEXISTENT           1.1   \n",
       "3  telephone       151         1    999         0  NONEXISTENT           1.1   \n",
       "4  telephone       307         1    999         0  NONEXISTENT           1.1   \n",
       "5  telephone       198         1    999         0  NONEXISTENT           1.1   \n",
       "6  telephone       139         1    999         0  NONEXISTENT           1.1   \n",
       "7  telephone       217         1    999         0  NONEXISTENT           1.1   \n",
       "\n",
       "  cons,price,idx cons,conf,idx euribor3m nr,employed   y  month_day_week  \n",
       "0         93,994         -36,4     4,857      5191,0  no  ['may', 'mon']  \n",
       "1         93,994         -36,4     4,857      5191,0  no  ['may', 'mon']  \n",
       "2         93,994         -36,4     4,857      5191,0  no  ['may', 'mon']  \n",
       "3         93,994         -36,4     4,857      5191,0  no  ['may', 'mon']  \n",
       "4         93,994         -36,4     4,857      5191,0  no  ['may', 'mon']  \n",
       "5         93,994         -36,4     4,857      5191,0  no  ['may', 'mon']  \n",
       "6         93,994         -36,4     4,857      5191,0  no  ['may', 'mon']  \n",
       "7         93,994         -36,4     4,857      5191,0  no  ['may', 'mon']  "
      ]
     },
     "execution_count": 8,
     "metadata": {},
     "output_type": "execute_result"
    }
   ],
   "source": [
    "df.rename(columns = nuevas_columnas, inplace = True)\n",
    "df.head(8)"
   ]
  },
  {
   "cell_type": "code",
   "execution_count": 9,
   "metadata": {},
   "outputs": [
    {
     "data": {
      "text/plain": [
       "poutcome\n",
       "NONEXISTENT    37261\n",
       "FAILURE         4472\n",
       "SUCCESS         1437\n",
       "Name: count, dtype: int64"
      ]
     },
     "execution_count": 9,
     "metadata": {},
     "output_type": "execute_result"
    }
   ],
   "source": [
    "df[\"poutcome\"].value_counts()"
   ]
  },
  {
   "cell_type": "code",
   "execution_count": 10,
   "metadata": {},
   "outputs": [
    {
     "data": {
      "text/plain": [
       "contact\n",
       "cellular     27438\n",
       "telephone    15732\n",
       "Name: count, dtype: int64"
      ]
     },
     "execution_count": 10,
     "metadata": {},
     "output_type": "execute_result"
    }
   ],
   "source": [
    "df[\"contact\"].value_counts()"
   ]
  },
  {
   "cell_type": "code",
   "execution_count": 11,
   "metadata": {},
   "outputs": [
    {
     "data": {
      "text/plain": [
       "pdays\n",
       "999    41581\n",
       "3        458\n",
       "6        428\n",
       "4        121\n",
       "9         67\n",
       "7         66\n",
       "2         63\n",
       "12        61\n",
       "10        55\n",
       "5         50\n",
       "13        38\n",
       "11        30\n",
       "1         26\n",
       "15        26\n",
       "14        22\n",
       "8         20\n",
       "0         15\n",
       "16        13\n",
       "17        10\n",
       "18         7\n",
       "22         4\n",
       "19         3\n",
       "21         2\n",
       "25         1\n",
       "26         1\n",
       "27         1\n",
       "20         1\n",
       "Name: count, dtype: int64"
      ]
     },
     "execution_count": 11,
     "metadata": {},
     "output_type": "execute_result"
    }
   ],
   "source": [
    "df[\"pdays\"].value_counts()"
   ]
  },
  {
   "cell_type": "markdown",
   "metadata": {},
   "source": [
    "3. ¿Hay valores duplicados en nuestro dataframe? En caso de que los haya, eliminándlos."
   ]
  },
  {
   "cell_type": "code",
   "execution_count": 12,
   "metadata": {},
   "outputs": [
    {
     "data": {
      "text/plain": [
       "1994"
      ]
     },
     "execution_count": 12,
     "metadata": {},
     "output_type": "execute_result"
    }
   ],
   "source": [
    "df.duplicated().sum()"
   ]
  },
  {
   "cell_type": "code",
   "execution_count": 13,
   "metadata": {},
   "outputs": [],
   "source": [
    "df.drop_duplicates(inplace = True)"
   ]
  },
  {
   "cell_type": "code",
   "execution_count": 14,
   "metadata": {},
   "outputs": [
    {
     "data": {
      "text/plain": [
       "0"
      ]
     },
     "execution_count": 14,
     "metadata": {},
     "output_type": "execute_result"
    }
   ],
   "source": [
    "df.duplicated().sum()"
   ]
  },
  {
   "cell_type": "markdown",
   "metadata": {},
   "source": [
    "4. Como hemos visto, algunas columnas no tienen el tipo de datos que deberían. Cambiad el tipo de dato para las columnas de cons.price.idx, cons.conf.idx, euribor3m, nr.employed."
   ]
  },
  {
   "cell_type": "code",
   "execution_count": 15,
   "metadata": {},
   "outputs": [
    {
     "data": {
      "text/html": [
       "<div>\n",
       "<style scoped>\n",
       "    .dataframe tbody tr th:only-of-type {\n",
       "        vertical-align: middle;\n",
       "    }\n",
       "\n",
       "    .dataframe tbody tr th {\n",
       "        vertical-align: top;\n",
       "    }\n",
       "\n",
       "    .dataframe thead th {\n",
       "        text-align: right;\n",
       "    }\n",
       "</style>\n",
       "<table border=\"1\" class=\"dataframe\">\n",
       "  <thead>\n",
       "    <tr style=\"text-align: right;\">\n",
       "      <th></th>\n",
       "      <th>age</th>\n",
       "      <th>job</th>\n",
       "      <th>marital</th>\n",
       "      <th>education</th>\n",
       "      <th>default</th>\n",
       "      <th>housing</th>\n",
       "      <th>loan</th>\n",
       "      <th>contact</th>\n",
       "      <th>duration</th>\n",
       "      <th>campaign</th>\n",
       "      <th>pdays</th>\n",
       "      <th>previous</th>\n",
       "      <th>poutcome</th>\n",
       "      <th>emp,var,rate</th>\n",
       "      <th>cons,price,idx</th>\n",
       "      <th>cons,conf,idx</th>\n",
       "      <th>euribor3m</th>\n",
       "      <th>nr,employed</th>\n",
       "      <th>y</th>\n",
       "      <th>month_day_week</th>\n",
       "    </tr>\n",
       "  </thead>\n",
       "  <tbody>\n",
       "    <tr>\n",
       "      <th>0</th>\n",
       "      <td>56</td>\n",
       "      <td>housemaid</td>\n",
       "      <td>MARRIED</td>\n",
       "      <td>basic.4y</td>\n",
       "      <td>0.0</td>\n",
       "      <td>0.0</td>\n",
       "      <td>0.0</td>\n",
       "      <td>telephone</td>\n",
       "      <td>261</td>\n",
       "      <td>1</td>\n",
       "      <td>999</td>\n",
       "      <td>0</td>\n",
       "      <td>NONEXISTENT</td>\n",
       "      <td>1.1</td>\n",
       "      <td>93,994</td>\n",
       "      <td>-36,4</td>\n",
       "      <td>4,857</td>\n",
       "      <td>5191,0</td>\n",
       "      <td>no</td>\n",
       "      <td>['may', 'mon']</td>\n",
       "    </tr>\n",
       "    <tr>\n",
       "      <th>1</th>\n",
       "      <td>57</td>\n",
       "      <td>services</td>\n",
       "      <td>MARRIED</td>\n",
       "      <td>high.school</td>\n",
       "      <td>NaN</td>\n",
       "      <td>0.0</td>\n",
       "      <td>0.0</td>\n",
       "      <td>telephone</td>\n",
       "      <td>149</td>\n",
       "      <td>1</td>\n",
       "      <td>999</td>\n",
       "      <td>0</td>\n",
       "      <td>NONEXISTENT</td>\n",
       "      <td>1.1</td>\n",
       "      <td>93,994</td>\n",
       "      <td>-36,4</td>\n",
       "      <td>4,857</td>\n",
       "      <td>5191,0</td>\n",
       "      <td>no</td>\n",
       "      <td>['may', 'mon']</td>\n",
       "    </tr>\n",
       "    <tr>\n",
       "      <th>2</th>\n",
       "      <td>37</td>\n",
       "      <td>services</td>\n",
       "      <td>MARRIED</td>\n",
       "      <td>high.school</td>\n",
       "      <td>0.0</td>\n",
       "      <td>1.0</td>\n",
       "      <td>0.0</td>\n",
       "      <td>telephone</td>\n",
       "      <td>226</td>\n",
       "      <td>1</td>\n",
       "      <td>999</td>\n",
       "      <td>0</td>\n",
       "      <td>NONEXISTENT</td>\n",
       "      <td>1.1</td>\n",
       "      <td>93,994</td>\n",
       "      <td>-36,4</td>\n",
       "      <td>4,857</td>\n",
       "      <td>5191,0</td>\n",
       "      <td>no</td>\n",
       "      <td>['may', 'mon']</td>\n",
       "    </tr>\n",
       "    <tr>\n",
       "      <th>3</th>\n",
       "      <td>40</td>\n",
       "      <td>admin.</td>\n",
       "      <td>MARRIED</td>\n",
       "      <td>basic.6y</td>\n",
       "      <td>0.0</td>\n",
       "      <td>0.0</td>\n",
       "      <td>0.0</td>\n",
       "      <td>telephone</td>\n",
       "      <td>151</td>\n",
       "      <td>1</td>\n",
       "      <td>999</td>\n",
       "      <td>0</td>\n",
       "      <td>NONEXISTENT</td>\n",
       "      <td>1.1</td>\n",
       "      <td>93,994</td>\n",
       "      <td>-36,4</td>\n",
       "      <td>4,857</td>\n",
       "      <td>5191,0</td>\n",
       "      <td>no</td>\n",
       "      <td>['may', 'mon']</td>\n",
       "    </tr>\n",
       "    <tr>\n",
       "      <th>4</th>\n",
       "      <td>56</td>\n",
       "      <td>services</td>\n",
       "      <td>MARRIED</td>\n",
       "      <td>high.school</td>\n",
       "      <td>0.0</td>\n",
       "      <td>0.0</td>\n",
       "      <td>1.0</td>\n",
       "      <td>telephone</td>\n",
       "      <td>307</td>\n",
       "      <td>1</td>\n",
       "      <td>999</td>\n",
       "      <td>0</td>\n",
       "      <td>NONEXISTENT</td>\n",
       "      <td>1.1</td>\n",
       "      <td>93,994</td>\n",
       "      <td>-36,4</td>\n",
       "      <td>4,857</td>\n",
       "      <td>5191,0</td>\n",
       "      <td>no</td>\n",
       "      <td>['may', 'mon']</td>\n",
       "    </tr>\n",
       "  </tbody>\n",
       "</table>\n",
       "</div>"
      ],
      "text/plain": [
       "   age        job  marital    education  default  housing  loan    contact  \\\n",
       "0   56  housemaid  MARRIED     basic.4y      0.0      0.0   0.0  telephone   \n",
       "1   57   services  MARRIED  high.school      NaN      0.0   0.0  telephone   \n",
       "2   37   services  MARRIED  high.school      0.0      1.0   0.0  telephone   \n",
       "3   40     admin.  MARRIED     basic.6y      0.0      0.0   0.0  telephone   \n",
       "4   56   services  MARRIED  high.school      0.0      0.0   1.0  telephone   \n",
       "\n",
       "   duration  campaign  pdays  previous     poutcome  emp,var,rate  \\\n",
       "0       261         1    999         0  NONEXISTENT           1.1   \n",
       "1       149         1    999         0  NONEXISTENT           1.1   \n",
       "2       226         1    999         0  NONEXISTENT           1.1   \n",
       "3       151         1    999         0  NONEXISTENT           1.1   \n",
       "4       307         1    999         0  NONEXISTENT           1.1   \n",
       "\n",
       "  cons,price,idx cons,conf,idx euribor3m nr,employed   y  month_day_week  \n",
       "0         93,994         -36,4     4,857      5191,0  no  ['may', 'mon']  \n",
       "1         93,994         -36,4     4,857      5191,0  no  ['may', 'mon']  \n",
       "2         93,994         -36,4     4,857      5191,0  no  ['may', 'mon']  \n",
       "3         93,994         -36,4     4,857      5191,0  no  ['may', 'mon']  \n",
       "4         93,994         -36,4     4,857      5191,0  no  ['may', 'mon']  "
      ]
     },
     "execution_count": 15,
     "metadata": {},
     "output_type": "execute_result"
    }
   ],
   "source": [
    "df.head()"
   ]
  },
  {
   "cell_type": "code",
   "execution_count": 16,
   "metadata": {},
   "outputs": [
    {
     "data": {
      "text/plain": [
       "age                 int64\n",
       "job                object\n",
       "marital            object\n",
       "education          object\n",
       "default           float64\n",
       "housing           float64\n",
       "loan              float64\n",
       "contact            object\n",
       "duration            int64\n",
       "campaign            int64\n",
       "pdays               int64\n",
       "previous            int64\n",
       "poutcome           object\n",
       "emp,var,rate      float64\n",
       "cons,price,idx     object\n",
       "cons,conf,idx      object\n",
       "euribor3m          object\n",
       "nr,employed        object\n",
       "y                  object\n",
       "month_day_week     object\n",
       "dtype: object"
      ]
     },
     "execution_count": 16,
     "metadata": {},
     "output_type": "execute_result"
    }
   ],
   "source": [
    "df.dtypes"
   ]
  },
  {
   "cell_type": "code",
   "execution_count": 17,
   "metadata": {},
   "outputs": [],
   "source": [
    "df[[\"cons,price,idx\", 'cons,conf,idx', 'euribor3m', 'nr,employed']] = df[[\"cons,price,idx\", 'cons,conf,idx', 'euribor3m', 'nr,employed']].replace(r',', \".\", regex=True)"
   ]
  },
  {
   "cell_type": "code",
   "execution_count": 18,
   "metadata": {},
   "outputs": [
    {
     "data": {
      "text/plain": [
       "age                 int64\n",
       "job                object\n",
       "marital            object\n",
       "education          object\n",
       "default           float64\n",
       "housing           float64\n",
       "loan              float64\n",
       "contact            object\n",
       "duration            int64\n",
       "campaign            int64\n",
       "pdays               int64\n",
       "previous            int64\n",
       "poutcome           object\n",
       "emp,var,rate      float64\n",
       "cons,price,idx     object\n",
       "cons,conf,idx      object\n",
       "euribor3m          object\n",
       "nr,employed        object\n",
       "y                  object\n",
       "month_day_week     object\n",
       "dtype: object"
      ]
     },
     "execution_count": 18,
     "metadata": {},
     "output_type": "execute_result"
    }
   ],
   "source": [
    "df.dtypes"
   ]
  },
  {
   "cell_type": "code",
   "execution_count": 19,
   "metadata": {},
   "outputs": [],
   "source": [
    "df = df.astype({\"cons,price,idx\":'float64', \"cons,conf,idx\": 'float64', \"euribor3m\":'float64', \"nr,employed\": 'float64'}, copy=True, errors ='raise')"
   ]
  },
  {
   "cell_type": "code",
   "execution_count": 20,
   "metadata": {},
   "outputs": [
    {
     "data": {
      "text/plain": [
       "age                 int64\n",
       "job                object\n",
       "marital            object\n",
       "education          object\n",
       "default           float64\n",
       "housing           float64\n",
       "loan              float64\n",
       "contact            object\n",
       "duration            int64\n",
       "campaign            int64\n",
       "pdays               int64\n",
       "previous            int64\n",
       "poutcome           object\n",
       "emp,var,rate      float64\n",
       "cons,price,idx    float64\n",
       "cons,conf,idx     float64\n",
       "euribor3m         float64\n",
       "nr,employed       float64\n",
       "y                  object\n",
       "month_day_week     object\n",
       "dtype: object"
      ]
     },
     "execution_count": 20,
     "metadata": {},
     "output_type": "execute_result"
    }
   ],
   "source": [
    "df.dtypes"
   ]
  },
  {
   "cell_type": "markdown",
   "metadata": {},
   "source": [
    "5. En las columnas de marital y month, poner todos los valores en minúsculas.\n",
    "💡 Pista Podréis usar una función o una lambda 💡"
   ]
  },
  {
   "cell_type": "code",
   "execution_count": 21,
   "metadata": {},
   "outputs": [],
   "source": [
    "df['marital'] = df['marital'].str.lower()\n",
    "df['month_day_week'] = df['month_day_week'].str.lower()"
   ]
  },
  {
   "cell_type": "code",
   "execution_count": 22,
   "metadata": {},
   "outputs": [
    {
     "data": {
      "text/html": [
       "<div>\n",
       "<style scoped>\n",
       "    .dataframe tbody tr th:only-of-type {\n",
       "        vertical-align: middle;\n",
       "    }\n",
       "\n",
       "    .dataframe tbody tr th {\n",
       "        vertical-align: top;\n",
       "    }\n",
       "\n",
       "    .dataframe thead th {\n",
       "        text-align: right;\n",
       "    }\n",
       "</style>\n",
       "<table border=\"1\" class=\"dataframe\">\n",
       "  <thead>\n",
       "    <tr style=\"text-align: right;\">\n",
       "      <th></th>\n",
       "      <th>age</th>\n",
       "      <th>job</th>\n",
       "      <th>marital</th>\n",
       "      <th>education</th>\n",
       "      <th>default</th>\n",
       "      <th>housing</th>\n",
       "      <th>loan</th>\n",
       "      <th>contact</th>\n",
       "      <th>duration</th>\n",
       "      <th>campaign</th>\n",
       "      <th>pdays</th>\n",
       "      <th>previous</th>\n",
       "      <th>poutcome</th>\n",
       "      <th>emp,var,rate</th>\n",
       "      <th>cons,price,idx</th>\n",
       "      <th>cons,conf,idx</th>\n",
       "      <th>euribor3m</th>\n",
       "      <th>nr,employed</th>\n",
       "      <th>y</th>\n",
       "      <th>month_day_week</th>\n",
       "    </tr>\n",
       "  </thead>\n",
       "  <tbody>\n",
       "    <tr>\n",
       "      <th>37636</th>\n",
       "      <td>46</td>\n",
       "      <td>entrepreneur</td>\n",
       "      <td>married</td>\n",
       "      <td>high.school</td>\n",
       "      <td>0.0</td>\n",
       "      <td>1.0</td>\n",
       "      <td>0.0</td>\n",
       "      <td>cellular</td>\n",
       "      <td>109</td>\n",
       "      <td>1</td>\n",
       "      <td>999</td>\n",
       "      <td>0</td>\n",
       "      <td>NONEXISTENT</td>\n",
       "      <td>-2.9</td>\n",
       "      <td>92.201</td>\n",
       "      <td>-31.4</td>\n",
       "      <td>0.861</td>\n",
       "      <td>5076.2</td>\n",
       "      <td>no</td>\n",
       "      <td>['aug', 'mon']</td>\n",
       "    </tr>\n",
       "    <tr>\n",
       "      <th>10602</th>\n",
       "      <td>54</td>\n",
       "      <td>management</td>\n",
       "      <td>married</td>\n",
       "      <td>university.degree</td>\n",
       "      <td>0.0</td>\n",
       "      <td>1.0</td>\n",
       "      <td>0.0</td>\n",
       "      <td>telephone</td>\n",
       "      <td>89</td>\n",
       "      <td>1</td>\n",
       "      <td>999</td>\n",
       "      <td>0</td>\n",
       "      <td>NONEXISTENT</td>\n",
       "      <td>1.4</td>\n",
       "      <td>94.465</td>\n",
       "      <td>-41.8</td>\n",
       "      <td>4.961</td>\n",
       "      <td>5228.1</td>\n",
       "      <td>no</td>\n",
       "      <td>['jun', 'tue']</td>\n",
       "    </tr>\n",
       "    <tr>\n",
       "      <th>23978</th>\n",
       "      <td>41</td>\n",
       "      <td>admin.</td>\n",
       "      <td>married</td>\n",
       "      <td>university.degree</td>\n",
       "      <td>0.0</td>\n",
       "      <td>0.0</td>\n",
       "      <td>0.0</td>\n",
       "      <td>cellular</td>\n",
       "      <td>106</td>\n",
       "      <td>3</td>\n",
       "      <td>999</td>\n",
       "      <td>0</td>\n",
       "      <td>NONEXISTENT</td>\n",
       "      <td>1.4</td>\n",
       "      <td>93.444</td>\n",
       "      <td>-36.1</td>\n",
       "      <td>4.963</td>\n",
       "      <td>5228.1</td>\n",
       "      <td>no</td>\n",
       "      <td>['aug', 'fri']</td>\n",
       "    </tr>\n",
       "  </tbody>\n",
       "</table>\n",
       "</div>"
      ],
      "text/plain": [
       "       age           job  marital          education  default  housing  loan  \\\n",
       "37636   46  entrepreneur  married        high.school      0.0      1.0   0.0   \n",
       "10602   54    management  married  university.degree      0.0      1.0   0.0   \n",
       "23978   41        admin.  married  university.degree      0.0      0.0   0.0   \n",
       "\n",
       "         contact  duration  campaign  pdays  previous     poutcome  \\\n",
       "37636   cellular       109         1    999         0  NONEXISTENT   \n",
       "10602  telephone        89         1    999         0  NONEXISTENT   \n",
       "23978   cellular       106         3    999         0  NONEXISTENT   \n",
       "\n",
       "       emp,var,rate  cons,price,idx  cons,conf,idx  euribor3m  nr,employed  \\\n",
       "37636          -2.9          92.201          -31.4      0.861       5076.2   \n",
       "10602           1.4          94.465          -41.8      4.961       5228.1   \n",
       "23978           1.4          93.444          -36.1      4.963       5228.1   \n",
       "\n",
       "        y  month_day_week  \n",
       "37636  no  ['aug', 'mon']  \n",
       "10602  no  ['jun', 'tue']  \n",
       "23978  no  ['aug', 'fri']  "
      ]
     },
     "execution_count": 22,
     "metadata": {},
     "output_type": "execute_result"
    }
   ],
   "source": [
    "df.sample(3)"
   ]
  },
  {
   "cell_type": "markdown",
   "metadata": {},
   "source": [
    "6. Para no olvidarnos de la visualización. A través de la visualización, podemos detectar errores, valores atípicos, valores faltantes y otros problemas comunes en los datos que de otra manera podrían ser difíciles de identificar. Para esto vamos a hacer una serie de gráficas que deberán ser incluidas en un subplot. Estas gráficas tienen que ser:"
   ]
  },
  {
   "cell_type": "markdown",
   "metadata": {},
   "source": [
    "- Una gráfica donde podamos ver si el tipo de trabajo afecta a que un cliente acepte la oferta."
   ]
  },
  {
   "cell_type": "code",
   "execution_count": 23,
   "metadata": {},
   "outputs": [
    {
     "data": {
      "text/plain": [
       "poutcome\n",
       "NONEXISTENT    35551\n",
       "FAILURE         4252\n",
       "SUCCESS         1373\n",
       "Name: count, dtype: int64"
      ]
     },
     "execution_count": 23,
     "metadata": {},
     "output_type": "execute_result"
    }
   ],
   "source": [
    "df[\"poutcome\"].value_counts()"
   ]
  },
  {
   "cell_type": "code",
   "execution_count": 24,
   "metadata": {},
   "outputs": [
    {
     "data": {
      "text/plain": [
       "job\n",
       "admin.           10419\n",
       "blue-collar       9253\n",
       "technician        6739\n",
       "services          3967\n",
       "management        2924\n",
       "retired           1718\n",
       "entrepreneur      1456\n",
       "self-employed     1421\n",
       "housemaid         1060\n",
       "unemployed        1014\n",
       "student            875\n",
       "Name: count, dtype: int64"
      ]
     },
     "execution_count": 24,
     "metadata": {},
     "output_type": "execute_result"
    }
   ],
   "source": [
    "df[\"job\"].value_counts()"
   ]
  },
  {
   "cell_type": "code",
   "execution_count": 25,
   "metadata": {},
   "outputs": [],
   "source": [
    "import seaborn as sns\n",
    "import matplotlib.pyplot as plt"
   ]
  },
  {
   "cell_type": "code",
   "execution_count": 26,
   "metadata": {},
   "outputs": [
    {
     "data": {
      "image/png": "[encoded data removed]",
      "text/plain": [
       "<Figure size 1000x600 with 1 Axes>"
      ]
     },
     "metadata": {},
     "output_type": "display_data"
    }
   ],
   "source": [
    "plt.figure(figsize=(10, 6))\n",
    "sns.countplot(x='job', hue='y', data=df)\n",
    "plt.title('Aceptación de Oferta por Tipo de Trabajo')\n",
    "plt.xlabel('Tipo de Trabajo')\n",
    "plt.ylabel('Cantidad')\n",
    "plt.xticks(rotation=45)\n",
    "plt.legend(title='Aceptación', labels=['No Aceptó', 'Aceptó'])\n",
    "plt.show()"
   ]
  },
  {
   "cell_type": "markdown",
   "metadata": {},
   "source": [
    "- Una gráfica donde podamos ver si el hecho de que un cliente tenga una hipoteca afecta a que acepte la oferta."
   ]
  },
  {
   "cell_type": "code",
   "execution_count": 27,
   "metadata": {},
   "outputs": [
    {
     "data": {
      "image/png": "[encoded data removed]",
      "text/plain": [
       "<Figure size 1000x600 with 1 Axes>"
      ]
     },
     "metadata": {},
     "output_type": "display_data"
    }
   ],
   "source": [
    "plt.figure(figsize=(10, 6))\n",
    "sns.countplot(x='housing', hue='y', data=df)\n",
    "plt.title('Aceptación de Oferta si tiene Hipoteca')\n",
    "plt.xlabel('Hipoteca')\n",
    "plt.ylabel('Cantidad')\n",
    "plt.xticks(rotation=45)\n",
    "plt.legend(title='Aceptación', labels=['No Aceptó', 'Aceptó'])\n",
    "plt.show()"
   ]
  },
  {
   "cell_type": "markdown",
   "metadata": {},
   "source": [
    "- Una gráfica donde podamos ver si el hecho de que un cliente tenga un prestamo afecta a que acepte la oferta."
   ]
  },
  {
   "cell_type": "code",
   "execution_count": 28,
   "metadata": {},
   "outputs": [
    {
     "data": {
      "image/png": "[encoded data removed]",
      "text/plain": [
       "<Figure size 1000x600 with 1 Axes>"
      ]
     },
     "metadata": {},
     "output_type": "display_data"
    }
   ],
   "source": [
    "plt.figure(figsize=(10, 6))\n",
    "sns.countplot(x='loan', hue='y', data=df)\n",
    "plt.title('Aceptación de Oferta si tiene Préstamo')\n",
    "plt.xlabel('Préstamo')\n",
    "plt.ylabel('Cantidad')\n",
    "plt.xticks(rotation=45)\n",
    "plt.legend(title='Aceptación', labels=['No Aceptó', 'Aceptó'])\n",
    "plt.show()"
   ]
  },
  {
   "cell_type": "markdown",
   "metadata": {},
   "source": [
    "- Una gráfica donde podamos ver si hay una relación entre el numero de días desde el último contacto afecta a que un cliente acepte la oferta"
   ]
  },
  {
   "cell_type": "code",
   "execution_count": 29,
   "metadata": {},
   "outputs": [
    {
     "data": {
      "text/plain": [
       "pdays\n",
       "999    39661\n",
       "3        439\n",
       "6        412\n",
       "4        118\n",
       "9         64\n",
       "2         61\n",
       "7         60\n",
       "12        58\n",
       "10        52\n",
       "5         46\n",
       "13        36\n",
       "11        28\n",
       "1         26\n",
       "15        24\n",
       "14        20\n",
       "8         18\n",
       "0         15\n",
       "16        11\n",
       "17         8\n",
       "18         7\n",
       "22         3\n",
       "19         3\n",
       "21         2\n",
       "25         1\n",
       "26         1\n",
       "27         1\n",
       "20         1\n",
       "Name: count, dtype: int64"
      ]
     },
     "execution_count": 29,
     "metadata": {},
     "output_type": "execute_result"
    }
   ],
   "source": [
    "df['pdays'].value_counts()"
   ]
  },
  {
   "cell_type": "code",
   "execution_count": 33,
   "metadata": {},
   "outputs": [
    {
     "data": {
      "image/png": "[encoded data removed]",
      "text/plain": [
       "<Figure size 640x480 with 1 Axes>"
      ]
     },
     "metadata": {},
     "output_type": "display_data"
    }
   ],
   "source": [
    "plt.bar(df[\"y\"],df[\"pdays\"])\n",
    "plt.title('Aceptación de Oferta en función de los días')\n",
    "plt.show();"
   ]
  },
  {
   "cell_type": "code",
   "execution_count": 30,
   "metadata": {},
   "outputs": [
    {
     "data": {
      "image/png": "[encoded data removed]",
      "text/plain": [
       "<Figure size 800x400 with 1 Axes>"
      ]
     },
     "metadata": {},
     "output_type": "display_data"
    }
   ],
   "source": [
    "# iniciamos la gráfica\n",
    "plt.figure(figsize =(8,4))\n",
    "\n",
    "# establecemos la gráfica con elm método hue para la columna de \"island\"\n",
    "fig = sns.histplot(x= 'pdays', data = df, hue =  'y')\n",
    "\n",
    "# cambiamos el nombre de los ejes\n",
    "fig.set(xlabel= 'Días',  ylabel =  'Cantidad')\n",
    "\n",
    "# ponemos título a la gráfica\n",
    "fig.set_title('Aceptación de Oferta en función de días desde el último contacto')\n",
    "\n",
    "# mostramos la gráfica\n",
    "plt.show()"
   ]
  },
  {
   "cell_type": "markdown",
   "metadata": {},
   "source": [
    "- Una gráfica donde podamos ver si hay relación entre el resultado de la campaña anterior y si el cliente afecta a que el cliente acepte la oferta."
   ]
  },
  {
   "cell_type": "code",
   "execution_count": 31,
   "metadata": {},
   "outputs": [
    {
     "data": {
      "text/plain": [
       "campaign\n",
       "1     17634\n",
       "2     10568\n",
       "3      5340\n",
       "4      2650\n",
       "5      1599\n",
       "6       979\n",
       "7       629\n",
       "8       400\n",
       "9       283\n",
       "10      225\n",
       "11      177\n",
       "12      125\n",
       "13       92\n",
       "14       69\n",
       "17       58\n",
       "16       51\n",
       "15       51\n",
       "18       33\n",
       "20       30\n",
       "19       26\n",
       "21       24\n",
       "22       17\n",
       "23       16\n",
       "24       15\n",
       "27       11\n",
       "29       10\n",
       "28        8\n",
       "26        8\n",
       "25        8\n",
       "31        7\n",
       "30        7\n",
       "35        5\n",
       "32        4\n",
       "33        4\n",
       "34        3\n",
       "42        2\n",
       "40        2\n",
       "43        2\n",
       "56        1\n",
       "39        1\n",
       "41        1\n",
       "37        1\n",
       "Name: count, dtype: int64"
      ]
     },
     "execution_count": 31,
     "metadata": {},
     "output_type": "execute_result"
    }
   ],
   "source": [
    "df['campaign'].value_counts()"
   ]
  },
  {
   "cell_type": "code",
   "execution_count": 32,
   "metadata": {},
   "outputs": [
    {
     "data": {
      "image/png": "[encoded data removed]",
      "text/plain": [
       "<Figure size 640x480 with 1 Axes>"
      ]
     },
     "metadata": {},
     "output_type": "display_data"
    }
   ],
   "source": [
    "plt.bar(df[\"y\"],df[\"campaign\"])\n",
    "plt.title('Aceptación de Oferta en función de la campaña')\n",
    "plt.show();"
   ]
  },
  {
   "cell_type": "markdown",
   "metadata": {},
   "source": [
    "7. Guardamos el csv para seguir trabajando en el siguiente ejercicio de pair de limpieza"
   ]
  },
  {
   "cell_type": "code",
   "execution_count": null,
   "metadata": {},
   "outputs": [],
   "source": []
  }
 ],
 "metadata": {
  "kernelspec": {
   "display_name": "adalabenv",
   "language": "python",
   "name": "python3"
  },
  "language_info": {
   "codemirror_mode": {
    "name": "ipython",
    "version": 3
   },
   "file_extension": ".py",
   "mimetype": "text/x-python",
   "name": "python",
   "nbconvert_exporter": "python",
   "pygments_lexer": "ipython3",
   "version": "3.10.11"
  },
  "orig_nbformat": 4
 },
 "nbformat": 4,
 "nbformat_minor": 2
}
