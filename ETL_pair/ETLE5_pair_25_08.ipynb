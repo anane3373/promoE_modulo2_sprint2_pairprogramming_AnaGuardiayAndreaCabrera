{
 "cells": [
  {
   "cell_type": "markdown",
   "metadata": {},
   "source": [
    "# ETL 5 Pair 25/08\n",
    "## ETL Carga I"
   ]
  },
  {
   "cell_type": "markdown",
   "metadata": {},
   "source": [
    "Igual que en el ejercicio de pair programming de ETL Transformación II, tendréis que crear una clase que nos permita cargar los datos en SQL I."
   ]
  },
  {
   "cell_type": "markdown",
   "metadata": {},
   "source": [
    "### Imports"
   ]
  },
  {
   "cell_type": "code",
   "execution_count": 1,
   "metadata": {},
   "outputs": [],
   "source": [
    "from IPython.core.interactiveshell import InteractiveShell \n",
    "InteractiveShell.ast_node_interactivity = \"all\"\n",
    "\n",
    "import pandas as pd\n",
    "import mysql.connector\n",
    "\n",
    "from datetime import datetime, timedelta"
   ]
  },
  {
   "cell_type": "markdown",
   "metadata": {},
   "source": [
    "### Datos"
   ]
  },
  {
   "cell_type": "code",
   "execution_count": 2,
   "metadata": {},
   "outputs": [
    {
     "data": {
      "text/html": [
       "<div>\n",
       "<style scoped>\n",
       "    .dataframe tbody tr th:only-of-type {\n",
       "        vertical-align: middle;\n",
       "    }\n",
       "\n",
       "    .dataframe tbody tr th {\n",
       "        vertical-align: top;\n",
       "    }\n",
       "\n",
       "    .dataframe thead th {\n",
       "        text-align: right;\n",
       "    }\n",
       "</style>\n",
       "<table border=\"1\" class=\"dataframe\">\n",
       "  <thead>\n",
       "    <tr style=\"text-align: right;\">\n",
       "      <th></th>\n",
       "      <th>value</th>\n",
       "      <th>percentage</th>\n",
       "      <th>tipo_energia</th>\n",
       "      <th>comunidad</th>\n",
       "      <th>id_comunidad</th>\n",
       "      <th>fecha</th>\n",
       "    </tr>\n",
       "  </thead>\n",
       "  <tbody>\n",
       "    <tr>\n",
       "      <th>0</th>\n",
       "      <td>460.05</td>\n",
       "      <td>1.0</td>\n",
       "      <td>No renovable</td>\n",
       "      <td>Ceuta</td>\n",
       "      <td>8744</td>\n",
       "      <td>2011-01-01</td>\n",
       "    </tr>\n",
       "    <tr>\n",
       "      <th>1</th>\n",
       "      <td>462.98</td>\n",
       "      <td>1.0</td>\n",
       "      <td>No renovable</td>\n",
       "      <td>Ceuta</td>\n",
       "      <td>8744</td>\n",
       "      <td>2011-01-02</td>\n",
       "    </tr>\n",
       "  </tbody>\n",
       "</table>\n",
       "</div>"
      ],
      "text/plain": [
       "    value  percentage  tipo_energia comunidad  id_comunidad      fecha\n",
       "0  460.05         1.0  No renovable     Ceuta          8744 2011-01-01\n",
       "1  462.98         1.0  No renovable     Ceuta          8744 2011-01-02"
      ]
     },
     "execution_count": 2,
     "metadata": {},
     "output_type": "execute_result"
    }
   ],
   "source": [
    "df_energia_ccaa = pd.read_pickle(\"data/pairETL3_energia_ccaa.pkl\")\n",
    "df_energia_ccaa.head(2)"
   ]
  },
  {
   "cell_type": "code",
   "execution_count": 3,
   "metadata": {},
   "outputs": [
    {
     "data": {
      "text/html": [
       "<div>\n",
       "<style scoped>\n",
       "    .dataframe tbody tr th:only-of-type {\n",
       "        vertical-align: middle;\n",
       "    }\n",
       "\n",
       "    .dataframe tbody tr th {\n",
       "        vertical-align: top;\n",
       "    }\n",
       "\n",
       "    .dataframe thead th {\n",
       "        text-align: right;\n",
       "    }\n",
       "</style>\n",
       "<table border=\"1\" class=\"dataframe\">\n",
       "  <thead>\n",
       "    <tr style=\"text-align: right;\">\n",
       "      <th></th>\n",
       "      <th>value</th>\n",
       "      <th>percentage</th>\n",
       "      <th>tipo_energia</th>\n",
       "      <th>fecha</th>\n",
       "    </tr>\n",
       "  </thead>\n",
       "  <tbody>\n",
       "    <tr>\n",
       "      <th>0</th>\n",
       "      <td>182024.98</td>\n",
       "      <td>0.29</td>\n",
       "      <td>Renovable</td>\n",
       "      <td>2011-01-01</td>\n",
       "    </tr>\n",
       "    <tr>\n",
       "      <th>1</th>\n",
       "      <td>265705.89</td>\n",
       "      <td>0.39</td>\n",
       "      <td>Renovable</td>\n",
       "      <td>2011-01-02</td>\n",
       "    </tr>\n",
       "  </tbody>\n",
       "</table>\n",
       "</div>"
      ],
      "text/plain": [
       "       value  percentage tipo_energia      fecha\n",
       "0  182024.98        0.29    Renovable 2011-01-01\n",
       "1  265705.89        0.39    Renovable 2011-01-02"
      ]
     },
     "execution_count": 3,
     "metadata": {},
     "output_type": "execute_result"
    }
   ],
   "source": [
    "df_energia_nacional = pd.read_pickle(\"data/pairETL3_energia_nacional.pkl\")\n",
    "df_energia_nacional.head(2)"
   ]
  },
  {
   "cell_type": "code",
   "execution_count": 4,
   "metadata": {},
   "outputs": [
    {
     "data": {
      "text/html": [
       "<div>\n",
       "<style scoped>\n",
       "    .dataframe tbody tr th:only-of-type {\n",
       "        vertical-align: middle;\n",
       "    }\n",
       "\n",
       "    .dataframe tbody tr th {\n",
       "        vertical-align: top;\n",
       "    }\n",
       "\n",
       "    .dataframe thead th {\n",
       "        text-align: right;\n",
       "    }\n",
       "</style>\n",
       "<table border=\"1\" class=\"dataframe\">\n",
       "  <thead>\n",
       "    <tr style=\"text-align: right;\">\n",
       "      <th></th>\n",
       "      <th>Unnamed: 0</th>\n",
       "      <th>Comunidad</th>\n",
       "      <th>indice</th>\n",
       "      <th>Año</th>\n",
       "      <th>Total</th>\n",
       "    </tr>\n",
       "  </thead>\n",
       "  <tbody>\n",
       "    <tr>\n",
       "      <th>0</th>\n",
       "      <td>0</td>\n",
       "      <td>Ceuta</td>\n",
       "      <td>8744</td>\n",
       "      <td>2022</td>\n",
       "      <td>83.117</td>\n",
       "    </tr>\n",
       "    <tr>\n",
       "      <th>1</th>\n",
       "      <td>1</td>\n",
       "      <td>Ceuta</td>\n",
       "      <td>8744</td>\n",
       "      <td>2021</td>\n",
       "      <td>83.517</td>\n",
       "    </tr>\n",
       "  </tbody>\n",
       "</table>\n",
       "</div>"
      ],
      "text/plain": [
       "   Unnamed: 0 Comunidad  indice   Año   Total\n",
       "0           0     Ceuta    8744  2022  83.117\n",
       "1           1     Ceuta    8744  2021  83.517"
      ]
     },
     "execution_count": 4,
     "metadata": {},
     "output_type": "execute_result"
    }
   ],
   "source": [
    "df_poblacion_ccaa = pd.read_pickle(\"data/pairETL3_poblacion_comunidades.pkl\")\n",
    "df_poblacion_ccaa.head(2)"
   ]
  },
  {
   "cell_type": "markdown",
   "metadata": {},
   "source": [
    "### Clases"
   ]
  },
  {
   "cell_type": "code",
   "execution_count": 5,
   "metadata": {},
   "outputs": [],
   "source": [
    "class Cargar:\n",
    "    \n",
    "    def __init__(self, nombre_bbdd, contraseña):\n",
    "        \n",
    "        self.nombre_bbdd = nombre_bbdd\n",
    "        self.contraseña = contraseña\n",
    "\n",
    "   \n",
    "    def crear_bbdd(self):\n",
    "\n",
    "        mydb = mysql.connector.connect(host=\"localhost\",\n",
    "                                       user=\"root\",\n",
    "                                       password=f'{self.contraseña}') \n",
    "        mycursor = mydb.cursor()\n",
    "        print(\"Conexión realizada con éxito\")\n",
    "\n",
    "        try:\n",
    "            mycursor.execute(f\"CREATE DATABASE IF NOT EXISTS {self.nombre_bbdd};\")\n",
    "            \n",
    "        except:\n",
    "            print(\"La BBDD ya existe\")\n",
    "            \n",
    "      \n",
    "    def crear_insertar_tabla(self, query):\n",
    "        \n",
    "        mydb = mysql.connector.connect(host=\"localhost\",\n",
    "                                       user=\"root\",\n",
    "                                       password=f'{self.contraseña}', \n",
    "                                       database=f\"{self.nombre_bbdd}\") \n",
    "        mycursor = mydb.cursor()\n",
    "        \n",
    "        try:\n",
    "            mycursor.execute(query)\n",
    "            mydb.commit()\n",
    "          \n",
    "        except mysql.connector.Error as err:\n",
    "            print(err)\n",
    "            print(\"Error Code:\", err.errno)\n",
    "            print(\"SQLSTATE\", err.sqlstate)\n",
    "            print(\"Message\", err.msg)\n",
    "            \n",
    "\n",
    "    def check_comunidades(self):\n",
    "    \n",
    "        mydb = mysql.connector.connect(user='root',\n",
    "                                      password=f\"{self.contraseña}\",\n",
    "                                      host='127.0.0.1',\n",
    "                                      database=f\"{self.nombre_bbdd}\")\n",
    "        mycursor = mydb.cursor()\n",
    "\n",
    "        # query para extraer los valores únicos de ciudades de la tabla de localidades \n",
    "        query_existe_ciudad = f\"\"\"\n",
    "                SELECT DISTINCT comunidades FROM comunidades\n",
    "                \"\"\"\n",
    "        mycursor.execute(query_existe_ciudad)\n",
    "        comunidades = mycursor.fetchall()\n",
    "        return comunidades\n",
    "    \n",
    "    # método para sacar el id de una ciudad en concreto \n",
    "    def sacar_id_comunidad(self, comunidad):\n",
    "        \n",
    "        mydb = mysql.connector.connect(user='root',\n",
    "                                       password= f'{self.contraseña}',\n",
    "                                       host='127.0.0.1', \n",
    "                                       database=f\"{self.nombre_bbdd}\")\n",
    "        mycursor = mydb.cursor()\n",
    "        \n",
    "        try:\n",
    "            query_sacar_id = f\"SELECT idcomunidades FROM comunidades WHERE comunidades = '{comunidad}'\"\n",
    "            mycursor.execute(query_sacar_id)\n",
    "            id_ = mycursor.fetchall()[0][0]\n",
    "            return id_\n",
    "        \n",
    "        except: \n",
    "            return \"Sorry, no tenemos esa comunidad en la BBDD y por lo tanto no te podemos dar su id. \"\n",
    "     \n",
    "    \n",
    "    def sacar_id_fecha(self, fecha):\n",
    "        mydb = mysql.connector.connect(user='root', password=f'{self.contraseña}',\n",
    "                                          host='127.0.0.1', database=f\"{self.nombre_bbdd}\")\n",
    "        mycursor = mydb.cursor()\n",
    "\n",
    "        try:\n",
    "            query_sacar_id = f\"SELECT idfechas FROM fechas WHERE fecha = '{fecha}'\"\n",
    "            mycursor.execute(query_sacar_id)\n",
    "            id_ = mycursor.fetchall()[0][0]\n",
    "            return id_\n",
    "        \n",
    "        except: \n",
    "             return \"Sorry, no tenemos esa fecha en la BBDD y por lo tanto no te podemos dar su id. \"\n",
    "            "
   ]
  },
  {
   "cell_type": "markdown",
   "metadata": {},
   "source": [
    "### Creación de la BBDD"
   ]
  },
  {
   "cell_type": "code",
   "execution_count": 6,
   "metadata": {},
   "outputs": [
    {
     "data": {
      "text/plain": [
       "<__main__.Cargar at 0x20b06f8c5b0>"
      ]
     },
     "execution_count": 6,
     "metadata": {},
     "output_type": "execute_result"
    }
   ],
   "source": [
    "carga = Cargar(\"energia2\", \"AlumnaAdalab\")\n",
    "carga"
   ]
  },
  {
   "cell_type": "code",
   "execution_count": 7,
   "metadata": {},
   "outputs": [
    {
     "name": "stdout",
     "output_type": "stream",
     "text": [
      "Conexión realizada con éxito\n"
     ]
    }
   ],
   "source": [
    "carga.crear_bbdd()"
   ]
  },
  {
   "cell_type": "markdown",
   "metadata": {},
   "source": [
    "### Creación de las tablas"
   ]
  },
  {
   "cell_type": "code",
   "execution_count": 8,
   "metadata": {},
   "outputs": [],
   "source": [
    "tabla_fechas = '''\n",
    "CREATE TABLE IF NOT EXISTS `energia2`.`fechas` (\n",
    "  `idfechas` INT NOT NULL AUTO_INCREMENT,\n",
    "  `fecha` DATE NULL,\n",
    "  PRIMARY KEY (`idfechas`))\n",
    "ENGINE = InnoDB;\n",
    "'''"
   ]
  },
  {
   "cell_type": "code",
   "execution_count": 9,
   "metadata": {},
   "outputs": [],
   "source": [
    "tabla_nacional_renovable_no_renovable = '''\n",
    "CREATE TABLE IF NOT EXISTS `energia2`.`nacional_renovable_no_renovable` (\n",
    "  `idnacional_renovable_no_renovable` INT NOT NULL AUTO_INCREMENT,\n",
    "  `porcentaje` INT NULL,\n",
    "  `tipo_energia` VARCHAR(45) NULL,\n",
    "  `valor` DECIMAL NULL,\n",
    "  `fechas_idfechas` INT NOT NULL,\n",
    "  PRIMARY KEY (`idnacional_renovable_no_renovable`),\n",
    "  INDEX `fk_nacional_renovable_no_renovable_fechas_idx` (`fechas_idfechas` ASC) VISIBLE,\n",
    "  CONSTRAINT `fk_nacional_renovable_no_renovable_fechas`\n",
    "    FOREIGN KEY (`fechas_idfechas`)\n",
    "    REFERENCES `energia2`.`fechas` (`idfechas`))\n",
    "ENGINE = InnoDB;\n",
    "'''"
   ]
  },
  {
   "cell_type": "code",
   "execution_count": 10,
   "metadata": {},
   "outputs": [],
   "source": [
    "tabla_comunidades = '''\n",
    "CREATE TABLE IF NOT EXISTS `energia2`.`comunidades` (\n",
    "  `idcomunidades` INT NOT NULL AUTO_INCREMENT,\n",
    "  `comunidades` VARCHAR(45) NULL,\n",
    "  PRIMARY KEY (`idcomunidades`))\n",
    "ENGINE = InnoDB;\n",
    "'''"
   ]
  },
  {
   "cell_type": "code",
   "execution_count": 11,
   "metadata": {},
   "outputs": [],
   "source": [
    "tabla_comunidades_renovable_no_renovable = '''\n",
    "CREATE TABLE IF NOT EXISTS `energia2`.`comunidades_renovable_no_renovable` (\n",
    "  `idcomunidades_renovable_no_renovable` INT NOT NULL AUTO_INCREMENT,\n",
    "  `porcentaje` INT NULL,\n",
    "  `tipo_energia` VARCHAR(45) NULL,\n",
    "  `valor` DECIMAL NULL,\n",
    "  `fechas_idfechas` INT NOT NULL,\n",
    "  `comunidades_idcomunidades` INT NOT NULL,\n",
    "  PRIMARY KEY (`idcomunidades_renovable_no_renovable`),\n",
    "  INDEX `fk_comunidades_renovable_no_renovable_fechas1_idx` (`fechas_idfechas` ASC) VISIBLE,\n",
    "  INDEX `fk_comunidades_renovable_no_renovable_comunidades1_idx` (`comunidades_idcomunidades` ASC) VISIBLE,\n",
    "  CONSTRAINT `fk_comunidades_renovable_no_renovable_fechas1`\n",
    "    FOREIGN KEY (`fechas_idfechas`)\n",
    "    REFERENCES `energia2`.`fechas` (`idfechas`),\n",
    "  CONSTRAINT `fk_comunidades_renovable_no_renovable_comunidades1`\n",
    "    FOREIGN KEY (`comunidades_idcomunidades`)\n",
    "    REFERENCES `energia2`.`comunidades` (`idcomunidades`))\n",
    "ENGINE = InnoDB;\n",
    "'''"
   ]
  },
  {
   "cell_type": "code",
   "execution_count": 12,
   "metadata": {},
   "outputs": [],
   "source": [
    "carga.crear_insertar_tabla(tabla_fechas)\n",
    "carga.crear_insertar_tabla(tabla_nacional_renovable_no_renovable)\n",
    "carga.crear_insertar_tabla(tabla_comunidades)\n",
    "carga.crear_insertar_tabla(tabla_comunidades_renovable_no_renovable)"
   ]
  },
  {
   "cell_type": "markdown",
   "metadata": {},
   "source": [
    "### Validación: No hay datos insertados"
   ]
  },
  {
   "cell_type": "code",
   "execution_count": 13,
   "metadata": {},
   "outputs": [
    {
     "data": {
      "text/plain": [
       "'Sorry, no tenemos esa comunidad en la BBDD y por lo tanto no te podemos dar su id. '"
      ]
     },
     "execution_count": 13,
     "metadata": {},
     "output_type": "execute_result"
    }
   ],
   "source": [
    "id_comunidad = carga.sacar_id_comunidad(\"Madrid\")\n",
    "id_comunidad"
   ]
  },
  {
   "cell_type": "code",
   "execution_count": 14,
   "metadata": {},
   "outputs": [
    {
     "data": {
      "text/plain": [
       "'Sorry, no tenemos esa fecha en la BBDD y por lo tanto no te podemos dar su id. '"
      ]
     },
     "execution_count": 14,
     "metadata": {},
     "output_type": "execute_result"
    }
   ],
   "source": [
    "id_fecha = carga.sacar_id_fecha(2011-11-10)\n",
    "id_fecha"
   ]
  },
  {
   "cell_type": "markdown",
   "metadata": {},
   "source": [
    "### Inserción de datos en la tabla 'fechas'"
   ]
  },
  {
   "cell_type": "markdown",
   "metadata": {},
   "source": [
    "Como puede haber fechas que no existan en el dataframe 'df_energia_ccaa' o en el dataframe 'df_energia_nacional', se van a seguir los siguientes pasos:\n",
    "\n",
    "1. Unir ambos dataframes por la columna 'fecha'.\n",
    "2. Como posiblemente, haya fechas duplicadas, eliminamos los posibles duplicados.\n",
    "3. Insertamos en la tabla 'fechas' los registros únicos de la columna 'fecha' de nuestro nuevo dataframe."
   ]
  },
  {
   "cell_type": "code",
   "execution_count": 15,
   "metadata": {},
   "outputs": [
    {
     "data": {
      "text/html": [
       "<div>\n",
       "<style scoped>\n",
       "    .dataframe tbody tr th:only-of-type {\n",
       "        vertical-align: middle;\n",
       "    }\n",
       "\n",
       "    .dataframe tbody tr th {\n",
       "        vertical-align: top;\n",
       "    }\n",
       "\n",
       "    .dataframe thead th {\n",
       "        text-align: right;\n",
       "    }\n",
       "</style>\n",
       "<table border=\"1\" class=\"dataframe\">\n",
       "  <thead>\n",
       "    <tr style=\"text-align: right;\">\n",
       "      <th></th>\n",
       "      <th>fecha</th>\n",
       "    </tr>\n",
       "  </thead>\n",
       "  <tbody>\n",
       "    <tr>\n",
       "      <th>0</th>\n",
       "      <td>2011-01-01</td>\n",
       "    </tr>\n",
       "    <tr>\n",
       "      <th>1</th>\n",
       "      <td>2011-01-02</td>\n",
       "    </tr>\n",
       "    <tr>\n",
       "      <th>2</th>\n",
       "      <td>2011-01-03</td>\n",
       "    </tr>\n",
       "    <tr>\n",
       "      <th>3</th>\n",
       "      <td>2011-01-04</td>\n",
       "    </tr>\n",
       "    <tr>\n",
       "      <th>4</th>\n",
       "      <td>2011-01-05</td>\n",
       "    </tr>\n",
       "    <tr>\n",
       "      <th>...</th>\n",
       "      <td>...</td>\n",
       "    </tr>\n",
       "    <tr>\n",
       "      <th>43754</th>\n",
       "      <td>2022-12-27</td>\n",
       "    </tr>\n",
       "    <tr>\n",
       "      <th>43755</th>\n",
       "      <td>2022-12-28</td>\n",
       "    </tr>\n",
       "    <tr>\n",
       "      <th>43756</th>\n",
       "      <td>2022-12-29</td>\n",
       "    </tr>\n",
       "    <tr>\n",
       "      <th>43757</th>\n",
       "      <td>2022-12-30</td>\n",
       "    </tr>\n",
       "    <tr>\n",
       "      <th>43758</th>\n",
       "      <td>2022-12-31</td>\n",
       "    </tr>\n",
       "  </tbody>\n",
       "</table>\n",
       "<p>43759 rows × 1 columns</p>\n",
       "</div>"
      ],
      "text/plain": [
       "           fecha\n",
       "0     2011-01-01\n",
       "1     2011-01-02\n",
       "2     2011-01-03\n",
       "3     2011-01-04\n",
       "4     2011-01-05\n",
       "...          ...\n",
       "43754 2022-12-27\n",
       "43755 2022-12-28\n",
       "43756 2022-12-29\n",
       "43757 2022-12-30\n",
       "43758 2022-12-31\n",
       "\n",
       "[43759 rows x 1 columns]"
      ]
     },
     "execution_count": 15,
     "metadata": {},
     "output_type": "execute_result"
    }
   ],
   "source": [
    "df_fechas = pd.concat([df_energia_ccaa['fecha'], df_energia_nacional['fecha']], axis = 0, join = \"inner\", ignore_index = True)\n",
    "df_fechas = pd.DataFrame(df_fechas)\n",
    "df_fechas"
   ]
  },
  {
   "cell_type": "code",
   "execution_count": 16,
   "metadata": {},
   "outputs": [
    {
     "data": {
      "text/plain": [
       "39376"
      ]
     },
     "execution_count": 16,
     "metadata": {},
     "output_type": "execute_result"
    }
   ],
   "source": [
    "df_fechas.duplicated().sum()"
   ]
  },
  {
   "cell_type": "code",
   "execution_count": 17,
   "metadata": {},
   "outputs": [
    {
     "data": {
      "text/html": [
       "<div>\n",
       "<style scoped>\n",
       "    .dataframe tbody tr th:only-of-type {\n",
       "        vertical-align: middle;\n",
       "    }\n",
       "\n",
       "    .dataframe tbody tr th {\n",
       "        vertical-align: top;\n",
       "    }\n",
       "\n",
       "    .dataframe thead th {\n",
       "        text-align: right;\n",
       "    }\n",
       "</style>\n",
       "<table border=\"1\" class=\"dataframe\">\n",
       "  <thead>\n",
       "    <tr style=\"text-align: right;\">\n",
       "      <th></th>\n",
       "      <th>fecha</th>\n",
       "    </tr>\n",
       "  </thead>\n",
       "  <tbody>\n",
       "    <tr>\n",
       "      <th>0</th>\n",
       "      <td>2011-01-01</td>\n",
       "    </tr>\n",
       "    <tr>\n",
       "      <th>1</th>\n",
       "      <td>2011-01-02</td>\n",
       "    </tr>\n",
       "    <tr>\n",
       "      <th>2</th>\n",
       "      <td>2011-01-03</td>\n",
       "    </tr>\n",
       "    <tr>\n",
       "      <th>3</th>\n",
       "      <td>2011-01-04</td>\n",
       "    </tr>\n",
       "    <tr>\n",
       "      <th>4</th>\n",
       "      <td>2011-01-05</td>\n",
       "    </tr>\n",
       "    <tr>\n",
       "      <th>...</th>\n",
       "      <td>...</td>\n",
       "    </tr>\n",
       "    <tr>\n",
       "      <th>32438</th>\n",
       "      <td>2022-12-27</td>\n",
       "    </tr>\n",
       "    <tr>\n",
       "      <th>32439</th>\n",
       "      <td>2022-12-28</td>\n",
       "    </tr>\n",
       "    <tr>\n",
       "      <th>32440</th>\n",
       "      <td>2022-12-29</td>\n",
       "    </tr>\n",
       "    <tr>\n",
       "      <th>32441</th>\n",
       "      <td>2022-12-30</td>\n",
       "    </tr>\n",
       "    <tr>\n",
       "      <th>32442</th>\n",
       "      <td>2022-12-31</td>\n",
       "    </tr>\n",
       "  </tbody>\n",
       "</table>\n",
       "<p>4383 rows × 1 columns</p>\n",
       "</div>"
      ],
      "text/plain": [
       "           fecha\n",
       "0     2011-01-01\n",
       "1     2011-01-02\n",
       "2     2011-01-03\n",
       "3     2011-01-04\n",
       "4     2011-01-05\n",
       "...          ...\n",
       "32438 2022-12-27\n",
       "32439 2022-12-28\n",
       "32440 2022-12-29\n",
       "32441 2022-12-30\n",
       "32442 2022-12-31\n",
       "\n",
       "[4383 rows x 1 columns]"
      ]
     },
     "execution_count": 17,
     "metadata": {},
     "output_type": "execute_result"
    }
   ],
   "source": [
    "df_fechas = df_fechas.drop_duplicates()\n",
    "df_fechas"
   ]
  },
  {
   "cell_type": "code",
   "execution_count": 18,
   "metadata": {},
   "outputs": [
    {
     "data": {
      "text/plain": [
       "0"
      ]
     },
     "execution_count": 18,
     "metadata": {},
     "output_type": "execute_result"
    }
   ],
   "source": [
    "df_fechas.duplicated().sum()"
   ]
  },
  {
   "cell_type": "code",
   "execution_count": 19,
   "metadata": {},
   "outputs": [],
   "source": [
    "for indice, fila in df_fechas.iterrows(): \n",
    "    \n",
    "    query_fechas = f\"\"\"\n",
    "            INSERT INTO fechas (fecha) \n",
    "            VALUES (\"{fila['fecha']}\");\n",
    "            \"\"\"\n",
    "    carga.crear_insertar_tabla(query_fechas)"
   ]
  },
  {
   "cell_type": "markdown",
   "metadata": {},
   "source": [
    "### Inserción de datos en la tabla 'comunidades'"
   ]
  },
  {
   "cell_type": "markdown",
   "metadata": {},
   "source": [
    "Los dataframe que podemos utilizar son 'df_energia_ccaa' y  'df_poblacion_ccaa'. En este caso, vamos a utilizar el dataframe 'df_energia_ccaa' porque así tendremos los mismos nombres que vamos a tener que enlazar cuando hagamos la inserción de los datos de energia de las CCAA.\n",
    "\n",
    "1. Vamos a crear un nuevo dataframe con los registros de la columna 'comunidad'\n",
    "2. Eliminamos los posibles duplicados del nuevo dataframe.\n",
    "3. Insertamos en la tabla 'comunidades' los registros únicos de la columna 'comunidad' de nuestro nuevo dataframe."
   ]
  },
  {
   "cell_type": "code",
   "execution_count": 20,
   "metadata": {},
   "outputs": [
    {
     "data": {
      "text/html": [
       "<div>\n",
       "<style scoped>\n",
       "    .dataframe tbody tr th:only-of-type {\n",
       "        vertical-align: middle;\n",
       "    }\n",
       "\n",
       "    .dataframe tbody tr th {\n",
       "        vertical-align: top;\n",
       "    }\n",
       "\n",
       "    .dataframe thead th {\n",
       "        text-align: right;\n",
       "    }\n",
       "</style>\n",
       "<table border=\"1\" class=\"dataframe\">\n",
       "  <thead>\n",
       "    <tr style=\"text-align: right;\">\n",
       "      <th></th>\n",
       "      <th>comunidad</th>\n",
       "    </tr>\n",
       "  </thead>\n",
       "  <tbody>\n",
       "    <tr>\n",
       "      <th>16399</th>\n",
       "      <td>Illes Balears</td>\n",
       "    </tr>\n",
       "  </tbody>\n",
       "</table>\n",
       "</div>"
      ],
      "text/plain": [
       "           comunidad\n",
       "16399  Illes Balears"
      ]
     },
     "execution_count": 20,
     "metadata": {},
     "output_type": "execute_result"
    }
   ],
   "source": [
    "df_comunidades = df_energia_ccaa[['comunidad']]\n",
    "df_comunidades.sample()"
   ]
  },
  {
   "cell_type": "code",
   "execution_count": 21,
   "metadata": {},
   "outputs": [
    {
     "data": {
      "text/plain": [
       "34974"
      ]
     },
     "execution_count": 21,
     "metadata": {},
     "output_type": "execute_result"
    }
   ],
   "source": [
    "df_comunidades.duplicated().sum()"
   ]
  },
  {
   "cell_type": "code",
   "execution_count": 22,
   "metadata": {},
   "outputs": [],
   "source": [
    "df_comunidades = df_comunidades.drop_duplicates()"
   ]
  },
  {
   "cell_type": "code",
   "execution_count": 23,
   "metadata": {},
   "outputs": [
    {
     "data": {
      "text/plain": [
       "0"
      ]
     },
     "execution_count": 23,
     "metadata": {},
     "output_type": "execute_result"
    }
   ],
   "source": [
    "df_comunidades.duplicated().sum()"
   ]
  },
  {
   "cell_type": "code",
   "execution_count": 24,
   "metadata": {},
   "outputs": [
    {
     "data": {
      "text/html": [
       "<div>\n",
       "<style scoped>\n",
       "    .dataframe tbody tr th:only-of-type {\n",
       "        vertical-align: middle;\n",
       "    }\n",
       "\n",
       "    .dataframe tbody tr th {\n",
       "        vertical-align: top;\n",
       "    }\n",
       "\n",
       "    .dataframe thead th {\n",
       "        text-align: right;\n",
       "    }\n",
       "</style>\n",
       "<table border=\"1\" class=\"dataframe\">\n",
       "  <thead>\n",
       "    <tr style=\"text-align: right;\">\n",
       "      <th></th>\n",
       "      <th>comunidad</th>\n",
       "    </tr>\n",
       "  </thead>\n",
       "  <tbody>\n",
       "    <tr>\n",
       "      <th>0</th>\n",
       "      <td>Ceuta</td>\n",
       "    </tr>\n",
       "    <tr>\n",
       "      <th>365</th>\n",
       "      <td>Melilla</td>\n",
       "    </tr>\n",
       "    <tr>\n",
       "      <th>1095</th>\n",
       "      <td>Andalucía</td>\n",
       "    </tr>\n",
       "    <tr>\n",
       "      <th>1119</th>\n",
       "      <td>Aragón</td>\n",
       "    </tr>\n",
       "    <tr>\n",
       "      <th>1143</th>\n",
       "      <td>Cantabria</td>\n",
       "    </tr>\n",
       "    <tr>\n",
       "      <th>1167</th>\n",
       "      <td>Castilla - La Mancha</td>\n",
       "    </tr>\n",
       "    <tr>\n",
       "      <th>1191</th>\n",
       "      <td>Castilla y León</td>\n",
       "    </tr>\n",
       "    <tr>\n",
       "      <th>1215</th>\n",
       "      <td>Cataluña</td>\n",
       "    </tr>\n",
       "    <tr>\n",
       "      <th>1239</th>\n",
       "      <td>País Vasco</td>\n",
       "    </tr>\n",
       "    <tr>\n",
       "      <th>1263</th>\n",
       "      <td>Principado de Asturias</td>\n",
       "    </tr>\n",
       "    <tr>\n",
       "      <th>1287</th>\n",
       "      <td>Comunidad de Madrid</td>\n",
       "    </tr>\n",
       "    <tr>\n",
       "      <th>1311</th>\n",
       "      <td>Comunidad Foral de Navarra</td>\n",
       "    </tr>\n",
       "    <tr>\n",
       "      <th>1335</th>\n",
       "      <td>Comunitat Valenciana</td>\n",
       "    </tr>\n",
       "    <tr>\n",
       "      <th>1359</th>\n",
       "      <td>Extremadura</td>\n",
       "    </tr>\n",
       "    <tr>\n",
       "      <th>1383</th>\n",
       "      <td>Galicia</td>\n",
       "    </tr>\n",
       "    <tr>\n",
       "      <th>1407</th>\n",
       "      <td>Illes Balears</td>\n",
       "    </tr>\n",
       "    <tr>\n",
       "      <th>2137</th>\n",
       "      <td>Canarias</td>\n",
       "    </tr>\n",
       "    <tr>\n",
       "      <th>2867</th>\n",
       "      <td>Región de Murcia</td>\n",
       "    </tr>\n",
       "    <tr>\n",
       "      <th>2891</th>\n",
       "      <td>La Rioja</td>\n",
       "    </tr>\n",
       "  </tbody>\n",
       "</table>\n",
       "</div>"
      ],
      "text/plain": [
       "                       comunidad\n",
       "0                          Ceuta\n",
       "365                      Melilla\n",
       "1095                   Andalucía\n",
       "1119                      Aragón\n",
       "1143                   Cantabria\n",
       "1167        Castilla - La Mancha\n",
       "1191             Castilla y León\n",
       "1215                    Cataluña\n",
       "1239                  País Vasco\n",
       "1263      Principado de Asturias\n",
       "1287         Comunidad de Madrid\n",
       "1311  Comunidad Foral de Navarra\n",
       "1335        Comunitat Valenciana\n",
       "1359                 Extremadura\n",
       "1383                     Galicia\n",
       "1407               Illes Balears\n",
       "2137                    Canarias\n",
       "2867            Región de Murcia\n",
       "2891                    La Rioja"
      ]
     },
     "execution_count": 24,
     "metadata": {},
     "output_type": "execute_result"
    }
   ],
   "source": [
    "df_comunidades"
   ]
  },
  {
   "cell_type": "code",
   "execution_count": 25,
   "metadata": {},
   "outputs": [],
   "source": [
    "for indice, fila in df_comunidades.iterrows():\n",
    "    \n",
    "    # creamos la query que no inserta datos en la tabla localidades\n",
    "    query_comunidad = f\"\"\"\n",
    "                INSERT INTO comunidades (comunidades) \n",
    "                VALUES (\"{fila['comunidad']}\");\n",
    "                \"\"\"\n",
    "    # llamamos a la funcion check_ciudades para saber que ciudades tenemos en la BBDD\n",
    "    comunidades = carga.check_comunidades()\n",
    "    \n",
    "    # Si la BBDD de datos esta vacía,  podemos insertar la ciudad. \n",
    "    # \n",
    "    if len(comunidades) == 0 or fila['comunidad'] not in comunidades[0]: \n",
    "        carga.crear_insertar_tabla( query_comunidad)\n",
    "\n",
    "    else:\n",
    "        print(f\"{fila['comunidades']} ya esta en nuestra BBDD\")"
   ]
  },
  {
   "cell_type": "markdown",
   "metadata": {},
   "source": [
    "### Inserción de los datos en la tabla 'comunidades_renovable_no_renovable'"
   ]
  },
  {
   "cell_type": "markdown",
   "metadata": {},
   "source": [
    "El dataframe que vamos a utilizar es 'df_energia_ccaa'.\n",
    "\n",
    "1. Insertamos en la tabla 'comunidades_renovable_no_renovable' los registros del dataframe, buscando los ids correspondientes a la columna 'fecha' y 'comunidad' para poder enlazar correctamente la información de la BBDD."
   ]
  },
  {
   "cell_type": "code",
   "execution_count": 26,
   "metadata": {},
   "outputs": [
    {
     "data": {
      "text/html": [
       "<div>\n",
       "<style scoped>\n",
       "    .dataframe tbody tr th:only-of-type {\n",
       "        vertical-align: middle;\n",
       "    }\n",
       "\n",
       "    .dataframe tbody tr th {\n",
       "        vertical-align: top;\n",
       "    }\n",
       "\n",
       "    .dataframe thead th {\n",
       "        text-align: right;\n",
       "    }\n",
       "</style>\n",
       "<table border=\"1\" class=\"dataframe\">\n",
       "  <thead>\n",
       "    <tr style=\"text-align: right;\">\n",
       "      <th></th>\n",
       "      <th>value</th>\n",
       "      <th>percentage</th>\n",
       "      <th>tipo_energia</th>\n",
       "      <th>comunidad</th>\n",
       "      <th>id_comunidad</th>\n",
       "      <th>fecha</th>\n",
       "    </tr>\n",
       "  </thead>\n",
       "  <tbody>\n",
       "    <tr>\n",
       "      <th>0</th>\n",
       "      <td>460.05</td>\n",
       "      <td>1.0</td>\n",
       "      <td>No renovable</td>\n",
       "      <td>Ceuta</td>\n",
       "      <td>8744</td>\n",
       "      <td>2011-01-01</td>\n",
       "    </tr>\n",
       "    <tr>\n",
       "      <th>1</th>\n",
       "      <td>462.98</td>\n",
       "      <td>1.0</td>\n",
       "      <td>No renovable</td>\n",
       "      <td>Ceuta</td>\n",
       "      <td>8744</td>\n",
       "      <td>2011-01-02</td>\n",
       "    </tr>\n",
       "  </tbody>\n",
       "</table>\n",
       "</div>"
      ],
      "text/plain": [
       "    value  percentage  tipo_energia comunidad  id_comunidad      fecha\n",
       "0  460.05         1.0  No renovable     Ceuta          8744 2011-01-01\n",
       "1  462.98         1.0  No renovable     Ceuta          8744 2011-01-02"
      ]
     },
     "execution_count": 26,
     "metadata": {},
     "output_type": "execute_result"
    }
   ],
   "source": [
    "df_energia_ccaa.head(2)"
   ]
  },
  {
   "cell_type": "code",
   "execution_count": null,
   "metadata": {},
   "outputs": [],
   "source": [
    "for indice, fila in df_energia_ccaa.iterrows():\n",
    "    \n",
    "    id_comunidad = carga.sacar_id_comunidad(fila['comunidad'])\n",
    "    id_fecha = carga.sacar_id_fecha(fila[\"fecha\"])\n",
    "        \n",
    "    query_valores_ccaa = f\"\"\"\n",
    "                INSERT INTO comunidades_renovable_no_renovable (porcentaje, tipo_energia, valor, fechas_idfechas, comunidades_idcomunidades) \n",
    "                VALUES ({fila['percentage']}, \"{fila['tipo_energia']}\", {fila['value']}, {id_fecha}, {id_comunidad});\n",
    "                \"\"\"\n",
    "    carga.crear_insertar_tabla(query_valores_ccaa)\n",
    "    "
   ]
  },
  {
   "cell_type": "markdown",
   "metadata": {},
   "source": [
    "### Inserción de los datos en la tabla 'nacional_renovable_no_renovable'"
   ]
  },
  {
   "cell_type": "markdown",
   "metadata": {},
   "source": [
    "El dataframe que vamos a utilizar es 'df_energia_nacional'.\n",
    "\n",
    "1. Insertamos en la tabla 'nacional_renovable_no_renovable' los registros del dataframe, buscando los ids correspondientes a la columna 'fecha' para poder enlazar correctamente la información de la BBDD."
   ]
  },
  {
   "cell_type": "code",
   "execution_count": 27,
   "metadata": {},
   "outputs": [
    {
     "data": {
      "text/html": [
       "<div>\n",
       "<style scoped>\n",
       "    .dataframe tbody tr th:only-of-type {\n",
       "        vertical-align: middle;\n",
       "    }\n",
       "\n",
       "    .dataframe tbody tr th {\n",
       "        vertical-align: top;\n",
       "    }\n",
       "\n",
       "    .dataframe thead th {\n",
       "        text-align: right;\n",
       "    }\n",
       "</style>\n",
       "<table border=\"1\" class=\"dataframe\">\n",
       "  <thead>\n",
       "    <tr style=\"text-align: right;\">\n",
       "      <th></th>\n",
       "      <th>value</th>\n",
       "      <th>percentage</th>\n",
       "      <th>tipo_energia</th>\n",
       "      <th>fecha</th>\n",
       "    </tr>\n",
       "  </thead>\n",
       "  <tbody>\n",
       "    <tr>\n",
       "      <th>0</th>\n",
       "      <td>182024.98</td>\n",
       "      <td>0.29</td>\n",
       "      <td>Renovable</td>\n",
       "      <td>2011-01-01</td>\n",
       "    </tr>\n",
       "    <tr>\n",
       "      <th>1</th>\n",
       "      <td>265705.89</td>\n",
       "      <td>0.39</td>\n",
       "      <td>Renovable</td>\n",
       "      <td>2011-01-02</td>\n",
       "    </tr>\n",
       "  </tbody>\n",
       "</table>\n",
       "</div>"
      ],
      "text/plain": [
       "       value  percentage tipo_energia      fecha\n",
       "0  182024.98        0.29    Renovable 2011-01-01\n",
       "1  265705.89        0.39    Renovable 2011-01-02"
      ]
     },
     "execution_count": 27,
     "metadata": {},
     "output_type": "execute_result"
    }
   ],
   "source": [
    "df_energia_nacional.head(2)"
   ]
  },
  {
   "cell_type": "code",
   "execution_count": null,
   "metadata": {},
   "outputs": [],
   "source": [
    "for indice, fila in df_energia_nacional.iterrows():\n",
    "    \n",
    "    id_fecha = carga.sacar_id_fecha(fila[\"fecha\"])\n",
    "    \n",
    "    query_valores_nacional = f\"\"\"\n",
    "                INSERT INTO nacional_renovable_no_renovable (porcentaje, tipo_energia, valor, fechas_idfechas)\n",
    "                VALUES ({fila['percentage']}, \"{fila['tipo_energia']}\", {fila['value']}, {id_fecha});\n",
    "                \"\"\"\n",
    "    carga.crear_insertar_tabla(query_valores_nacional)"
   ]
  }
 ],
 "metadata": {
  "kernelspec": {
   "display_name": "adalabenv",
   "language": "python",
   "name": "python3"
  },
  "language_info": {
   "codemirror_mode": {
    "name": "ipython",
    "version": 3
   },
   "file_extension": ".py",
   "mimetype": "text/x-python",
   "name": "python",
   "nbconvert_exporter": "python",
   "pygments_lexer": "ipython3",
   "version": "3.10.11"
  },
  "orig_nbformat": 4
 },
 "nbformat": 4,
 "nbformat_minor": 2
}
