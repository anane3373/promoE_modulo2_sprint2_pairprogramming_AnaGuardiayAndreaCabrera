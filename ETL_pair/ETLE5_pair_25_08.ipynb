{
 "cells": [
  {
   "cell_type": "markdown",
   "metadata": {},
   "source": [
    "# ETL 5 Pair 25/08\n",
    "### ETL Carga I"
   ]
  },
  {
   "cell_type": "markdown",
   "metadata": {},
   "source": [
    "Igual que en el ejercicio de pair programming de ETL Transformación II, tendréis que crear una clase que nos permita cargar los datos en SQL I."
   ]
  },
  {
   "cell_type": "code",
   "execution_count": 83,
   "metadata": {},
   "outputs": [],
   "source": [
    "from IPython.core.interactiveshell import InteractiveShell \n",
    "InteractiveShell.ast_node_interactivity = \"all\"\n",
    "\n",
    "import pandas as pd\n",
    "import mysql.connector\n",
    "\n",
    "from datetime import datetime, timedelta"
   ]
  },
  {
   "cell_type": "code",
   "execution_count": 84,
   "metadata": {},
   "outputs": [
    {
     "data": {
      "text/html": [
       "<div>\n",
       "<style scoped>\n",
       "    .dataframe tbody tr th:only-of-type {\n",
       "        vertical-align: middle;\n",
       "    }\n",
       "\n",
       "    .dataframe tbody tr th {\n",
       "        vertical-align: top;\n",
       "    }\n",
       "\n",
       "    .dataframe thead th {\n",
       "        text-align: right;\n",
       "    }\n",
       "</style>\n",
       "<table border=\"1\" class=\"dataframe\">\n",
       "  <thead>\n",
       "    <tr style=\"text-align: right;\">\n",
       "      <th></th>\n",
       "      <th>value</th>\n",
       "      <th>percentage</th>\n",
       "      <th>tipo_energia</th>\n",
       "      <th>comunidad</th>\n",
       "      <th>id_comunidad</th>\n",
       "      <th>fecha</th>\n",
       "    </tr>\n",
       "  </thead>\n",
       "  <tbody>\n",
       "    <tr>\n",
       "      <th>0</th>\n",
       "      <td>460.05</td>\n",
       "      <td>1.0</td>\n",
       "      <td>No renovable</td>\n",
       "      <td>Ceuta</td>\n",
       "      <td>8744</td>\n",
       "      <td>2011-01-01</td>\n",
       "    </tr>\n",
       "    <tr>\n",
       "      <th>1</th>\n",
       "      <td>462.98</td>\n",
       "      <td>1.0</td>\n",
       "      <td>No renovable</td>\n",
       "      <td>Ceuta</td>\n",
       "      <td>8744</td>\n",
       "      <td>2011-01-02</td>\n",
       "    </tr>\n",
       "  </tbody>\n",
       "</table>\n",
       "</div>"
      ],
      "text/plain": [
       "    value  percentage  tipo_energia comunidad  id_comunidad      fecha\n",
       "0  460.05         1.0  No renovable     Ceuta          8744 2011-01-01\n",
       "1  462.98         1.0  No renovable     Ceuta          8744 2011-01-02"
      ]
     },
     "execution_count": 84,
     "metadata": {},
     "output_type": "execute_result"
    }
   ],
   "source": [
    "df_energia_ccaa = pd.read_pickle(\"data/pairETL3_energia_ccaa.pkl\")\n",
    "df_energia_ccaa.head(2)"
   ]
  },
  {
   "cell_type": "code",
   "execution_count": 85,
   "metadata": {},
   "outputs": [],
   "source": [
    "class Cargar:\n",
    "    \n",
    "    def __init__(self, nombre_bbdd, contraseña):\n",
    "        \n",
    "        self.nombre_bbdd = nombre_bbdd\n",
    "        self.contraseña = contraseña\n",
    "\n",
    "   \n",
    "    def crear_bbdd(self):\n",
    "\n",
    "        mydb = mysql.connector.connect(host=\"localhost\",\n",
    "                                       user=\"root\",\n",
    "                                       password=f'{self.contraseña}') \n",
    "        mycursor = mydb.cursor()\n",
    "        print(\"Conexión realizada con éxito\")\n",
    "\n",
    "        try:\n",
    "            mycursor.execute(f\"CREATE DATABASE IF NOT EXISTS {self.nombre_bbdd};\")\n",
    "            \n",
    "        except:\n",
    "            print(\"La BBDD ya existe\")\n",
    "            \n",
    "      \n",
    "    def crear_insertar_tabla(self, query):\n",
    "        \n",
    "        mydb = mysql.connector.connect(host=\"localhost\",\n",
    "                                       user=\"root\",\n",
    "                                       password=f'{self.contraseña}', \n",
    "                                       database=f\"{self.nombre_bbdd}\") \n",
    "        mycursor = mydb.cursor()\n",
    "        \n",
    "        try:\n",
    "            mycursor.execute(query)\n",
    "            mydb.commit()\n",
    "          \n",
    "        except mysql.connector.Error as err:\n",
    "            print(err)\n",
    "            print(\"Error Code:\", err.errno)\n",
    "            print(\"SQLSTATE\", err.sqlstate)\n",
    "            print(\"Message\", err.msg)\n",
    "            \n",
    "\n",
    "    def check_comunidades(self):\n",
    "    \n",
    "        mydb = mysql.connector.connect(user='root',\n",
    "                                      password=f\"{self.contraseña}\",\n",
    "                                      host='127.0.0.1',\n",
    "                                      database=f\"{self.nombre_bbdd}\")\n",
    "        mycursor = mydb.cursor()\n",
    "\n",
    "        # query para extraer los valores únicos de ciudades de la tabla de localidades \n",
    "        query_existe_ciudad = f\"\"\"\n",
    "                SELECT DISTINCT comunidad FROM comunidades\n",
    "                \"\"\"\n",
    "        mycursor.execute(query_existe_ciudad)\n",
    "        comunidades = mycursor.fetchall()\n",
    "        return comunidades\n",
    "    \n",
    "    # método para sacar el id de una ciudad en concreto \n",
    "    def sacar_id_comunidad(self, comunidad):\n",
    "        \n",
    "        mydb = mysql.connector.connect(user='root',\n",
    "                                       password= f'{self.contraseña}',\n",
    "                                       host='127.0.0.1', \n",
    "                                       database=f\"{self.nombre_bbdd}\")\n",
    "        mycursor = mydb.cursor()\n",
    "        \n",
    "        try:\n",
    "            query_sacar_id = f\"SELECT idcomunidad FROM comunidades WHERE comunidad = '{comunidad}'\"\n",
    "            mycursor.execute(query_sacar_id)\n",
    "            id_ = mycursor.fetchall()[0][0]\n",
    "            return id_\n",
    "        \n",
    "        except: \n",
    "            return \"Sorry, no tenemos esa comunidad en la BBDD y por lo tanto no te podemos dar su id. \"\n",
    "     \n",
    "    \n",
    "    def sacar_id_fecha(self, fecha):\n",
    "        mydb = mysql.connector.connect(user='root', password=f'{self.contraseña}',\n",
    "                                          host='127.0.0.1', database=f\"{self.nombre_bbdd}\")\n",
    "        mycursor = mydb.cursor()\n",
    "\n",
    "        try:\n",
    "            query_sacar_id = f\"SELECT idtiempo FROM fechas WHERE fecha = '{fecha}'\"\n",
    "            mycursor.execute(query_sacar_id)\n",
    "            id_ = mycursor.fetchall()[0][0]\n",
    "            return id_\n",
    "        \n",
    "        except: \n",
    "             return \"Sorry, no tenemos esa fecha en la BBDD y por lo tanto no te podemos dar su id. \"\n",
    "            "
   ]
  },
  {
   "cell_type": "code",
   "execution_count": 86,
   "metadata": {},
   "outputs": [],
   "source": [
    "tabla_fechas = '''\n",
    "CREATE TABLE IF NOT EXISTS `energia`.`fechas` (\n",
    "  `idfechas` INT NOT NULL,\n",
    "  `fecha` DATE NULL,\n",
    "  PRIMARY KEY (`idfechas`))\n",
    "ENGINE = InnoDB;\n",
    "'''"
   ]
  },
  {
   "cell_type": "code",
   "execution_count": 87,
   "metadata": {},
   "outputs": [],
   "source": [
    "tabla_nacional_renovable_no_renovable = '''\n",
    "CREATE TABLE IF NOT EXISTS `energia`.`nacional_renovable_no_renovable` (\n",
    "  `idnacional_renovable_no_renovable` INT NOT NULL,\n",
    "  `porcentaje` INT NULL,\n",
    "  `tipo_energia` VARCHAR(45) NULL,\n",
    "  `valor` DECIMAL NULL,\n",
    "  `fechas_idfechas` INT NOT NULL,\n",
    "  PRIMARY KEY (`idnacional_renovable_no_renovable`),\n",
    "  INDEX `fk_nacional_renovable_no_renovable_fechas_idx` (`fechas_idfechas` ASC) VISIBLE,\n",
    "  CONSTRAINT `fk_nacional_renovable_no_renovable_fechas`\n",
    "    FOREIGN KEY (`fechas_idfechas`)\n",
    "    REFERENCES `energia`.`fechas` (`idfechas`)\n",
    "    ON DELETE NO ACTION\n",
    "    ON UPDATE NO ACTION)\n",
    "ENGINE = InnoDB;\n",
    "'''"
   ]
  },
  {
   "cell_type": "code",
   "execution_count": 88,
   "metadata": {},
   "outputs": [],
   "source": [
    "tabla_comunidades = '''\n",
    "CREATE TABLE IF NOT EXISTS `energia`.`comunidades` (\n",
    "  `idcomunidades` INT NOT NULL,\n",
    "  `comunidades` VARCHAR(45) NULL,\n",
    "  PRIMARY KEY (`idcomunidades`))\n",
    "ENGINE = InnoDB;\n",
    "'''"
   ]
  },
  {
   "cell_type": "code",
   "execution_count": 89,
   "metadata": {},
   "outputs": [],
   "source": [
    "tabla_comunidades_renovable_no_renovable = '''\n",
    "CREATE TABLE IF NOT EXISTS `energia`.`comunidades_renovable_no_renovable` (\n",
    "  `idcomunidades_renovable_no_renovable` INT NOT NULL,\n",
    "  `porcentaje` INT NULL,\n",
    "  `tipo_energia` VARCHAR(45) NULL,\n",
    "  `valor` DECIMAL NULL,\n",
    "  `fechas_idfechas` INT NOT NULL,\n",
    "  `comunidades_idcomunidades` INT NOT NULL,\n",
    "  PRIMARY KEY (`idcomunidades_renovable_no_renovable`),\n",
    "  INDEX `fk_comunidades_renovable_no_renovable_fechas1_idx` (`fechas_idfechas` ASC) VISIBLE,\n",
    "  INDEX `fk_comunidades_renovable_no_renovable_comunidades1_idx` (`comunidades_idcomunidades` ASC) VISIBLE,\n",
    "  CONSTRAINT `fk_comunidades_renovable_no_renovable_fechas1`\n",
    "    FOREIGN KEY (`fechas_idfechas`)\n",
    "    REFERENCES `energia`.`fechas` (`idfechas`)\n",
    "    ON DELETE NO ACTION\n",
    "    ON UPDATE NO ACTION,\n",
    "  CONSTRAINT `fk_comunidades_renovable_no_renovable_comunidades1`\n",
    "    FOREIGN KEY (`comunidades_idcomunidades`)\n",
    "    REFERENCES `energia`.`comunidades` (`idcomunidades`)\n",
    "    ON DELETE NO ACTION\n",
    "    ON UPDATE NO ACTION)\n",
    "ENGINE = InnoDB;\n",
    "'''"
   ]
  },
  {
   "cell_type": "code",
   "execution_count": 90,
   "metadata": {},
   "outputs": [],
   "source": [
    "carga = Cargar(\"energia\", \"AlumnaAdalab\")"
   ]
  },
  {
   "cell_type": "code",
   "execution_count": 91,
   "metadata": {},
   "outputs": [
    {
     "data": {
      "text/plain": [
       "<__main__.Cargar at 0x1e32c90c850>"
      ]
     },
     "execution_count": 91,
     "metadata": {},
     "output_type": "execute_result"
    }
   ],
   "source": [
    "carga"
   ]
  },
  {
   "cell_type": "code",
   "execution_count": 92,
   "metadata": {},
   "outputs": [
    {
     "name": "stdout",
     "output_type": "stream",
     "text": [
      "Conexión realizada con éxito\n"
     ]
    }
   ],
   "source": [
    "carga.crear_bbdd()"
   ]
  },
  {
   "cell_type": "code",
   "execution_count": 93,
   "metadata": {},
   "outputs": [],
   "source": [
    "carga.crear_insertar_tabla(tabla_fechas)\n",
    "carga.crear_insertar_tabla(tabla_nacional_renovable_no_renovable)\n",
    "carga.crear_insertar_tabla(tabla_comunidades)\n",
    "carga.crear_insertar_tabla(tabla_comunidades_renovable_no_renovable)"
   ]
  },
  {
   "cell_type": "code",
   "execution_count": 94,
   "metadata": {},
   "outputs": [
    {
     "data": {
      "text/plain": [
       "'Sorry, no tenemos esa comunidad en la BBDD y por lo tanto no te podemos dar su id. '"
      ]
     },
     "execution_count": 94,
     "metadata": {},
     "output_type": "execute_result"
    }
   ],
   "source": [
    "id_comunidad = carga.sacar_id_comunidad(\"Madrid\")\n",
    "id_comunidad"
   ]
  },
  {
   "cell_type": "code",
   "execution_count": 95,
   "metadata": {},
   "outputs": [
    {
     "data": {
      "text/plain": [
       "'Sorry, no tenemos esa fecha en la BBDD y por lo tanto no te podemos dar su id. '"
      ]
     },
     "execution_count": 95,
     "metadata": {},
     "output_type": "execute_result"
    }
   ],
   "source": [
    "id_fecha = carga.sacar_id_fecha(2011-11-10)\n",
    "id_fecha"
   ]
  },
  {
   "cell_type": "code",
   "execution_count": 96,
   "metadata": {},
   "outputs": [
    {
     "data": {
      "text/html": [
       "<div>\n",
       "<style scoped>\n",
       "    .dataframe tbody tr th:only-of-type {\n",
       "        vertical-align: middle;\n",
       "    }\n",
       "\n",
       "    .dataframe tbody tr th {\n",
       "        vertical-align: top;\n",
       "    }\n",
       "\n",
       "    .dataframe thead th {\n",
       "        text-align: right;\n",
       "    }\n",
       "</style>\n",
       "<table border=\"1\" class=\"dataframe\">\n",
       "  <thead>\n",
       "    <tr style=\"text-align: right;\">\n",
       "      <th></th>\n",
       "      <th>fecha</th>\n",
       "    </tr>\n",
       "  </thead>\n",
       "  <tbody>\n",
       "    <tr>\n",
       "      <th>0</th>\n",
       "      <td>2011-01-01</td>\n",
       "    </tr>\n",
       "    <tr>\n",
       "      <th>1</th>\n",
       "      <td>2011-01-02</td>\n",
       "    </tr>\n",
       "    <tr>\n",
       "      <th>2</th>\n",
       "      <td>2011-01-03</td>\n",
       "    </tr>\n",
       "    <tr>\n",
       "      <th>3</th>\n",
       "      <td>2011-01-04</td>\n",
       "    </tr>\n",
       "    <tr>\n",
       "      <th>4</th>\n",
       "      <td>2011-01-05</td>\n",
       "    </tr>\n",
       "  </tbody>\n",
       "</table>\n",
       "</div>"
      ],
      "text/plain": [
       "       fecha\n",
       "0 2011-01-01\n",
       "1 2011-01-02\n",
       "2 2011-01-03\n",
       "3 2011-01-04\n",
       "4 2011-01-05"
      ]
     },
     "execution_count": 96,
     "metadata": {},
     "output_type": "execute_result"
    }
   ],
   "source": [
    "df_energia_ccaa[[\"fecha\"]].head()"
   ]
  },
  {
   "cell_type": "code",
   "execution_count": 97,
   "metadata": {},
   "outputs": [
    {
     "name": "stdout",
     "output_type": "stream",
     "text": [
      "1146 (42S02): Table 'energia.tiempo' doesn't exist\n",
      "Error Code: 1146\n",
      "SQLSTATE 42S02\n",
      "Message Table 'energia.tiempo' doesn't exist\n"
     ]
    }
   ],
   "source": [
    "for indice, fila in df.iterrows(): \n",
    "    \n",
    "    query_tiempo = f\"\"\"\n",
    "            INSERT INTO tiempo (fecha) \n",
    "            VALUES (\"{fila['fecha']}\");\n",
    "            \"\"\"\n",
    "    carga.crear_insertar_tabla(query_tiempo)\n",
    "    \n",
    "    break"
   ]
  },
  {
   "cell_type": "code",
   "execution_count": 98,
   "metadata": {},
   "outputs": [
    {
     "data": {
      "text/html": [
       "<div>\n",
       "<style scoped>\n",
       "    .dataframe tbody tr th:only-of-type {\n",
       "        vertical-align: middle;\n",
       "    }\n",
       "\n",
       "    .dataframe tbody tr th {\n",
       "        vertical-align: top;\n",
       "    }\n",
       "\n",
       "    .dataframe thead th {\n",
       "        text-align: right;\n",
       "    }\n",
       "</style>\n",
       "<table border=\"1\" class=\"dataframe\">\n",
       "  <thead>\n",
       "    <tr style=\"text-align: right;\">\n",
       "      <th></th>\n",
       "      <th>comunidad</th>\n",
       "    </tr>\n",
       "  </thead>\n",
       "  <tbody>\n",
       "    <tr>\n",
       "      <th>0</th>\n",
       "      <td>Ceuta</td>\n",
       "    </tr>\n",
       "    <tr>\n",
       "      <th>1</th>\n",
       "      <td>Ceuta</td>\n",
       "    </tr>\n",
       "    <tr>\n",
       "      <th>2</th>\n",
       "      <td>Ceuta</td>\n",
       "    </tr>\n",
       "    <tr>\n",
       "      <th>3</th>\n",
       "      <td>Ceuta</td>\n",
       "    </tr>\n",
       "    <tr>\n",
       "      <th>4</th>\n",
       "      <td>Ceuta</td>\n",
       "    </tr>\n",
       "  </tbody>\n",
       "</table>\n",
       "</div>"
      ],
      "text/plain": [
       "  comunidad\n",
       "0     Ceuta\n",
       "1     Ceuta\n",
       "2     Ceuta\n",
       "3     Ceuta\n",
       "4     Ceuta"
      ]
     },
     "execution_count": 98,
     "metadata": {},
     "output_type": "execute_result"
    }
   ],
   "source": [
    "df_energia_ccaa[['comunidad']].head()"
   ]
  },
  {
   "cell_type": "code",
   "execution_count": 99,
   "metadata": {},
   "outputs": [
    {
     "ename": "KeyError",
     "evalue": "'comunidades'",
     "output_type": "error",
     "traceback": [
      "\u001b[1;31m---------------------------------------------------------------------------\u001b[0m",
      "\u001b[1;31mKeyError\u001b[0m                                  Traceback (most recent call last)",
      "File \u001b[1;32mc:\\Users\\Andrea\\AppData\\Local\\Programs\\Python\\Python310\\lib\\site-packages\\pandas\\core\\indexes\\base.py:3653\u001b[0m, in \u001b[0;36mIndex.get_loc\u001b[1;34m(self, key)\u001b[0m\n\u001b[0;32m   3652\u001b[0m \u001b[39mtry\u001b[39;00m:\n\u001b[1;32m-> 3653\u001b[0m     \u001b[39mreturn\u001b[39;00m \u001b[39mself\u001b[39;49m\u001b[39m.\u001b[39;49m_engine\u001b[39m.\u001b[39;49mget_loc(casted_key)\n\u001b[0;32m   3654\u001b[0m \u001b[39mexcept\u001b[39;00m \u001b[39mKeyError\u001b[39;00m \u001b[39mas\u001b[39;00m err:\n",
      "File \u001b[1;32mc:\\Users\\Andrea\\AppData\\Local\\Programs\\Python\\Python310\\lib\\site-packages\\pandas\\_libs\\index.pyx:147\u001b[0m, in \u001b[0;36mpandas._libs.index.IndexEngine.get_loc\u001b[1;34m()\u001b[0m\n",
      "File \u001b[1;32mc:\\Users\\Andrea\\AppData\\Local\\Programs\\Python\\Python310\\lib\\site-packages\\pandas\\_libs\\index.pyx:176\u001b[0m, in \u001b[0;36mpandas._libs.index.IndexEngine.get_loc\u001b[1;34m()\u001b[0m\n",
      "File \u001b[1;32mpandas\\_libs\\hashtable_class_helper.pxi:7080\u001b[0m, in \u001b[0;36mpandas._libs.hashtable.PyObjectHashTable.get_item\u001b[1;34m()\u001b[0m\n",
      "File \u001b[1;32mpandas\\_libs\\hashtable_class_helper.pxi:7088\u001b[0m, in \u001b[0;36mpandas._libs.hashtable.PyObjectHashTable.get_item\u001b[1;34m()\u001b[0m\n",
      "\u001b[1;31mKeyError\u001b[0m: 'comunidades'",
      "\nThe above exception was the direct cause of the following exception:\n",
      "\u001b[1;31mKeyError\u001b[0m                                  Traceback (most recent call last)",
      "Cell \u001b[1;32mIn[99], line 8\u001b[0m\n\u001b[0;32m      1\u001b[0m \u001b[39m# NO ME SALE!!!!!!!!!!!!!!!!!!!!!!!!!!!!!\u001b[39;00m\n\u001b[0;32m      3\u001b[0m \u001b[39mfor\u001b[39;00m indice, fila \u001b[39min\u001b[39;00m df\u001b[39m.\u001b[39miterrows():\n\u001b[0;32m      4\u001b[0m     \n\u001b[0;32m      5\u001b[0m     \u001b[39m# creamos la query que no inserta datos en la tabla localidades\u001b[39;00m\n\u001b[0;32m      6\u001b[0m     query_comunidad \u001b[39m=\u001b[39m \u001b[39mf\u001b[39m\u001b[39m\"\"\"\u001b[39m\n\u001b[0;32m      7\u001b[0m \u001b[39m                INSERT INTO comunidades (comunidades) \u001b[39m\n\u001b[1;32m----> 8\u001b[0m \u001b[39m                VALUES (\u001b[39m\u001b[39m\"\u001b[39m\u001b[39m{\u001b[39;00mfila[\u001b[39m'\u001b[39;49m\u001b[39mcomunidades\u001b[39;49m\u001b[39m'\u001b[39;49m]\u001b[39m}\u001b[39;00m\u001b[39m\"\u001b[39m\u001b[39m);\u001b[39m\n\u001b[0;32m      9\u001b[0m \u001b[39m                \u001b[39m\u001b[39m\"\"\"\u001b[39m\n\u001b[0;32m     10\u001b[0m     \u001b[39m# llamamos a la funcion check_ciudades para saber que ciudades tenemos en la BBDD\u001b[39;00m\n\u001b[0;32m     11\u001b[0m     comunidades \u001b[39m=\u001b[39m carga\u001b[39m.\u001b[39mcheck_comunidades()\n",
      "File \u001b[1;32mc:\\Users\\Andrea\\AppData\\Local\\Programs\\Python\\Python310\\lib\\site-packages\\pandas\\core\\series.py:1007\u001b[0m, in \u001b[0;36mSeries.__getitem__\u001b[1;34m(self, key)\u001b[0m\n\u001b[0;32m   1004\u001b[0m     \u001b[39mreturn\u001b[39;00m \u001b[39mself\u001b[39m\u001b[39m.\u001b[39m_values[key]\n\u001b[0;32m   1006\u001b[0m \u001b[39melif\u001b[39;00m key_is_scalar:\n\u001b[1;32m-> 1007\u001b[0m     \u001b[39mreturn\u001b[39;00m \u001b[39mself\u001b[39;49m\u001b[39m.\u001b[39;49m_get_value(key)\n\u001b[0;32m   1009\u001b[0m \u001b[39mif\u001b[39;00m is_hashable(key):\n\u001b[0;32m   1010\u001b[0m     \u001b[39m# Otherwise index.get_value will raise InvalidIndexError\u001b[39;00m\n\u001b[0;32m   1011\u001b[0m     \u001b[39mtry\u001b[39;00m:\n\u001b[0;32m   1012\u001b[0m         \u001b[39m# For labels that don't resolve as scalars like tuples and frozensets\u001b[39;00m\n",
      "File \u001b[1;32mc:\\Users\\Andrea\\AppData\\Local\\Programs\\Python\\Python310\\lib\\site-packages\\pandas\\core\\series.py:1116\u001b[0m, in \u001b[0;36mSeries._get_value\u001b[1;34m(self, label, takeable)\u001b[0m\n\u001b[0;32m   1113\u001b[0m     \u001b[39mreturn\u001b[39;00m \u001b[39mself\u001b[39m\u001b[39m.\u001b[39m_values[label]\n\u001b[0;32m   1115\u001b[0m \u001b[39m# Similar to Index.get_value, but we do not fall back to positional\u001b[39;00m\n\u001b[1;32m-> 1116\u001b[0m loc \u001b[39m=\u001b[39m \u001b[39mself\u001b[39;49m\u001b[39m.\u001b[39;49mindex\u001b[39m.\u001b[39;49mget_loc(label)\n\u001b[0;32m   1118\u001b[0m \u001b[39mif\u001b[39;00m is_integer(loc):\n\u001b[0;32m   1119\u001b[0m     \u001b[39mreturn\u001b[39;00m \u001b[39mself\u001b[39m\u001b[39m.\u001b[39m_values[loc]\n",
      "File \u001b[1;32mc:\\Users\\Andrea\\AppData\\Local\\Programs\\Python\\Python310\\lib\\site-packages\\pandas\\core\\indexes\\base.py:3655\u001b[0m, in \u001b[0;36mIndex.get_loc\u001b[1;34m(self, key)\u001b[0m\n\u001b[0;32m   3653\u001b[0m     \u001b[39mreturn\u001b[39;00m \u001b[39mself\u001b[39m\u001b[39m.\u001b[39m_engine\u001b[39m.\u001b[39mget_loc(casted_key)\n\u001b[0;32m   3654\u001b[0m \u001b[39mexcept\u001b[39;00m \u001b[39mKeyError\u001b[39;00m \u001b[39mas\u001b[39;00m err:\n\u001b[1;32m-> 3655\u001b[0m     \u001b[39mraise\u001b[39;00m \u001b[39mKeyError\u001b[39;00m(key) \u001b[39mfrom\u001b[39;00m \u001b[39merr\u001b[39;00m\n\u001b[0;32m   3656\u001b[0m \u001b[39mexcept\u001b[39;00m \u001b[39mTypeError\u001b[39;00m:\n\u001b[0;32m   3657\u001b[0m     \u001b[39m# If we have a listlike key, _check_indexing_error will raise\u001b[39;00m\n\u001b[0;32m   3658\u001b[0m     \u001b[39m#  InvalidIndexError. Otherwise we fall through and re-raise\u001b[39;00m\n\u001b[0;32m   3659\u001b[0m     \u001b[39m#  the TypeError.\u001b[39;00m\n\u001b[0;32m   3660\u001b[0m     \u001b[39mself\u001b[39m\u001b[39m.\u001b[39m_check_indexing_error(key)\n",
      "\u001b[1;31mKeyError\u001b[0m: 'comunidades'"
     ]
    }
   ],
   "source": [
    "# NO ME SALE!!!!!!!!!!!!!!!!!!!!!!!!!!!!!\n",
    "\n",
    "for indice, fila in df.iterrows():\n",
    "    \n",
    "    # creamos la query que no inserta datos en la tabla localidades\n",
    "    query_comunidad = f\"\"\"\n",
    "                INSERT INTO comunidades (comunidades) \n",
    "                VALUES (\"{fila['comunidades']}\");\n",
    "                \"\"\"\n",
    "    # llamamos a la funcion check_ciudades para saber que ciudades tenemos en la BBDD\n",
    "    comunidades = carga.check_comunidades()\n",
    "    \n",
    "    # Si la BBDD de datos esta vacía,  podemos insertar la ciudad. \n",
    "    # \n",
    "    if len(comunidades) == 0 or fila['comunidades'] not in comunidades[0]: \n",
    "        carga.crear_insertar_tabla( query_comunidad)\n",
    "\n",
    "    else:\n",
    "        print(f\"{fila['comunidades']} ya esta en nuestra BBDD\")"
   ]
  },
  {
   "cell_type": "code",
   "execution_count": null,
   "metadata": {},
   "outputs": [],
   "source": [
    "for indice, fila in df.iterrows():\n",
    "    \n",
    "    id_comunidad = carga.sacar_id_comunidad(fila['idcomunidades_renovable_no_renovable'])\n",
    "    #id_fecha = carga.sacar_id_fecha(fila[\"fechas_idfechas\"])\n",
    "    \n",
    "    query_valores_ccaa = f\"\"\"\n",
    "                INSERT INTO comunidades_renovable_no_renovable (idcomunidades_renovable_no_renovable, porcentaje, tipo_energia, valor, fechas_idfechas, comunidades_idcomunidades) \n",
    "                VALUES ({fila[\"idcomunidades_renovable_no_renovable\"]}, {fila['porcentaje']}, \"{fila['tipo_energia']}\", {fila['valor']}, {idfechas}, {idcomunidades});\n",
    "                \"\"\"\n",
    "    carga.crear_insertar_tabla(query_valores_ccaa)\n",
    "    "
   ]
  },
  {
   "cell_type": "code",
   "execution_count": null,
   "metadata": {},
   "outputs": [],
   "source": [
    "for indice, fila in df.iterrows():\n",
    "    \n",
    "    id_nacional = carga.sacar_id_nacional(fila['idnacional_renovable_no_renovable'])\n",
    "    #id_fecha = carga.sacar_id_fecha(fila[\"fechas_idfechas\"])\n",
    "    \n",
    "    query_valores_nacional = f\"\"\"\n",
    "                INSERT INTO nacional_renovable_no_renovable (idnacional_renovable_no_renovable, porcentaje, tipo_energia, valor, fechas_idfechas) \n",
    "                VALUES ({fila[\"idnacional_renovable_no_renovable\"]}, {fila['porcentaje']}, \"{fila['tipo_energia']}\", {fila['valor']}, {idfechas});\n",
    "                \"\"\"\n",
    "    carga.crear_insertar_tabla(query_valores_nacional)\n",
    "    "
   ]
  }
 ],
 "metadata": {
  "kernelspec": {
   "display_name": "adalabenv",
   "language": "python",
   "name": "python3"
  },
  "language_info": {
   "codemirror_mode": {
    "name": "ipython",
    "version": 3
   },
   "file_extension": ".py",
   "mimetype": "text/x-python",
   "name": "python",
   "nbconvert_exporter": "python",
   "pygments_lexer": "ipython3",
   "version": "3.10.11"
  },
  "orig_nbformat": 4
 },
 "nbformat": 4,
 "nbformat_minor": 2
}
