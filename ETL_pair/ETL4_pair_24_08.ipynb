{
 "cells": [
  {
   "cell_type": "markdown",
   "metadata": {},
   "source": [
    "# ETL IV Pair 24/08\n"
   ]
  },
  {
   "cell_type": "code",
   "execution_count": null,
   "metadata": {},
   "outputs": [],
   "source": [
    "import pandas as pd\n",
    "import mysql.connector"
   ]
  },
  {
   "cell_type": "markdown",
   "metadata": {},
   "source": [
    "## ETL Carga I"
   ]
  },
  {
   "cell_type": "markdown",
   "metadata": {},
   "source": [
    "1. Cread la BBDD con el nombre de energía. La BBDD tendrá la siguiente forma:\n",
    "2. Cread las tablas de la BBDD:\n",
    "- Tabla fechas\n",
    "- Tabla nacional_renovable_no_renovable\n",
    "- Tabla comunidades_renovable_no_renovable\n",
    "- Tabla comunidades\n",
    "\n",
    "Al final nuestra BBDD tendrá el siguiente aspecto:\n",
    "    \n",
    "3. BONUS Insertar los datos en las tablas.\n",
    "📌 Nota Esta parte del pair es optativa y no será considerada para la evaluación"
   ]
  },
  {
   "cell_type": "code",
   "execution_count": null,
   "metadata": {},
   "outputs": [],
   "source": [
    "def crear_bbdd(nombre_bbdd):\n",
    "\n",
    "    mydb = mysql.connector.connect(\n",
    "      host=\"localhost\",\n",
    "      user=\"root\",\n",
    "      password=\"AlumnaAdalab\", \n",
    "      auth_plugin = 'mysql_native_password') \n",
    "    print(\"Conexión realizada con éxito\")\n",
    "    \n",
    "    mycursor = mydb.cursor()\n",
    "\n",
    "    try:\n",
    "        mycursor.execute(f\"CREATE DATABASE IF NOT EXISTS {nombre_bbdd};\")\n",
    "        print(mycursor)\n",
    "    except mysql.connector.Error as err:\n",
    "        print(err)\n",
    "        print(\"Error Code:\", err.errno)\n",
    "        print(\"SQLSTATE\", err.sqlstate)\n",
    "        print(\"Message\", err.msg)"
   ]
  },
  {
   "cell_type": "code",
   "execution_count": null,
   "metadata": {},
   "outputs": [],
   "source": [
    "mydb = crear_bbdd(\"energia\")"
   ]
  },
  {
   "cell_type": "code",
   "execution_count": null,
   "metadata": {},
   "outputs": [],
   "source": [
    "def crear_insertar_tabla(nombre_bbdd, contraseña, query):\n",
    " \n",
    "    cnx = mysql.connector.connect(user='root', password=f\"{contraseña}\",\n",
    "                                     host='127.0.0.1', database=f\"{nombre_bbdd}\",  \n",
    "                                     auth_plugin = 'mysql_native_password')\n",
    "\n",
    "    mycursor = cnx.cursor()\n",
    "    \n",
    "   \n",
    "    try: \n",
    "        mycursor.execute(query)\n",
    "        cnx.commit() \n",
    "   \n",
    "    except mysql.connector.Error as err:\n",
    "        print(err)\n",
    "        print(\"Error Code:\", err.errno)\n",
    "        print(\"SQLSTATE\", err.sqlstate)\n",
    "        print(\"Message\", err.msg)"
   ]
  },
  {
   "cell_type": "code",
   "execution_count": null,
   "metadata": {},
   "outputs": [],
   "source": [
    "tabla_fechas = '''\n",
    "CREATE TABLE IF NOT EXISTS `energia`.`fechas` (\n",
    "  `idfechas` INT NOT NULL AUTO_INCREMENT,\n",
    "  `fecha` DATE NULL,\n",
    "  PRIMARY KEY (`idfechas`))\n",
    "ENGINE = InnoDB;\n",
    "'''"
   ]
  },
  {
   "cell_type": "code",
   "execution_count": null,
   "metadata": {},
   "outputs": [],
   "source": [
    "tabla_nacional_renovable_no_renovable = '''\n",
    "CREATE TABLE IF NOT EXISTS `energia`.`nacional_renovable_no_renovable` (\n",
    "  `idnacional_renovable_no_renovable` INT NOT NULL AUTO_INCREMENT,\n",
    "  `porcentaje` INT NULL,\n",
    "  `tipo_energia` VARCHAR(45) NULL,\n",
    "  `valor` DECIMAL NULL,\n",
    "  `fechas_idfechas` INT NOT NULL,\n",
    "  PRIMARY KEY (`idnacional_renovable_no_renovable`),\n",
    "  INDEX `fk_nacional_renovable_no_renovable_fechas_idx` (`fechas_idfechas` ASC) VISIBLE,\n",
    "  CONSTRAINT `fk_nacional_renovable_no_renovable_fechas`\n",
    "    FOREIGN KEY (`fechas_idfechas`)\n",
    "    REFERENCES `energia`.`fechas` (`idfechas`)\n",
    "    ON DELETE NO ACTION\n",
    "    ON UPDATE NO ACTION)\n",
    "ENGINE = InnoDB;\n",
    "'''"
   ]
  },
  {
   "cell_type": "code",
   "execution_count": null,
   "metadata": {},
   "outputs": [],
   "source": [
    "tabla_comunidades = '''\n",
    "CREATE TABLE IF NOT EXISTS `energia`.`comunidades` (\n",
    "  `idcomunidades` INT NOT NULL AUTO_INCREMENT,\n",
    "  `comunidades` VARCHAR(45) NULL,\n",
    "  PRIMARY KEY (`idcomunidades`))\n",
    "ENGINE = InnoDB;\n",
    "'''"
   ]
  },
  {
   "cell_type": "code",
   "execution_count": null,
   "metadata": {},
   "outputs": [],
   "source": [
    "tabla_comunidades_renovable_no_renovable = '''\n",
    "CREATE TABLE IF NOT EXISTS `energia`.`comunidades_renovable_no_renovable` (\n",
    "  `idcomunidades_renovable_no_renovable` INT NOT NULL AUTO_INCREMENT,\n",
    "  `porcentaje` INT NULL,\n",
    "  `tipo_energia` VARCHAR(45) NULL,\n",
    "  `valor` DECIMAL NULL,\n",
    "  `fechas_idfechas` INT NOT NULL,\n",
    "  `comunidades_idcomunidades` INT NOT NULL,\n",
    "  PRIMARY KEY (`idcomunidades_renovable_no_renovable`),\n",
    "  INDEX `fk_comunidades_renovable_no_renovable_fechas1_idx` (`fechas_idfechas` ASC) VISIBLE,\n",
    "  INDEX `fk_comunidades_renovable_no_renovable_comunidades1_idx` (`comunidades_idcomunidades` ASC) VISIBLE,\n",
    "  CONSTRAINT `fk_comunidades_renovable_no_renovable_fechas1`\n",
    "    FOREIGN KEY (`fechas_idfechas`)\n",
    "    REFERENCES `energia`.`fechas` (`idfechas`)\n",
    "    ON DELETE NO ACTION\n",
    "    ON UPDATE NO ACTION,\n",
    "  CONSTRAINT `fk_comunidades_renovable_no_renovable_comunidades1`\n",
    "    FOREIGN KEY (`comunidades_idcomunidades`)\n",
    "    REFERENCES `energia`.`comunidades` (`idcomunidades`)\n",
    "    ON DELETE NO ACTION\n",
    "    ON UPDATE NO ACTION)\n",
    "ENGINE = InnoDB;\n",
    "'''"
   ]
  },
  {
   "cell_type": "code",
   "execution_count": null,
   "metadata": {},
   "outputs": [],
   "source": [
    "tablas = [tabla_fechas, tabla_nacional_renovable_no_renovable, tabla_comunidades, tabla_comunidades_renovable_no_renovable]\n",
    "\n",
    "for tabla in tablas:\n",
    "    crear_insertar_tabla(\"energia\",\"AlumnaAdalab\", tabla)"
   ]
  },
  {
   "cell_type": "markdown",
   "metadata": {},
   "source": [
    "## Bonus"
   ]
  },
  {
   "cell_type": "markdown",
   "metadata": {},
   "source": [
    "### Validación: No hay datos insertados"
   ]
  },
  {
   "cell_type": "code",
   "execution_count": null,
   "metadata": {},
   "outputs": [],
   "source": [
    "def check_comunidades(contraseña, nombre_bbdd):\n",
    "    \n",
    "        mydb = mysql.connector.connect(user='root',\n",
    "                                      password=f\"{contraseña}\",\n",
    "                                      host='127.0.0.1',\n",
    "                                      database=f\"{nombre_bbdd}\")\n",
    "        mycursor = mydb.cursor()\n",
    "\n",
    "        # query para extraer los valores únicos de ciudades de la tabla de localidades \n",
    "        query_existe_ciudad = f\"\"\"\n",
    "                SELECT DISTINCT comunidades FROM comunidades\n",
    "                \"\"\"\n",
    "        mycursor.execute(query_existe_ciudad)\n",
    "        comunidades = mycursor.fetchall()\n",
    "        return comunidades\n",
    "    \n",
    "    # método para sacar el id de una ciudad en concreto \n",
    "def sacar_id_comunidad(comunidad, contraseña, nombre_bbdd):\n",
    "        \n",
    "        mydb = mysql.connector.connect(user='root',\n",
    "                                       password= f'{contraseña}',\n",
    "                                       host='127.0.0.1', \n",
    "                                       database=f\"{nombre_bbdd}\")\n",
    "        mycursor = mydb.cursor()\n",
    "        \n",
    "        try:\n",
    "            query_sacar_id = f\"SELECT idcomunidades FROM comunidades WHERE comunidades = '{comunidad}'\"\n",
    "            mycursor.execute(query_sacar_id)\n",
    "            id_ = mycursor.fetchall()[0][0]\n",
    "            return id_\n",
    "        \n",
    "        except: \n",
    "            return \"Sorry, no tenemos esa comunidad en la BBDD y por lo tanto no te podemos dar su id. \"\n",
    "     \n",
    "    \n",
    "def sacar_id_fecha(fecha, contraseña, nombre_bbdd):\n",
    "        mydb = mysql.connector.connect(user='root', password=f'{contraseña}',\n",
    "                                          host='127.0.0.1', database=f\"{nombre_bbdd}\")\n",
    "        mycursor = mydb.cursor()\n",
    "\n",
    "        try:\n",
    "            query_sacar_id = f\"SELECT idfechas FROM fechas WHERE fecha = '{fecha}'\"\n",
    "            mycursor.execute(query_sacar_id)\n",
    "            id_ = mycursor.fetchall()[0][0]\n",
    "            return id_\n",
    "        \n",
    "        except: \n",
    "             return \"Sorry, no tenemos esa fecha en la BBDD y por lo tanto no te podemos dar su id. \""
   ]
  },
  {
   "cell_type": "code",
   "execution_count": null,
   "metadata": {},
   "outputs": [],
   "source": [
    "id_comunidad = sacar_id_comunidad(\"Madrid\",\"AlumnaAdalab\",\"energia\")\n",
    "id_comunidad"
   ]
  },
  {
   "cell_type": "code",
   "execution_count": null,
   "metadata": {},
   "outputs": [],
   "source": [
    "id_fecha = sacar_id_fecha(2011-11-10, \"AlumnaAdalab\",\"energia\")\n",
    "id_fecha"
   ]
  },
  {
   "cell_type": "markdown",
   "metadata": {},
   "source": [
    "### Inserción de datos en la tabla 'fechas'"
   ]
  },
  {
   "cell_type": "markdown",
   "metadata": {},
   "source": [
    "Como puede haber fechas que no existan en el dataframe 'df_energia_ccaa' o en el dataframe 'df_energia_nacional', se van a seguir los siguientes pasos:\n",
    "\n",
    "1. Unir ambos dataframes por la columna 'fecha'.\n",
    "2. Como posiblemente, haya fechas duplicadas, eliminamos los posibles duplicados.\n",
    "3. Insertamos en la tabla 'fechas' los registros únicos de la columna 'fecha' de nuestro nuevo dataframe."
   ]
  },
  {
   "cell_type": "code",
   "execution_count": null,
   "metadata": {},
   "outputs": [],
   "source": [
    "df_energia_ccaa = pd.read_pickle(\"data/pairETL3_energia_ccaa.pkl\")\n",
    "df_energia_ccaa.head(2)"
   ]
  },
  {
   "cell_type": "code",
   "execution_count": null,
   "metadata": {},
   "outputs": [],
   "source": [
    "df_energia_nacional = pd.read_pickle(\"data/pairETL3_energia_nacional.pkl\")\n",
    "df_energia_nacional.head(2)"
   ]
  },
  {
   "cell_type": "code",
   "execution_count": null,
   "metadata": {},
   "outputs": [],
   "source": [
    "df_fechas = pd.concat([df_energia_ccaa['fecha'], df_energia_nacional['fecha']], axis = 0, join = \"inner\", ignore_index = True)\n",
    "df_fechas = pd.DataFrame(df_fechas)\n",
    "df_fechas"
   ]
  },
  {
   "cell_type": "code",
   "execution_count": null,
   "metadata": {},
   "outputs": [],
   "source": [
    "df_fechas.duplicated().sum()"
   ]
  },
  {
   "cell_type": "code",
   "execution_count": null,
   "metadata": {},
   "outputs": [],
   "source": [
    "df_fechas = df_fechas.drop_duplicates()\n",
    "df_fechas"
   ]
  },
  {
   "cell_type": "code",
   "execution_count": null,
   "metadata": {},
   "outputs": [],
   "source": [
    "df_fechas.duplicated().sum()"
   ]
  },
  {
   "cell_type": "code",
   "execution_count": null,
   "metadata": {},
   "outputs": [],
   "source": [
    "for indice, fila in df_fechas.iterrows(): \n",
    "    query_fechas = f\"\"\"\n",
    "            INSERT INTO fechas (fecha) \n",
    "            VALUES (\"{fila['fecha']}\");\n",
    "            \"\"\"\n",
    "    crear_insertar_tabla(query_fechas, \"AlumnaAdalab\",\"energia\")"
   ]
  },
  {
   "cell_type": "markdown",
   "metadata": {},
   "source": [
    "### Inserción de datos en la tabla 'comunidades'"
   ]
  },
  {
   "cell_type": "markdown",
   "metadata": {},
   "source": [
    "Los dataframe que podemos utilizar son 'df_energia_ccaa' y  'df_poblacion_ccaa'. En este caso, vamos a utilizar el dataframe 'df_energia_ccaa' porque así tendremos los mismos nombres que vamos a tener que enlazar cuando hagamos la inserción de los datos de energia de las CCAA.\n",
    "\n",
    "1. Vamos a crear un nuevo dataframe con los registros de la columna 'comunidad'\n",
    "2. Eliminamos los posibles duplicados del nuevo dataframe.\n",
    "3. Insertamos en la tabla 'comunidades' los registros únicos de la columna 'comunidad' de nuestro nuevo dataframe."
   ]
  },
  {
   "cell_type": "code",
   "execution_count": null,
   "metadata": {},
   "outputs": [],
   "source": [
    "df_comunidades = df_energia_ccaa[['comunidad']]\n",
    "df_comunidades.sample()"
   ]
  },
  {
   "cell_type": "code",
   "execution_count": null,
   "metadata": {},
   "outputs": [],
   "source": [
    "df_comunidades.duplicated().sum()"
   ]
  },
  {
   "cell_type": "code",
   "execution_count": null,
   "metadata": {},
   "outputs": [],
   "source": [
    "df_comunidades = df_comunidades.drop_duplicates()"
   ]
  },
  {
   "cell_type": "code",
   "execution_count": null,
   "metadata": {},
   "outputs": [],
   "source": [
    "df_comunidades.duplicated().sum()"
   ]
  },
  {
   "cell_type": "code",
   "execution_count": null,
   "metadata": {},
   "outputs": [],
   "source": [
    "df_comunidades"
   ]
  },
  {
   "cell_type": "code",
   "execution_count": null,
   "metadata": {},
   "outputs": [],
   "source": [
    "for indice, fila in df_comunidades.iterrows():\n",
    "    \n",
    "    # creamos la query que no inserta datos en la tabla localidades\n",
    "    query_comunidad = f\"\"\"\n",
    "                INSERT INTO comunidades (comunidades) \n",
    "                VALUES (\"{fila['comunidad']}\");\n",
    "                \"\"\"\n",
    "    # llamamos a la funcion check_ciudades para saber que ciudades tenemos en la BBDD\n",
    "    comunidades = check_comunidades(\"AlumnaAdalab\",\"energia\")\n",
    "    \n",
    "    # Si la BBDD de datos esta vacía,  podemos insertar la ciudad. \n",
    "    # \n",
    "    if len(comunidades) == 0 or fila['comunidad'] not in comunidades[0]: \n",
    "        crear_insertar_tabla(query_comunidad, \"AlumnaAdalab\",\"energia\")\n",
    "\n",
    "    else:\n",
    "        print(f\"{fila['comunidades']} ya esta en nuestra BBDD\")"
   ]
  },
  {
   "cell_type": "markdown",
   "metadata": {},
   "source": [
    "### Inserción de los datos en la tabla 'comunidades_renovable_no_renovable'"
   ]
  },
  {
   "cell_type": "markdown",
   "metadata": {},
   "source": [
    "El dataframe que vamos a utilizar es 'df_energia_ccaa'.\n",
    "\n",
    "1. Insertamos en la tabla 'comunidades_renovable_no_renovable' los registros del dataframe, buscando los ids correspondientes a la columna 'fecha' y 'comunidad' para poder enlazar correctamente la información de la BBDD."
   ]
  },
  {
   "cell_type": "code",
   "execution_count": null,
   "metadata": {},
   "outputs": [],
   "source": [
    "df_energia_ccaa.head(2)"
   ]
  },
  {
   "cell_type": "code",
   "execution_count": null,
   "metadata": {},
   "outputs": [],
   "source": [
    "for indice, fila in df_energia_ccaa.iterrows():\n",
    "    \n",
    "    id_comunidad = sacar_id_comunidad(fila['comunidad'], \"AlumnaAdalab\",\"energia\")\n",
    "    id_fecha = sacar_id_fecha(fila[\"fecha\"], \"AlumnaAdalab\",\"energia\")\n",
    "        \n",
    "    query_valores_ccaa = f\"\"\"\n",
    "                INSERT INTO comunidades_renovable_no_renovable (porcentaje, tipo_energia, valor, fechas_idfechas, comunidades_idcomunidades) \n",
    "                VALUES ({fila['percentage']}, \"{fila['tipo_energia']}\", {fila['value']}, {id_fecha}, {id_comunidad});\n",
    "                \"\"\"\n",
    "    crear_insertar_tabla(query_valores_ccaa, \"AlumnaAdalab\",\"energia\")\n",
    "    "
   ]
  },
  {
   "cell_type": "markdown",
   "metadata": {},
   "source": [
    "### Inserción de los datos en la tabla 'nacional_renovable_no_renovable'"
   ]
  },
  {
   "cell_type": "markdown",
   "metadata": {},
   "source": [
    "El dataframe que vamos a utilizar es 'df_energia_nacional'.\n",
    "\n",
    "1. Insertamos en la tabla 'nacional_renovable_no_renovable' los registros del dataframe, buscando los ids correspondientes a la columna 'fecha' para poder enlazar correctamente la información de la BBDD."
   ]
  },
  {
   "cell_type": "code",
   "execution_count": null,
   "metadata": {},
   "outputs": [],
   "source": [
    "for indice, fila in df_energia_nacional.iterrows():\n",
    "    \n",
    "    id_fecha = sacar_id_fecha(fila[\"fecha\"], \"AlumnaAdalab\",\"energia\")\n",
    "    \n",
    "    query_valores_nacional = f\"\"\"\n",
    "                INSERT INTO nacional_renovable_no_renovable (porcentaje, tipo_energia, valor, fechas_idfechas)\n",
    "                VALUES ({fila['percentage']}, \"{fila['tipo_energia']}\", {fila['value']}, {id_fecha});\n",
    "                \"\"\"\n",
    "    crear_insertar_tabla(query_valores_nacional, \"AlumnaAdalab\",\"energia\")\n",
    "    "
   ]
  }
 ],
 "metadata": {
  "kernelspec": {
   "display_name": "adalabenv",
   "language": "python",
   "name": "python3"
  },
  "language_info": {
   "codemirror_mode": {
    "name": "ipython",
    "version": 3
   },
   "file_extension": ".py",
   "mimetype": "text/x-python",
   "name": "python",
   "nbconvert_exporter": "python",
   "pygments_lexer": "ipython3",
   "version": "3.10.11"
  },
  "orig_nbformat": 4
 },
 "nbformat": 4,
 "nbformat_minor": 2
}
