{
 "cells": [
  {
   "cell_type": "markdown",
   "metadata": {},
   "source": [
    "# ETL IV Pair 24/08\n"
   ]
  },
  {
   "cell_type": "code",
   "execution_count": 3,
   "metadata": {},
   "outputs": [],
   "source": [
    "import pandas as pd\n",
    "import mysql.connector"
   ]
  },
  {
   "cell_type": "markdown",
   "metadata": {},
   "source": [
    "## ETL Carga I"
   ]
  },
  {
   "cell_type": "markdown",
   "metadata": {},
   "source": [
    "1. Cread la BBDD con el nombre de energía. La BBDD tendrá la siguiente forma:\n",
    "2. Cread las tablas de la BBDD:\n",
    "- Tabla fechas\n",
    "- Tabla nacional_renovable_no_renovable\n",
    "- Tabla comunidades_renovable_no_renovable\n",
    "- Tabla comunidades\n",
    "Al final nuestra BBDD tendrá el siguiente aspecto:\n",
    "    \n",
    "3. BONUS Insertar los datos en las tablas.\n",
    "📌 Nota Esta parte del pair es optativa y no será considerada para la evaluación"
   ]
  },
  {
   "cell_type": "code",
   "execution_count": null,
   "metadata": {},
   "outputs": [],
   "source": [
    "df_energia_ccaa = pd.read_pickle(\"data/pairETL1_datos_energia_ccaa.pkl\")\n",
    "df_energia_ccaa.head()"
   ]
  },
  {
   "cell_type": "code",
   "execution_count": null,
   "metadata": {},
   "outputs": [],
   "source": [
    "def crear_bbdd(nombre_bbdd):\n",
    "\n",
    "    mydb = mysql.connector.connect(\n",
    "      host=\"localhost\",\n",
    "      user=\"root\",\n",
    "      password=\"AlumnaAdalab\", \n",
    "      auth_plugin = 'mysql_native_password') \n",
    "    print(\"Conexión realizada con éxito\")\n",
    "    \n",
    "    mycursor = mydb.cursor()\n",
    "\n",
    "    try:\n",
    "        mycursor.execute(f\"CREATE DATABASE IF NOT EXISTS {nombre_bbdd};\")\n",
    "        print(mycursor)\n",
    "    except mysql.connector.Error as err:\n",
    "        print(err)\n",
    "        print(\"Error Code:\", err.errno)\n",
    "        print(\"SQLSTATE\", err.sqlstate)\n",
    "        print(\"Message\", err.msg)"
   ]
  },
  {
   "cell_type": "code",
   "execution_count": null,
   "metadata": {},
   "outputs": [],
   "source": [
    "mydb = crear_bbdd(\"energía\")"
   ]
  },
  {
   "cell_type": "code",
   "execution_count": null,
   "metadata": {},
   "outputs": [],
   "source": [
    "def crear_insertar_tabla(nombre_bbdd, contraseña, query):\n",
    " \n",
    "    cnx = mysql.connector.connect(user='root', password=f\"{contraseña}\",\n",
    "                                     host='127.0.0.1', database=f\"{nombre_bbdd}\",  \n",
    "                                     auth_plugin = 'mysql_native_password')\n",
    "\n",
    "    mycursor = cnx.cursor()\n",
    "    \n",
    "   \n",
    "    try: \n",
    "        mycursor.execute(query)\n",
    "        cnx.commit() \n",
    "   \n",
    "    except mysql.connector.Error as err:\n",
    "        print(err)\n",
    "        print(\"Error Code:\", err.errno)\n",
    "        print(\"SQLSTATE\", err.sqlstate)\n",
    "        print(\"Message\", err.msg)"
   ]
  },
  {
   "cell_type": "code",
   "execution_count": null,
   "metadata": {},
   "outputs": [],
   "source": [
    "tabla_fechas = '''\n",
    "CREATE TABLE IF NOT EXISTS `clima`.`tiempo` (\n",
    "  `idtiempo` INT NOT NULL AUTO_INCREMENT,\n",
    "  `timepoint`INT NOT NULL,\n",
    "  `fecha` DATE NOT NULL,\n",
    "  PRIMARY KEY (`idtiempo`))\n",
    "ENGINE = InnoDB;\n",
    "'''"
   ]
  },
  {
   "cell_type": "code",
   "execution_count": null,
   "metadata": {},
   "outputs": [],
   "source": [
    "tabla_localidades = '''\n",
    "CREATE TABLE IF NOT EXISTS `clima`.`localidades` (\n",
    "  `idlocalidad` INT NOT NULL AUTO_INCREMENT,\n",
    "  `latitud` DECIMAL(6,4) NOT NULL,\n",
    "  `longitud` DECIMAL(6,4) NOT NULL,\n",
    "  `ciudad` VARCHAR(45) NOT NULL,\n",
    "  PRIMARY KEY (`idlocalidad`))\n",
    "ENGINE = InnoDB;\n",
    "'''"
   ]
  }
 ],
 "metadata": {
  "kernelspec": {
   "display_name": "adalabenv",
   "language": "python",
   "name": "python3"
  },
  "language_info": {
   "codemirror_mode": {
    "name": "ipython",
    "version": 3
   },
   "file_extension": ".py",
   "mimetype": "text/x-python",
   "name": "python",
   "nbconvert_exporter": "python",
   "pygments_lexer": "ipython3",
   "version": "3.10.11"
  },
  "orig_nbformat": 4
 },
 "nbformat": 4,
 "nbformat_minor": 2
}
