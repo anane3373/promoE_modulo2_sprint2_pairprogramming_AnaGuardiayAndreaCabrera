{
 "cells": [
  {
   "cell_type": "markdown",
   "metadata": {},
   "source": [
    "# ETL IV Pair 24/08\n"
   ]
  },
  {
   "cell_type": "code",
   "execution_count": 21,
   "metadata": {},
   "outputs": [],
   "source": [
    "import pandas as pd\n",
    "import mysql.connector"
   ]
  },
  {
   "cell_type": "markdown",
   "metadata": {},
   "source": [
    "## ETL Carga I"
   ]
  },
  {
   "cell_type": "markdown",
   "metadata": {},
   "source": [
    "1. Cread la BBDD con el nombre de energía. La BBDD tendrá la siguiente forma:\n",
    "2. Cread las tablas de la BBDD:\n",
    "- Tabla fechas\n",
    "- Tabla nacional_renovable_no_renovable\n",
    "- Tabla comunidades_renovable_no_renovable\n",
    "- Tabla comunidades\n",
    "\n",
    "Al final nuestra BBDD tendrá el siguiente aspecto:\n",
    "    \n",
    "3. BONUS Insertar los datos en las tablas.\n",
    "📌 Nota Esta parte del pair es optativa y no será considerada para la evaluación"
   ]
  },
  {
   "cell_type": "code",
   "execution_count": 23,
   "metadata": {},
   "outputs": [],
   "source": [
    "def crear_bbdd(nombre_bbdd):\n",
    "\n",
    "    mydb = mysql.connector.connect(\n",
    "      host=\"localhost\",\n",
    "      user=\"root\",\n",
    "      password=\"AlumnaAdalab\", \n",
    "      auth_plugin = 'mysql_native_password') \n",
    "    print(\"Conexión realizada con éxito\")\n",
    "    \n",
    "    mycursor = mydb.cursor()\n",
    "\n",
    "    try:\n",
    "        mycursor.execute(f\"CREATE DATABASE IF NOT EXISTS {nombre_bbdd};\")\n",
    "        print(mycursor)\n",
    "    except mysql.connector.Error as err:\n",
    "        print(err)\n",
    "        print(\"Error Code:\", err.errno)\n",
    "        print(\"SQLSTATE\", err.sqlstate)\n",
    "        print(\"Message\", err.msg)"
   ]
  },
  {
   "cell_type": "code",
   "execution_count": 24,
   "metadata": {},
   "outputs": [
    {
     "name": "stdout",
     "output_type": "stream",
     "text": [
      "Conexión realizada con éxito\n",
      "CMySQLCursor: CREATE DATABASE IF NOT EXISTS energia;\n"
     ]
    }
   ],
   "source": [
    "mydb = crear_bbdd(\"energia\")"
   ]
  },
  {
   "cell_type": "code",
   "execution_count": 25,
   "metadata": {},
   "outputs": [],
   "source": [
    "def crear_insertar_tabla(nombre_bbdd, contraseña, query):\n",
    " \n",
    "    cnx = mysql.connector.connect(user='root', password=f\"{contraseña}\",\n",
    "                                     host='127.0.0.1', database=f\"{nombre_bbdd}\",  \n",
    "                                     auth_plugin = 'mysql_native_password')\n",
    "\n",
    "    mycursor = cnx.cursor()\n",
    "    \n",
    "   \n",
    "    try: \n",
    "        mycursor.execute(query)\n",
    "        cnx.commit() \n",
    "   \n",
    "    except mysql.connector.Error as err:\n",
    "        print(err)\n",
    "        print(\"Error Code:\", err.errno)\n",
    "        print(\"SQLSTATE\", err.sqlstate)\n",
    "        print(\"Message\", err.msg)"
   ]
  },
  {
   "cell_type": "code",
   "execution_count": 26,
   "metadata": {},
   "outputs": [],
   "source": [
    "tabla_fechas = '''\n",
    "CREATE TABLE IF NOT EXISTS `energia`.`fechas` (\n",
    "  `idfechas` INT NOT NULL,\n",
    "  `fecha` DATE NULL,\n",
    "  PRIMARY KEY (`idfechas`))\n",
    "ENGINE = InnoDB;\n",
    "'''"
   ]
  },
  {
   "cell_type": "code",
   "execution_count": 27,
   "metadata": {},
   "outputs": [],
   "source": [
    "tabla_nacional_renovable_no_renovable = '''\n",
    "CREATE TABLE IF NOT EXISTS `energia`.`nacional_renovable_no_renovable` (\n",
    "  `idnacional_renovable_no_renovable` INT NOT NULL,\n",
    "  `porcentaje` INT NULL,\n",
    "  `tipo_energia` VARCHAR(45) NULL,\n",
    "  `valor` DECIMAL NULL,\n",
    "  `fechas_idfechas` INT NOT NULL,\n",
    "  PRIMARY KEY (`idnacional_renovable_no_renovable`),\n",
    "  INDEX `fk_nacional_renovable_no_renovable_fechas_idx` (`fechas_idfechas` ASC) VISIBLE,\n",
    "  CONSTRAINT `fk_nacional_renovable_no_renovable_fechas`\n",
    "    FOREIGN KEY (`fechas_idfechas`)\n",
    "    REFERENCES `energia`.`fechas` (`idfechas`)\n",
    "    ON DELETE NO ACTION\n",
    "    ON UPDATE NO ACTION)\n",
    "ENGINE = InnoDB;\n",
    "'''"
   ]
  },
  {
   "cell_type": "code",
   "execution_count": 28,
   "metadata": {},
   "outputs": [],
   "source": [
    "tabla_comunidades = '''\n",
    "CREATE TABLE IF NOT EXISTS `energia`.`comunidades` (\n",
    "  `idcomunidades` INT NOT NULL,\n",
    "  `comunidades` VARCHAR(45) NULL,\n",
    "  PRIMARY KEY (`idcomunidades`))\n",
    "ENGINE = InnoDB;\n",
    "'''"
   ]
  },
  {
   "cell_type": "code",
   "execution_count": 29,
   "metadata": {},
   "outputs": [],
   "source": [
    "tabla_comunidades_renovable_no_renovable = '''\n",
    "CREATE TABLE IF NOT EXISTS `energia`.`comunidades_renovable_no_renovable` (\n",
    "  `idcomunidades_renovable_no_renovable` INT NOT NULL,\n",
    "  `porcentaje` INT NULL,\n",
    "  `tipo_energia` VARCHAR(45) NULL,\n",
    "  `valor` DECIMAL NULL,\n",
    "  `fechas_idfechas` INT NOT NULL,\n",
    "  `comunidades_idcomunidades` INT NOT NULL,\n",
    "  PRIMARY KEY (`idcomunidades_renovable_no_renovable`),\n",
    "  INDEX `fk_comunidades_renovable_no_renovable_fechas1_idx` (`fechas_idfechas` ASC) VISIBLE,\n",
    "  INDEX `fk_comunidades_renovable_no_renovable_comunidades1_idx` (`comunidades_idcomunidades` ASC) VISIBLE,\n",
    "  CONSTRAINT `fk_comunidades_renovable_no_renovable_fechas1`\n",
    "    FOREIGN KEY (`fechas_idfechas`)\n",
    "    REFERENCES `energia`.`fechas` (`idfechas`)\n",
    "    ON DELETE NO ACTION\n",
    "    ON UPDATE NO ACTION,\n",
    "  CONSTRAINT `fk_comunidades_renovable_no_renovable_comunidades1`\n",
    "    FOREIGN KEY (`comunidades_idcomunidades`)\n",
    "    REFERENCES `energia`.`comunidades` (`idcomunidades`)\n",
    "    ON DELETE NO ACTION\n",
    "    ON UPDATE NO ACTION)\n",
    "ENGINE = InnoDB;\n",
    "'''"
   ]
  },
  {
   "cell_type": "code",
   "execution_count": 30,
   "metadata": {},
   "outputs": [],
   "source": [
    "tablas = [tabla_fechas, tabla_nacional_renovable_no_renovable, tabla_comunidades, tabla_comunidades_renovable_no_renovable]\n",
    "\n",
    "for tabla in tablas:\n",
    "    crear_insertar_tabla(\"energia\",\"AlumnaAdalab\", tabla)"
   ]
  }
 ],
 "metadata": {
  "kernelspec": {
   "display_name": "adalabenv",
   "language": "python",
   "name": "python3"
  },
  "language_info": {
   "codemirror_mode": {
    "name": "ipython",
    "version": 3
   },
   "file_extension": ".py",
   "mimetype": "text/x-python",
   "name": "python",
   "nbconvert_exporter": "python",
   "pygments_lexer": "ipython3",
   "version": "3.10.11"
  },
  "orig_nbformat": 4
 },
 "nbformat": 4,
 "nbformat_minor": 2
}
