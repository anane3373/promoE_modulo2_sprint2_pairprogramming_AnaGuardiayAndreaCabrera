{
 "cells": [
  {
   "cell_type": "markdown",
   "metadata": {},
   "source": [
    "# ETL I Pair 23/08/23"
   ]
  },
  {
   "cell_type": "code",
   "execution_count": 8,
   "metadata": {},
   "outputs": [],
   "source": [
    "from IPython.core.interactiveshell import InteractiveShell # Nos permite mostar más de una salida por celda\n",
    "InteractiveShell.ast_node_interactivity = \"all\" # Nos permite mostar más de una salida por celda\n",
    "\n",
    "import requests\n",
    "import pandas as pd\n",
    "import numpy as np"
   ]
  },
  {
   "cell_type": "markdown",
   "metadata": {},
   "source": [
    "1. Nuestros jefes están especialmente interesados en los datos de generación de las energías renovables y no renovables a nivel nacional. En concreto, nos piden sacar toda la información para las fechas de 1 de Enero del 2011 hasta el 31 de Diciembre del 2022. De toda la información que tenemos de generación queremos la evolucion de renovable y no renovable. Además deberemos incluir una columna nueva identificando si el dato corresponde a energía renovable o no renovable. NOTA: nos piden que el código debe estar en una función. Al final deberemos tener un dataframe como el siguiente:"
   ]
  },
  {
   "cell_type": "code",
   "execution_count": 11,
   "metadata": {},
   "outputs": [
    {
     "data": {
      "text/plain": [
       "400"
      ]
     },
     "execution_count": 11,
     "metadata": {},
     "output_type": "execute_result"
    },
    {
     "data": {
      "text/plain": [
       "'Bad Request'"
      ]
     },
     "execution_count": 11,
     "metadata": {},
     "output_type": "execute_result"
    }
   ],
   "source": [
    "url = \"https://apidatos.ree.es/es/datos/generacion/evolucion-renovable-no-renovable?start_date=2011-01-01T00:00&end_date=2022-12-31T23:59&time_trunc=day\"\n",
    "response = requests.get(url=url)\n",
    "response.status_code\n",
    "response.reason"
   ]
  },
  {
   "cell_type": "code",
   "execution_count": 13,
   "metadata": {},
   "outputs": [],
   "source": [
    "endpoints = {\"category\": \"generacion\", \"widget\": \"evolucion-renovable-no-renovable\"}"
   ]
  },
  {
   "cell_type": "code",
   "execution_count": 12,
   "metadata": {},
   "outputs": [],
   "source": [
    "fechas = [{\"start_date\":[\"2011-01-01T00:00\", \"2016-01-01T00:00\", \"2021-01-01T00:00\"], \"end_date\": [\"2015-12-31T23:59\", \"2020-12-31T23:59\", \"2022-12-31T23:59\"]}]"
   ]
  },
  {
   "cell_type": "code",
   "execution_count": null,
   "metadata": {},
   "outputs": [],
   "source": [
    "lista_endpoints = [\"https://apidatos.ree.es/es/datos/generacion/evolucion-renovable-no-renovable?start_date=2011-01-01T00:00&end_date=2015-12-31T23:59&time_trunc=day\", \"https://apidatos.ree.es/es/datos/generacion/evolucion-renovable-no-renovable?start_date=2016-01-01T00:00&end_date=2020-12-31T23:59&time_trunc=day\", \"https://apidatos.ree.es/es/datos/generacion/evolucion-renovable-no-renovable?start_date=2021-01-01T00:00&end_date=2022-12-31T23:59&time_trunc=day\"]\n",
    "for endpoint in lista_endpoints:\n",
    "    url = f\"https://apidatos.ree.es/es/datos/generacion/{endpoints}?{fechas}&time_trunc=day\"\n",
    "    response = requests.get(url)                   #(url=f\"https://apidatos.ree.es/es/datos\", params=endpoints)\n",
    "    print(response.status_code)"
   ]
  },
  {
   "cell_type": "code",
   "execution_count": 15,
   "metadata": {},
   "outputs": [
    {
     "ename": "NameError",
     "evalue": "name 'requests' is not defined",
     "output_type": "error",
     "traceback": [
      "\u001b[0;31m---------------------------------------------------------------------------\u001b[0m",
      "\u001b[0;31mNameError\u001b[0m                                 Traceback (most recent call last)",
      "Cell \u001b[0;32mIn[15], line 4\u001b[0m\n\u001b[1;32m      2\u001b[0m \u001b[39mfor\u001b[39;00m endpoint \u001b[39min\u001b[39;00m lista_endpoints:\n\u001b[1;32m      3\u001b[0m     url \u001b[39m=\u001b[39m \u001b[39mf\u001b[39m\u001b[39m\"\u001b[39m\u001b[39mhttps://apidatos.ree.es/es/datos/generacion/\u001b[39m\u001b[39m{\u001b[39;00mendpoints\u001b[39m}\u001b[39;00m\u001b[39m?\u001b[39m\u001b[39m{\u001b[39;00mfechas\u001b[39m}\u001b[39;00m\u001b[39m&time_trunc=day\u001b[39m\u001b[39m\"\u001b[39m\n\u001b[0;32m----> 4\u001b[0m     response \u001b[39m=\u001b[39m requests\u001b[39m.\u001b[39mget(url)                   \u001b[39m#(url=f\"https://apidatos.ree.es/es/datos\", params=endpoints)\u001b[39;00m\n\u001b[1;32m      5\u001b[0m     \u001b[39mprint\u001b[39m(response\u001b[39m.\u001b[39mstatus_code)\n",
      "\u001b[0;31mNameError\u001b[0m: name 'requests' is not defined"
     ]
    }
   ],
   "source": [
    "fechas = [{\"start_date\":[\"2011-01-01T00:00\", \"2016-01-01T00:00\", \"2021-01-01T00:00\"], \"end_date\": [\"2015-12-31T23:59\", \"2020-12-31T23:59\", \"2022-12-31T23:59\"]}]\n",
    "for endpoint in lista_endpoints:\n",
    "    url = f\"https://apidatos.ree.es/es/datos/generacion/{endpoints}?{fechas}&time_trunc=day\"\n",
    "    response = requests.get(url)                   #(url=f\"https://apidatos.ree.es/es/datos\", params=endpoints)\n",
    "    print(response.status_code)"
   ]
  },
  {
   "cell_type": "code",
   "execution_count": null,
   "metadata": {},
   "outputs": [],
   "source": [
    "lista_endpoints = [\"https://apidatos.ree.es/es/datos/generacion/evolucion-renovable-no-renovable?start_date=2011-01-01T00:00&end_date=2015-12-31T23:59&time_trunc=day\", \"https://apidatos.ree.es/es/datos/generacion/evolucion-renovable-no-renovable?start_date=2016-01-01T00:00&end_date=2020-12-31T23:59&time_trunc=day\", \"https://apidatos.ree.es/es/datos/generacion/evolucion-renovable-no-renovable?start_date=2021-01-01T00:00&end_date=2022-12-31T23:59&time_trunc=day\"]\n",
    "for endpoints in lista_endpoints:\n",
    "    url = f\"https://apidatos.ree.es/es/datos/generacion//evolucion-renovable-no-renovable?{endpoints}\"\n",
    "    response = requests.get(url)\n",
    "    print(response.status_code)"
   ]
  },
  {
   "cell_type": "code",
   "execution_count": null,
   "metadata": {},
   "outputs": [],
   "source": [
    "lista_endpoints = [\"https://apidatos.ree.es/es/datos/generacion/evolucion-renovable-no-renovable?start_date=2011-01-01T00:00&end_date=2015-12-31T23:59&time_trunc=day\", \"https://apidatos.ree.es/es/datos/generacion/evolucion-renovable-no-renovable?start_date=2016-01-01T00:00&end_date=2020-12-31T23:59&time_trunc=day\", \"https://apidatos.ree.es/es/datos/generacion/evolucion-renovable-no-renovable?start_date=2021-01-01T00:00&end_date=2022-12-31T23:59&time_trunc=day\"]\n",
    "for endpoint in lista_endpoints:\n",
    "    url = f\"https://apidatos.ree.es/es/datos/generacion//evolucion-renovable-no-renovable?{endpoint}\"\n",
    "    response = requests.get(url)\n",
    "    print(response.status_code)\n",
    "    "
   ]
  },
  {
   "cell_type": "code",
   "execution_count": null,
   "metadata": {},
   "outputs": [],
   "source": [
    "# luego apilar columnas-concat\n"
   ]
  },
  {
   "cell_type": "markdown",
   "metadata": {},
   "source": [
    "2. Sacaremos la misma información que en el ejericio anterior, pero en este caso por CCAA. Para esto necesitaremos los códigos de cada una de las comunidades autónomas que encontraréis en el siguiente diccionario:"
   ]
  },
  {
   "cell_type": "code",
   "execution_count": 13,
   "metadata": {},
   "outputs": [],
   "source": [
    "dicc_ccaa = {\"region\":[\"Andalucía\", \"Aragón\", \"Cantabria\", \"Castilla la Mancha\", \"Castilla y León\", \"Cataluña\", \"País Vasco\", \"Principado de Asturias\", \"Comunidad de Ceuta\", \"Comunidad de Melilla\", \"Comunidad de Madrid\", \"Comunidad de Navarra\", \"Comunidad Valenciana\", \"Extremadura\", \"Galicia\", \"Islas Baleares\", \"Islas Canarias\", \"La Rioja\", \"Región de Murcia\"]}"
   ]
  },
  {
   "cell_type": "code",
   "execution_count": null,
   "metadata": {},
   "outputs": [],
   "source": [
    "dicc_ccaa_code =  {\"Andalucía\":\"4\", \"Aragón\":\"5\", \"Cantabria\":\"6\", \"Castilla la Mancha\":\"7\", \"Castilla y León\":\"8\", \"Cataluña\":\"9\", \"País Vasco\":\"10\", \"Principado de Asturias\":\"11\", \"Comunidad de Ceuta\":\"8744\", \"Comunidad de Melilla\":\"8745\", \"Comunidad de Madrid\":\"13\", \"Comunidad de Navarra\":\"14\", \"Comunidad Valenciana\":\"15\", \"Extremadura\":\"16\", \"Galicia\":\"17\", \"Islas Baleares\":\"8743\", \"Islas Canarias\":\"8742\", \"La Rioja\":\"20\", \"Región de Murcia\":\"21\"}"
   ]
  },
  {
   "cell_type": "code",
   "execution_count": null,
   "metadata": {},
   "outputs": [],
   "source": [
    "dicc3 = {\"region\":\"4\", \"5\", \"6\", \"7\", \"8\", \"9\", \"10\", \"11\", \"8744\", \"8745\", \"13\", \"14\", \"15\", \"16\", \"17\", \"8743\", \"8742\", \"20\", \"21\"}"
   ]
  },
  {
   "cell_type": "code",
   "execution_count": null,
   "metadata": {},
   "outputs": [],
   "source": [
    "dicc4 = {\"region\": 4, 5, 6, 7, 8, 9, 10, 11, 8744, 8745, 13, 14, 15, 16, 17, 8743, 8742, 20, 21}"
   ]
  },
  {
   "cell_type": "markdown",
   "metadata": {},
   "source": [
    "- Guardad los csv ya que mañana los seguiremos usando en los siguientes pairs."
   ]
  },
  {
   "cell_type": "code",
   "execution_count": null,
   "metadata": {},
   "outputs": [],
   "source": []
  }
 ],
 "metadata": {
  "kernelspec": {
   "display_name": "adalabenv",
   "language": "python",
   "name": "python3"
  },
  "language_info": {
   "codemirror_mode": {
    "name": "ipython",
    "version": 3
   },
   "file_extension": ".py",
   "mimetype": "text/x-python",
   "name": "python",
   "nbconvert_exporter": "python",
   "pygments_lexer": "ipython3",
   "version": "3.10.11"
  },
  "orig_nbformat": 4
 },
 "nbformat": 4,
 "nbformat_minor": 2
}
