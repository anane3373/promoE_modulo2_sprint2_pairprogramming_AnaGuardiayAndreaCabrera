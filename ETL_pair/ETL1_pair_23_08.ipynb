{
 "cells": [
  {
   "cell_type": "markdown",
   "metadata": {},
   "source": [
    "# ETL I Pair 23/08/23"
   ]
  },
  {
   "cell_type": "code",
   "execution_count": 1,
   "metadata": {},
   "outputs": [],
   "source": [
    "from IPython.core.interactiveshell import InteractiveShell \n",
    "InteractiveShell.ast_node_interactivity = \"all\" \n",
    "\n",
    "import requests\n",
    "import pandas as pd\n",
    "import numpy as np"
   ]
  },
  {
   "cell_type": "markdown",
   "metadata": {},
   "source": [
    "1. Nuestros jefes están especialmente interesados en los datos de generación de las energías renovables y no renovables a nivel nacional. En concreto, nos piden sacar toda la información para las fechas de 1 de Enero del 2011 hasta el 31 de Diciembre del 2022. De toda la información que tenemos de generación queremos la evolucion de renovable y no renovable. Además deberemos incluir una columna nueva identificando si el dato corresponde a energía renovable o no renovable. NOTA: nos piden que el código debe estar en una función. Al final deberemos tener un dataframe como el siguiente:"
   ]
  },
  {
   "cell_type": "code",
   "execution_count": 2,
   "metadata": {},
   "outputs": [
    {
     "data": {
      "text/plain": [
       "200"
      ]
     },
     "execution_count": 2,
     "metadata": {},
     "output_type": "execute_result"
    }
   ],
   "source": [
    "url_api = \"https://apidatos.ree.es/es/datos/generacion/evolucion-renovable-no-renovable?start_date=2011-01-01T00:00&end_date=2011-12-31T23:59&time_trunc=day\"\n",
    "response = requests.get(url=url_api)\n",
    "response.status_code"
   ]
  },
  {
   "cell_type": "code",
   "execution_count": 3,
   "metadata": {},
   "outputs": [
    {
     "data": {
      "text/plain": [
       "dict_keys(['data', 'included'])"
      ]
     },
     "execution_count": 3,
     "metadata": {},
     "output_type": "execute_result"
    },
    {
     "data": {
      "text/plain": [
       "list"
      ]
     },
     "execution_count": 3,
     "metadata": {},
     "output_type": "execute_result"
    },
    {
     "data": {
      "text/plain": [
       "2"
      ]
     },
     "execution_count": 3,
     "metadata": {},
     "output_type": "execute_result"
    },
    {
     "data": {
      "text/plain": [
       "dict_keys(['type', 'id', 'groupId', 'attributes'])"
      ]
     },
     "execution_count": 3,
     "metadata": {},
     "output_type": "execute_result"
    },
    {
     "data": {
      "text/plain": [
       "'Renovable'"
      ]
     },
     "execution_count": 3,
     "metadata": {},
     "output_type": "execute_result"
    },
    {
     "data": {
      "text/plain": [
       "dict_keys(['title', 'description', 'color', 'type', 'magnitude', 'composite', 'last-update', 'values'])"
      ]
     },
     "execution_count": 3,
     "metadata": {},
     "output_type": "execute_result"
    },
    {
     "data": {
      "text/plain": [
       "list"
      ]
     },
     "execution_count": 3,
     "metadata": {},
     "output_type": "execute_result"
    },
    {
     "data": {
      "text/plain": [
       "dict_keys(['value', 'percentage', 'datetime'])"
      ]
     },
     "execution_count": 3,
     "metadata": {},
     "output_type": "execute_result"
    },
    {
     "data": {
      "text/html": [
       "<div>\n",
       "<style scoped>\n",
       "    .dataframe tbody tr th:only-of-type {\n",
       "        vertical-align: middle;\n",
       "    }\n",
       "\n",
       "    .dataframe tbody tr th {\n",
       "        vertical-align: top;\n",
       "    }\n",
       "\n",
       "    .dataframe thead th {\n",
       "        text-align: right;\n",
       "    }\n",
       "</style>\n",
       "<table border=\"1\" class=\"dataframe\">\n",
       "  <thead>\n",
       "    <tr style=\"text-align: right;\">\n",
       "      <th></th>\n",
       "      <th>value</th>\n",
       "      <th>percentage</th>\n",
       "      <th>datetime</th>\n",
       "    </tr>\n",
       "  </thead>\n",
       "  <tbody>\n",
       "    <tr>\n",
       "      <th>0</th>\n",
       "      <td>182024.9820</td>\n",
       "      <td>0.290121</td>\n",
       "      <td>2011-01-01T00:00:00.000+01:00</td>\n",
       "    </tr>\n",
       "    <tr>\n",
       "      <th>1</th>\n",
       "      <td>265705.8895</td>\n",
       "      <td>0.387418</td>\n",
       "      <td>2011-01-02T00:00:00.000+01:00</td>\n",
       "    </tr>\n",
       "    <tr>\n",
       "      <th>2</th>\n",
       "      <td>249489.5735</td>\n",
       "      <td>0.295983</td>\n",
       "      <td>2011-01-03T00:00:00.000+01:00</td>\n",
       "    </tr>\n",
       "    <tr>\n",
       "      <th>3</th>\n",
       "      <td>270981.7130</td>\n",
       "      <td>0.310937</td>\n",
       "      <td>2011-01-04T00:00:00.000+01:00</td>\n",
       "    </tr>\n",
       "    <tr>\n",
       "      <th>4</th>\n",
       "      <td>379833.0150</td>\n",
       "      <td>0.452824</td>\n",
       "      <td>2011-01-05T00:00:00.000+01:00</td>\n",
       "    </tr>\n",
       "    <tr>\n",
       "      <th>...</th>\n",
       "      <td>...</td>\n",
       "      <td>...</td>\n",
       "      <td>...</td>\n",
       "    </tr>\n",
       "    <tr>\n",
       "      <th>360</th>\n",
       "      <td>154055.4800</td>\n",
       "      <td>0.199828</td>\n",
       "      <td>2011-12-27T00:00:00.000+01:00</td>\n",
       "    </tr>\n",
       "    <tr>\n",
       "      <th>361</th>\n",
       "      <td>199755.3925</td>\n",
       "      <td>0.258876</td>\n",
       "      <td>2011-12-28T00:00:00.000+01:00</td>\n",
       "    </tr>\n",
       "    <tr>\n",
       "      <th>362</th>\n",
       "      <td>306070.1190</td>\n",
       "      <td>0.387523</td>\n",
       "      <td>2011-12-29T00:00:00.000+01:00</td>\n",
       "    </tr>\n",
       "    <tr>\n",
       "      <th>363</th>\n",
       "      <td>268552.8560</td>\n",
       "      <td>0.343830</td>\n",
       "      <td>2011-12-30T00:00:00.000+01:00</td>\n",
       "    </tr>\n",
       "    <tr>\n",
       "      <th>364</th>\n",
       "      <td>261727.7615</td>\n",
       "      <td>0.371335</td>\n",
       "      <td>2011-12-31T00:00:00.000+01:00</td>\n",
       "    </tr>\n",
       "  </tbody>\n",
       "</table>\n",
       "<p>365 rows × 3 columns</p>\n",
       "</div>"
      ],
      "text/plain": [
       "           value  percentage                       datetime\n",
       "0    182024.9820    0.290121  2011-01-01T00:00:00.000+01:00\n",
       "1    265705.8895    0.387418  2011-01-02T00:00:00.000+01:00\n",
       "2    249489.5735    0.295983  2011-01-03T00:00:00.000+01:00\n",
       "3    270981.7130    0.310937  2011-01-04T00:00:00.000+01:00\n",
       "4    379833.0150    0.452824  2011-01-05T00:00:00.000+01:00\n",
       "..           ...         ...                            ...\n",
       "360  154055.4800    0.199828  2011-12-27T00:00:00.000+01:00\n",
       "361  199755.3925    0.258876  2011-12-28T00:00:00.000+01:00\n",
       "362  306070.1190    0.387523  2011-12-29T00:00:00.000+01:00\n",
       "363  268552.8560    0.343830  2011-12-30T00:00:00.000+01:00\n",
       "364  261727.7615    0.371335  2011-12-31T00:00:00.000+01:00\n",
       "\n",
       "[365 rows x 3 columns]"
      ]
     },
     "execution_count": 3,
     "metadata": {},
     "output_type": "execute_result"
    }
   ],
   "source": [
    "# response.reason\n",
    "response.json().keys()\n",
    "type(response.json()['included'])\n",
    "len(response.json()['included']) # el dicc \"included\" tiene otros 2 diccionarios, uno para el type 'Renovable' y otro para el type 'No Renovable'\n",
    "response.json()['included'][0].keys()\n",
    "response.json()['included'][0]['type']\n",
    "response.json()['included'][0]['attributes'].keys()\n",
    "type(response.json()['included'][0]['attributes']['values'])\n",
    "response.json()['included'][0]['attributes']['values'][0].keys()\n",
    "\n",
    "response_data = response.json()['included']\n",
    "renovable = response_data[0]\n",
    "df = pd.json_normalize(renovable['attributes']['values'])\n",
    "# df[\"tipo_energia\"] = renovable['attributes']['type']\n",
    "df"
   ]
  },
  {
   "cell_type": "code",
   "execution_count": 4,
   "metadata": {},
   "outputs": [],
   "source": [
    "def sacar_info_energia():\n",
    "    df_final = pd.DataFrame() # DataFrame vacío dónde vamos a almacenar la información\n",
    "    for year in range(2011, 2023): # Loop para recoger desde 2011 - 2022\n",
    "        url = f\"https://apidatos.ree.es/es/datos/generacion/evolucion-renovable-no-renovable?start_date={year}-01-01T00:00&end_date={year}-12-31T23:59&time_trunc=day\" # URL formateada para cada año\n",
    "        response = requests.get(url=url) # Petición de la información\n",
    "        status_code = response.status_code # Respuesta de la petición\n",
    "                \n",
    "        if status_code == 200: # Si la petición devuelve un 200, vamos generando la información\n",
    "            response_data = response.json()['included'] # La información se encuentra dentro de la key 'included'\n",
    "            len_response_data = len(response_data) # Queremos saber cuántos elementos tiene la lista de dicc dentro de 'included'\n",
    "            \n",
    "            for i in range(len_response_data): # Recorremos cada elemento que hay en la lista 'response_data'. En este caso, hay 2 elementos.\n",
    "                attributes_data = response_data[i]['attributes'] # Obtenemos el diccionario de la key 'attribute' para cada elemento de la lista (i)\n",
    "                type_energy = attributes_data['type'] # Obtenemos el valor de la key 'type' (Renovable | No renovable)\n",
    "                values_data = attributes_data['values'] # Obtenemos los valores de la key 'values' ('value', 'percentage' y 'datetime')\n",
    "                df = pd.json_normalize(values_data) # Generamos el DataFrame con los valores normalizados de la key 'values'\n",
    "                df[\"tipo_energia\"] = type_energy # Añadimos la columna 'tipo_energia' con el valor de la key 'type'\n",
    "                df_final = pd.concat([df_final, df], axis = 0) # Añadimos la información generada al DataFrame final que vamos a devolver\n",
    "        else: # Si no devuelve un 200, no queremos hacer nada\n",
    "            continue\n",
    "    return df_final.reset_index(drop = True) # Devolvemos el DataFrame con la información obtenida\n",
    "\n",
    "df = sacar_info_energia()"
   ]
  },
  {
   "cell_type": "markdown",
   "metadata": {},
   "source": [
    "2. Sacaremos la misma información que en el ejericio anterior, pero en este caso por CCAA. Para esto necesitaremos los códigos de cada una de las comunidades autónomas que encontraréis en el siguiente diccionario:"
   ]
  },
  {
   "cell_type": "code",
   "execution_count": 5,
   "metadata": {},
   "outputs": [],
   "source": [
    "cod_comunidades = {\n",
    "    'Ceuta': 8744,\n",
    "    'Melilla': 8745,\n",
    "    'Andalucía': 4,\n",
    "    'Aragón': 5,\n",
    "    'Cantabria': 6,\n",
    "    'Castilla - La Mancha': 7,\n",
    "    'Castilla y León': 8,\n",
    "    'Cataluña': 9,\n",
    "    'País Vasco': 10,\n",
    "    'Principado de Asturias': 11,\n",
    "    'Comunidad de Madrid': 13,\n",
    "    'Comunidad Foral de Navarra': 14,\n",
    "    'Comunitat Valenciana': 15,\n",
    "    'Extremadura': 16,\n",
    "    'Galicia': 17,\n",
    "    'Illes Balears': 8743,\n",
    "    'Canarias': 8742,\n",
    "    'Región de Murcia': 21,\n",
    "    'La Rioja': 20\n",
    "}"
   ]
  },
  {
   "cell_type": "code",
   "execution_count": 6,
   "metadata": {},
   "outputs": [
    {
     "name": "stdout",
     "output_type": "stream",
     "text": [
      "Ceuta 8744\n",
      "Melilla 8745\n",
      "Andalucía 4\n",
      "Aragón 5\n",
      "Cantabria 6\n",
      "Castilla - La Mancha 7\n",
      "Castilla y León 8\n",
      "Cataluña 9\n",
      "País Vasco 10\n",
      "Principado de Asturias 11\n",
      "Comunidad de Madrid 13\n",
      "Comunidad Foral de Navarra 14\n",
      "Comunitat Valenciana 15\n",
      "Extremadura 16\n",
      "Galicia 17\n",
      "Illes Balears 8743\n",
      "Canarias 8742\n",
      "Región de Murcia 21\n",
      "La Rioja 20\n"
     ]
    }
   ],
   "source": [
    "# Prueba For Loop Comunidades\n",
    "for k,v in cod_comunidades.items():\n",
    "    print(k,v)"
   ]
  },
  {
   "cell_type": "code",
   "execution_count": 7,
   "metadata": {},
   "outputs": [],
   "source": [
    "def sacar_info_energia_ccaa(ccaa):\n",
    "    df_final = pd.DataFrame() # DataFrame vacío dónde vamos a almacenar la información\n",
    "    for year in range(2011, 2023): # Loop para recoger desde 2011 - 2022\n",
    "        for k_nombre_ccaa, v_id_ccaa in ccaa.items():\n",
    "            url = f\"https://apidatos.ree.es/es/datos/generacion/evolucion-renovable-no-renovable?start_date={year}-01-01T00:00&end_date={year}-12-31T23:59&time_trunc=day&geo_limit=ccaa&geo_ids={v_id_ccaa}\" # URL formateada para cada año\n",
    "            response = requests.get(url=url) # Petición de la información\n",
    "            status_code = response.status_code # Respuesta de la petición\n",
    "            \n",
    "            if status_code == 200: # Si la petición devuelve un 200, vamos generando la información\n",
    "                response_data = response.json()['included'] # La información se encuentra dentro de la key 'included'\n",
    "                len_response_data = len(response_data) # Queremos saber cuántos elementos tiene la lista de dicc dentro de 'included'\n",
    "                \n",
    "                for i in range(len_response_data): # Recorremos cada elemento que hay en la lista 'response_data'. En este caso, hay 2 elementos.\n",
    "                    attributes_data = response_data[i]['attributes'] # Obtenemos el diccionario de la key 'attribute' para cada elemento de la lista (i)\n",
    "                    type_energy = attributes_data['type'] # Obtenemos el valor de la key 'type' (Renovable | No renovable)\n",
    "                    values_data = attributes_data['values'] # Obtenemos los valores de la key 'values' ('value', 'percentage' y 'datetime')\n",
    "                    df = pd.json_normalize(values_data) # Generamos el DataFrame con los valores normalizados de la key 'values'\n",
    "                    df[\"tipo_energia\"] = type_energy # Añadimos la columna 'tipo_energia' con el valor de la key 'type'\n",
    "                    df[\"comunidad\"] = k_nombre_ccaa # Añadimos el nombre de la Comunidad Autónoma\n",
    "                    df[\"id_comunidad\"] = v_id_ccaa # Añadimos el ID de la Comunidad Autónoma\n",
    "                    df_final = pd.concat([df_final, df], axis = 0) # Añadimos la información generada al DataFrame final que vamos a devolver\n",
    "            else: # Si no devuelve un 200, no queremos hacer nada\n",
    "                continue\n",
    "    return df_final.reset_index(drop = True) # Devolvemos el DataFrame con la información obtenida\n",
    "\n",
    "df_ccaa = sacar_info_energia_ccaa(cod_comunidades)"
   ]
  },
  {
   "cell_type": "markdown",
   "metadata": {},
   "source": [
    "- Guardad los csv ya que mañana los seguiremos usando en los siguientes pairs."
   ]
  },
  {
   "cell_type": "code",
   "execution_count": 8,
   "metadata": {},
   "outputs": [],
   "source": [
    "df.to_csv(\"data/pairETL1_datos_energia_nacional.csv\")\n",
    "df_ccaa.to_csv(\"data/pairETL1_datos_energia_ccaa.csv\")"
   ]
  }
 ],
 "metadata": {
  "kernelspec": {
   "display_name": "adalabenv",
   "language": "python",
   "name": "python3"
  },
  "language_info": {
   "codemirror_mode": {
    "name": "ipython",
    "version": 3
   },
   "file_extension": ".py",
   "mimetype": "text/x-python",
   "name": "python",
   "nbconvert_exporter": "python",
   "pygments_lexer": "ipython3",
   "version": "3.10.11"
  },
  "orig_nbformat": 4
 },
 "nbformat": 4,
 "nbformat_minor": 2
}
